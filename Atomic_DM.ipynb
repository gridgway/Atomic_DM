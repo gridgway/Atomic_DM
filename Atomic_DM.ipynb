{
 "cells": [
  {
   "cell_type": "markdown",
   "metadata": {},
   "source": [
    "# Exploring Modifications to TLA"
   ]
  },
  {
   "cell_type": "code",
   "execution_count": 4,
   "metadata": {},
   "outputs": [
    {
     "name": "stdout",
     "output_type": "stream",
     "text": [
      "The autoreload extension is already loaded. To reload it, use:\n",
      "  %reload_ext autoreload\n"
     ]
    }
   ],
   "source": [
    "%load_ext autoreload\n",
    "import sys\n",
    "sys.path.append(\"/Users/gregoryridgway/Desktop/DM/DH/DarkHistory/\")"
   ]
  },
  {
   "cell_type": "markdown",
   "metadata": {},
   "source": [
    "# Notebook Initialization"
   ]
  },
  {
   "cell_type": "code",
   "execution_count": 5,
   "metadata": {},
   "outputs": [],
   "source": [
    "%autoreload\n",
    "%matplotlib inline\n",
    "\n",
    "import matplotlib\n",
    "import matplotlib.pyplot as plt\n",
    "\n",
    "matplotlib.rcParams['figure.figsize'] = [10,10]\n",
    "\n",
    "matplotlib.rcParams['text.usetex'] = True\n",
    "matplotlib.rcParams[\"font.family\"] = \"STIXGeneral\"\n",
    "matplotlib.rcParams[\"mathtext.fontset\"] = \"stix\"\n",
    "\n",
    "matplotlib.rcParams['axes.titlepad'] = 15\n",
    "matplotlib.rcParams['axes.titlesize'] = 36\n",
    "matplotlib.rcParams['axes.labelsize'] = 28\n",
    "matplotlib.rcParams['axes.linewidth'] = 2\n",
    "matplotlib.rcParams['axes.formatter.min_exponent'] = 2\n",
    "\n",
    "\n",
    "matplotlib.rcParams['xtick.top'] = True\n",
    "matplotlib.rcParams['xtick.bottom'] = True\n",
    "matplotlib.rcParams['xtick.major.size'] = 10\n",
    "matplotlib.rcParams['xtick.major.width'] = 2\n",
    "matplotlib.rcParams['xtick.minor.size'] = 3\n",
    "matplotlib.rcParams['xtick.minor.width'] = 1\n",
    "matplotlib.rcParams['xtick.labelsize'] = 24\n",
    "matplotlib.rcParams['xtick.direction'] = 'in'\n",
    "\n",
    "matplotlib.rcParams['ytick.left'] = True\n",
    "matplotlib.rcParams['ytick.right'] = True\n",
    "matplotlib.rcParams['ytick.major.size'] = 10\n",
    "matplotlib.rcParams['ytick.major.width'] = 2\n",
    "matplotlib.rcParams['ytick.minor.size'] = 3\n",
    "matplotlib.rcParams['ytick.minor.width'] = 1\n",
    "matplotlib.rcParams['ytick.labelsize'] = 24\n",
    "matplotlib.rcParams['ytick.direction'] = 'in'\n",
    "\n",
    "matplotlib.rcParams['lines.linewidth'] = 2.5\n",
    "\n",
    "matplotlib.rcParams['legend.fontsize'] = 24\n",
    "\n",
    "import pickle\n",
    "import numpy as np\n",
    "# np.set_printoptions(threshold=np.nan)\n",
    "\n",
    "import darkhistory.physics as phys\n",
    "from scipy.integrate import odeint\n",
    "from scipy.interpolate import interp1d\n",
    "from scipy.interpolate import interp2d\n",
    "from scipy.integrate import quad\n",
    "import scipy.special\n",
    "\n",
    "from scipy.interpolate import RegularGridInterpolator\n",
    "import darkhistory.history.dark_tla as dark_tla\n",
    "import darkhistory.history.tla as tla\n",
    "\n",
    "from tqdm import tqdm_notebook as tqdm"
   ]
  },
  {
   "cell_type": "markdown",
   "metadata": {},
   "source": [
    "# Atomic Constants"
   ]
  },
  {
   "cell_type": "code",
   "execution_count": 6,
   "metadata": {},
   "outputs": [],
   "source": [
    "# From Kim and Vivian's paper, Fig. 5 top panel\n",
    "f_vs_mDM = scipy.interpolate.interp1d(\n",
    "    np.array([.2,.5,1,2,5,10,30]), np.array([5e-5,1e-4,2e-4,5e-4,1e-3,2e-3,4e-3])#, bounds_error=False, fill_value=(5e-5,datums[-1,1])\n",
    ")"
   ]
  },
  {
   "cell_type": "code",
   "execution_count": 7,
   "metadata": {},
   "outputs": [],
   "source": [
    "# For improved stability, find the point where \n",
    "# Saha equilibrium predicts xe ~ 99%\n",
    "def find_rs_start(alphaD, m_be, m_bp, xi, verbose = False):\n",
    "    # I would to find the redshift at which x_e is between these two values\n",
    "    lower_xe = .99\n",
    "    upper_xe = .999\n",
    "\n",
    "    # My initial guess for that redshift, and the x_e at that redshift\n",
    "    rs_start = 1e4\n",
    "    x_be = dark_tla.x_be_Saha(rs_start, alphaD, m_be, m_bp, xi)\n",
    "\n",
    "    # Double or halve the redshift\n",
    "    log_step = 2\n",
    "\n",
    "    iterate=0\n",
    "    while x_be<lower_xe or x_be>upper_xe:\n",
    "        iterate += 1\n",
    "        if x_be<lower_xe:\n",
    "            rs_start *= log_step\n",
    "            x_be = dark_tla.x_be_Saha(rs_start, alphaD, m_be, m_bp, xi)\n",
    "\n",
    "            #overstepped the bounds\n",
    "            if x_be>upper_xe:\n",
    "                log_step -= np.log10(log_step)\n",
    "\n",
    "        elif x_be>upper_xe:\n",
    "            rs_start /= log_step\n",
    "            x_be = dark_tla.x_be_Saha(rs_start, alphaD, m_be, m_bp, xi)\n",
    "\n",
    "            #overstepped the bounds\n",
    "            if x_be<lower_xe:\n",
    "                log_step -= np.log10(log_step)\n",
    "    if verbose:\n",
    "        print('redshift:', rs)\n",
    "        print('x_be: ', x_be)\n",
    "        print('iterations: ', iterate)\n",
    "        \n",
    "    return rs_start"
   ]
  },
  {
   "cell_type": "markdown",
   "metadata": {},
   "source": [
    "### Cross-Checks"
   ]
  },
  {
   "cell_type": "markdown",
   "metadata": {},
   "source": [
    "1. TLA can reproduce the SM result."
   ]
  },
  {
   "cell_type": "code",
   "execution_count": 8,
   "metadata": {},
   "outputs": [],
   "source": [
    "%autoreload\n",
    "rs_list = 10**np.arange(3.477,0,-.01)\n",
    "history0 = tla.get_history(rs_list, reion_switch=False)\n",
    "\n",
    "alphaD, m_be, m_bp, xi = phys.alpha, phys.me, phys.mp, 1.0\n",
    "rs_start = find_rs_start(alphaD, m_be, m_bp, xi)\n",
    "\n",
    "rs_list_DM = 10**np.arange(np.log10(rs_start),np.log10(1),-1e-3)\n",
    "dark_history = dark_tla.get_history(\n",
    "    rs_list_DM,alphaD=alphaD, m_be=m_be, m_bp=m_bp, xi=xi, eps=0\n",
    ")"
   ]
  },
  {
   "cell_type": "code",
   "execution_count": 9,
   "metadata": {},
   "outputs": [
    {
     "name": "stdout",
     "output_type": "stream",
     "text": [
      "!!! The difference is resolved when we set n_DM = n_H\n"
     ]
    },
    {
     "data": {
      "text/plain": [
       "[None, None]"
      ]
     },
     "execution_count": 9,
     "metadata": {},
     "output_type": "execute_result"
    },
    {
     "data": {
      "image/png": "[encoded data removed]",
      "text/plain": [
       "<Figure size 1584x612 with 2 Axes>"
      ]
     },
     "metadata": {
      "needs_background": "light"
     },
     "output_type": "display_data"
    }
   ],
   "source": [
    "plt.figure(figsize=(22,8.5))\n",
    "print('!!! The difference is resolved when we set n_DM = n_H')\n",
    "\n",
    "plt.subplot(1, 2, 1)\n",
    "plt.plot(rs_list_DM, phys.TCMB(rs_list_DM), color='k', linestyle='--', label='CMB')\n",
    "plt.plot(rs_list, history0[:,0], label='baryons')\n",
    "plt.plot(rs_list_DM, dark_history[:,0], label='DM')\n",
    "plt.xlabel(r'Redshift, $1+z$')\n",
    "plt.ylabel(r'Temperature, $T$ [eV]')\n",
    "plt.title('Temperature History')\n",
    "plt.loglog()\n",
    "plt.legend()\n",
    "\n",
    "plt.subplot(1, 2, 2)\n",
    "plt.plot(rs_list, history0[:,1], label='baryons')\n",
    "plt.plot(rs_list_DM, dark_history[:,1], label='DM')#, linestyle='--')\n",
    "# plt.axis([0.1,1e11, 1e-12,1.5])\n",
    "plt.xlabel(r'Redshift, $1+z$')\n",
    "plt.ylabel(r'HII Ionization Level, $x_{HII}$')\n",
    "plt.title('Ionization History')\n",
    "plt.loglog()\n",
    "# plt.xticks(10.0**np.arange(0,12,2))\n",
    "# plt.yticks(10.0**np.arange(-11,1,2))\n",
    "leg = plt.legend(fontsize=24)\n",
    "plt.setp(leg.get_title(),fontsize=24)"
   ]
  },
  {
   "cell_type": "markdown",
   "metadata": {},
   "source": [
    "2. Can reproduce Cyr-Racine's Fig. 5 left panel"
   ]
  },
  {
   "cell_type": "code",
   "execution_count": 10,
   "metadata": {},
   "outputs": [],
   "source": [
    "import csv\n",
    "xe_hist_data = []\n",
    "with open('/Users/gregoryridgway/Desktop/Webplot Digitizer/Atomic/example_history.csv') as csvfile:\n",
    "    reader = csv.reader(csvfile)\n",
    "    for row in reader:\n",
    "         xe_hist_data.append([float(row[0]),float(row[1])])\n",
    "xe_hist_data = np.array(xe_hist_data)\n",
    "\n",
    "Tm_hist_data = []\n",
    "with open('/Users/gregoryridgway/Desktop/Webplot Digitizer/Atomic/T_m_hist.csv') as csvfile:\n",
    "    reader = csv.reader(csvfile)\n",
    "    for row in reader:\n",
    "         Tm_hist_data.append([float(row[0]),float(row[1])])\n",
    "Tm_hist_data = np.array(Tm_hist_data)"
   ]
  },
  {
   "cell_type": "code",
   "execution_count": 11,
   "metadata": {
    "scrolled": true
   },
   "outputs": [],
   "source": [
    "%autoreload\n",
    "\n",
    "rs_list = 10**np.arange(3.477,0,-.01)\n",
    "history0 = tla.get_history(rs_list, reion_switch=False)\n",
    "\n",
    "m_be, m_bp, xi, alphaD = 438585716, 581414284, 0.2, 0.4\n",
    "rs_start = find_rs_start(alphaD, m_be, m_bp, xi)\n",
    "\n",
    "log_rs_list_DM = np.arange(np.log(rs_start),0,-.001)\n",
    "rs_list_DM = np.exp(log_rs_list_DM)\n",
    "dark_history = dark_tla.get_history(\n",
    "    rs_list_DM, alphaD=alphaD, m_be=m_be, m_bp=m_bp, xi=xi,\n",
    "    rtol = 1e-6\n",
    ")"
   ]
  },
  {
   "cell_type": "code",
   "execution_count": 12,
   "metadata": {
    "scrolled": false
   },
   "outputs": [
    {
     "data": {
      "text/plain": [
       "[None, None]"
      ]
     },
     "execution_count": 12,
     "metadata": {},
     "output_type": "execute_result"
    },
    {
     "data": {
      "image/png": "[encoded data removed]",
      "text/plain": [
       "<Figure size 1584x612 with 2 Axes>"
      ]
     },
     "metadata": {
      "needs_background": "light"
     },
     "output_type": "display_data"
    }
   ],
   "source": [
    "plt.figure(figsize=(22,8.5))\n",
    "\n",
    "plt.subplot(1, 2, 1)\n",
    "plt.plot(rs_list_DM, phys.TCMB(rs_list_DM), color='k', linestyle='--', label='CMB')\n",
    "plt.plot(rs_list, history0[:,0], label='baryons')\n",
    "plt.plot(rs_list_DM, dark_history[:,0], label='DM')\n",
    "plt.plot(Tm_hist_data[:,0]+1, Tm_hist_data[:,1], label='Cyr-Racine')\n",
    "plt.xlabel(r'Redshift, $1+z$')\n",
    "plt.ylabel(r'Temperature, $T_m$ [eV]')\n",
    "plt.title('Temperature History')\n",
    "# plt.axvline(2e8)\n",
    "plt.loglog()\n",
    "plt.legend()\n",
    "\n",
    "\n",
    "plt.subplot(1, 2, 2)\n",
    "plt.plot(rs_list, history0[:,1], label='baryons')\n",
    "plt.plot(rs_list_DM, dark_history[:,1], label='DM')#, linestyle='--')\n",
    "plt.plot(xe_hist_data[:,0]+1, xe_hist_data[:,1], label='Cyr-Racine')\n",
    "plt.axis([0.1,1e11, 1e-12,1.5])\n",
    "plt.xlabel(r'Redshift, $1+z$')\n",
    "plt.ylabel(r'HII Ionization Level, $x_{HII}$')\n",
    "plt.title('Ionization History')\n",
    "plt.loglog()\n",
    "plt.xticks(10.0**np.arange(0,12,2))\n",
    "plt.yticks(10.0**np.arange(-11,1,2))\n",
    "leg = plt.legend(fontsize=24)\n",
    "#leg.set_title(r'$\\,(\\, \\alpha_D,\\;\\;\\;$ $m_{\\textbf{e}}, \\qquad$ $m_{\\textbf{p}}, \\;\\;\\;\\,$ $\\xi$) \\\\='\n",
    "leg.set_title(r'$\\,(\\, \\alpha_D,\\;\\;\\;$ $m_{D}, \\qquad$ $B_D, \\;\\;\\;\\,$ $\\xi$) \\\\='\n",
    "           +' (0.4, 1GeV, 20MeV, 0.2)')\n",
    "plt.setp(leg.get_title(),fontsize=24)\n",
    "# plt.savefig('/Users/gregoryridgway/Dropbox (MIT)/Atomic DM/figs/mbe_mbp_30MeV_alphaD_4e-3_xi_2e-1.png')"
   ]
  },
  {
   "cell_type": "markdown",
   "metadata": {},
   "source": [
    "3. Fig. 4 top panel.  Do I get Rayleigh, brem, ion, exc correct?"
   ]
  },
  {
   "cell_type": "code",
   "execution_count": 13,
   "metadata": {},
   "outputs": [],
   "source": [
    "%autoreload\n",
    "B_D = dark_tla.get_BD(alphaD, m_be, m_bp)\n",
    "m_D = m_be + m_bp - B_D\n",
    "n_D = phys.rho_DM/m_D * rs_list_DM**3\n",
    "T_DM = dark_history[:,0]\n",
    "x_be = dark_history[:,1]\n",
    "T_D = phys.TCMB(rs_list_DM)*xi\n",
    "eps = 1-T_DM/T_D\n",
    "\n",
    "funcs = {'comp': dark_tla.norm_compton_cooling_rate, \n",
    "         'R': dark_tla.Gam_R, 'ff': dark_tla.Gam_ff, \n",
    "         'pr': dark_tla.Gam_pr, 'pi': dark_tla.Gam_pi}\n",
    "\n",
    "rates = {}\n",
    "for key in funcs:\n",
    "    rates[key] = funcs[key](x_be, T_DM, rs_list_DM, alphaD, m_be, m_bp, xi)"
   ]
  },
  {
   "cell_type": "code",
   "execution_count": 14,
   "metadata": {},
   "outputs": [
    {
     "data": {
      "text/plain": [
       "<matplotlib.legend.Legend at 0x12e45df50>"
      ]
     },
     "execution_count": 14,
     "metadata": {},
     "output_type": "execute_result"
    },
    {
     "data": {
      "image/png": "[encoded data removed]",
      "text/plain": [
       "<Figure size 597.6x518.4 with 1 Axes>"
      ]
     },
     "metadata": {
      "needs_background": "light"
     },
     "output_type": "display_data"
    }
   ],
   "source": [
    "sub = 0.07\n",
    "plt.figure(figsize=(8.3,7.2))\n",
    "plt.loglog()\n",
    "ax=plt.gca()\n",
    "plt.axis([.1, 4e10, 1e-40,1e18])\n",
    "plt.yticks(10.0**np.arange(-40,20,10))\n",
    "plt.xticks(10.0**np.arange(0,12,2))\n",
    "\n",
    "plt.plot(rs_list_DM-1, phys.hubble(rs_list_DM), color='red', linestyle='--', label='Hubble Rate')\n",
    "plt.plot(rs_list_DM-1, rates['comp'], color='k', label='Compton Rate')\n",
    "plt.plot(rs_list_DM-1, rates['pr'], color='blue', linestyle='--', linewidth=1.2, label='Photo-Rec Cooling')\n",
    "plt.plot(rs_list_DM-1, rates['ff'], color='g', linestyle=':', linewidth=1.2, label='Free-Free Cooling')\n",
    "plt.plot(rs_list_DM-1, rates['R'], color='purple', linestyle=':', label='Rayleigh Heating')\n",
    "\n",
    "plt.ylabel(r'Rates [s$^{-1}$]')\n",
    "plt.xlabel(r'Redshift $z$')\n",
    "# plt.axvline(8644365919.523441, color='k', linestyle='--', linewidth=1.0)\n",
    "plt.text(0.2, 0.9, r'$\\xi=0.2$', fontsize=16, transform=ax.transAxes)\n",
    "plt.text(0.2, 0.9-sub, r'$\\alpha_D=0.4$', fontsize=16, transform=ax.transAxes)\n",
    "plt.text(0.2, 0.9-2*sub, r'$B_D=20$ MeV', fontsize=16, transform=ax.transAxes)\n",
    "plt.text(0.2, 0.9-3*sub, r'$m_D=1$ GeV', fontsize=16, transform=ax.transAxes)\n",
    "\n",
    "plt.legend(fontsize=15, loc=4)"
   ]
  },
  {
   "cell_type": "markdown",
   "metadata": {},
   "source": [
    "## TLA calculation, $\\epsilon=0$"
   ]
  },
  {
   "cell_type": "code",
   "execution_count": 11,
   "metadata": {},
   "outputs": [],
   "source": [
    "%autoreload\n",
    "alphaD = phys.alpha#3e-3\n",
    "m_be   = phys.me#3e7\n",
    "m_bp   = phys.mp#m_be\n",
    "xi     = 1#0.6\n",
    "\n",
    "#alpha_list = 10**np.arange(-3.2,-1.9,.089)\n",
    "#xi_list = 10**np.arange(-2,0,.1)\n",
    "m_be   = 5e9  #438585716#3e7\n",
    "m_bp   = m_be #581414284\n",
    "xi     = 0.5#.2 #0.072 #.1\n",
    "alphaD = 0.03#4e-3 #7e-4 #1e-3\n",
    "\n",
    "rs_start = find_rs_start(alphaD, m_be, m_bp, xi)\n",
    "\n",
    "rs_list_DM = 10**np.arange(np.log10(rs_start),np.log10(1),-.001)\n",
    "dark_history = dark_tla.get_history(\n",
    "    rs_list_DM,\n",
    "    alphaD=alphaD, m_be=m_be, m_bp=m_bp, xi=xi, eps=0\n",
    ")"
   ]
  },
  {
   "cell_type": "code",
   "execution_count": 9,
   "metadata": {},
   "outputs": [],
   "source": [
    "%autoreload\n",
    "rs_list = 10**np.arange(3.477,0,-.01)\n",
    "history0 = tla.get_history(rs_list, reion_switch=False)"
   ]
  },
  {
   "cell_type": "code",
   "execution_count": 13,
   "metadata": {},
   "outputs": [
    {
     "data": {
      "text/plain": [
       "0.0031414245151228626"
      ]
     },
     "execution_count": 13,
     "metadata": {},
     "output_type": "execute_result"
    }
   ],
   "source": [
    "np.sqrt(np.pi/phys.me) * phys.mp / (\n",
    "    30 * phys.nH / (phys.hbar*phys.c)**3)"
   ]
  },
  {
   "cell_type": "code",
   "execution_count": 14,
   "metadata": {},
   "outputs": [
    {
     "data": {
      "text/plain": [
       "0.0038257671427241197"
      ]
     },
     "execution_count": 14,
     "metadata": {},
     "output_type": "execute_result"
    }
   ],
   "source": [
    "np.sqrt(2/np.pi/phys.me**7)*phys.mp*phys.TCMB(1)**3/(\n",
    "16*45 * phys.nH * (phys.hbar*phys.c)**3)*(2*np.pi)**2"
   ]
  },
  {
   "cell_type": "code",
   "execution_count": 16,
   "metadata": {},
   "outputs": [],
   "source": [
    "# stuff = np.sqrt(np.pi/phys.me) * phys.mp / (\n",
    "#     30 * phys.nH * (phys.hbar*phys.c)**3 * rs_list**3)\n",
    "# plt.figure()\n",
    "# plt.plot(rs_list, stuff*phys.TCMB(rs_list)**(5/2)/history0[:,1]/16)"
   ]
  },
  {
   "cell_type": "code",
   "execution_count": 17,
   "metadata": {
    "scrolled": false
   },
   "outputs": [
    {
     "data": {
      "text/plain": [
       "[None, None]"
      ]
     },
     "execution_count": 17,
     "metadata": {},
     "output_type": "execute_result"
    },
    {
     "data": {
      "image/png": "[encoded data removed]",
      "text/plain": [
       "<Figure size 1584x612 with 2 Axes>"
      ]
     },
     "metadata": {
      "needs_background": "light"
     },
     "output_type": "display_data"
    }
   ],
   "source": [
    "plt.figure(figsize=(22,8.5))\n",
    "\n",
    "plt.subplot(1, 2, 1)\n",
    "plt.plot(rs_list_DM, phys.TCMB(rs_list_DM), color='k', linestyle='--', label='CMB')\n",
    "plt.plot(rs_list, history0[:,0], label='baryons')\n",
    "plt.plot(rs_list_DM, dark_history[:,0], label='dark e,p')\n",
    "plt.plot(rs_list_DM, dark_history[0,0]*(rs_list_DM/rs_list_DM[0])**2, label='dark atom???')\n",
    "# plt.plot(Tm_hist_data[:,0]+1, Tm_hist_data[:,1], label='Cyr-Racine')\n",
    "plt.xlabel(r'Redshift, $1+z$')\n",
    "plt.ylabel(r'Temperature, $T_m$ [eV]')\n",
    "plt.title('Temperature History')\n",
    "plt.loglog()\n",
    "plt.legend()\n",
    "\n",
    "\n",
    "plt.subplot(1, 2, 2)\n",
    "plt.plot(rs_list, history0[:,1], label='baryons')\n",
    "plt.plot(rs_list_DM, dark_history[:,1], label='DM')#, linestyle='--')\n",
    "# plt.plot(xe_hist_data[:,0]+1, xe_hist_data[:,1], label='Cyr-Racine')\n",
    "plt.axis([0.1,1e11, 1e-12,1.5])\n",
    "plt.xlabel(r'Redshift, $1+z$')\n",
    "plt.ylabel(r'HII Ionization Level, $x_{HII}$')\n",
    "plt.title('Ionization History')\n",
    "plt.loglog()\n",
    "plt.xticks(10.0**np.arange(0,12,2))\n",
    "plt.yticks(10.0**np.arange(-11,1,2))\n",
    "leg = plt.legend(fontsize=24)\n",
    "#leg.set_title(r'$\\,(\\, \\alpha_D,\\;\\;\\;$ $m_{\\textbf{e}}, \\qquad$ $m_{\\textbf{p}}, \\;\\;\\;\\,$ $\\xi$) \\\\='\n",
    "leg.set_title(r'$\\,(\\, \\alpha_D,\\;\\;\\;$ $m_{D}, \\qquad$ $B_D, \\;\\;\\;\\,$ $\\xi$) \\\\='\n",
    "           +' (0.4, 1GeV, 20MeV, 0.2)')\n",
    "plt.setp(leg.get_title(),fontsize=24)\n",
    "# plt.savefig('/Users/gregoryridgway/Dropbox (MIT)/Atomic DM/figs/mbe_mbp_30MeV_alphaD_4e-3_xi_2e-1.png')"
   ]
  },
  {
   "cell_type": "markdown",
   "metadata": {},
   "source": [
    "### semi-analytic treatment -- Saha Equilibrium and Instantaneous Freeze-out"
   ]
  },
  {
   "cell_type": "code",
   "execution_count": 28,
   "metadata": {},
   "outputs": [],
   "source": [
    "def xD_Saha(rs, me, mp, xi, B):\n",
    "    T = phys.TCMB(rs)*xi\n",
    "    mD = me + mp\n",
    "    nD = phys.rho_DM/mD\n",
    "    hplanck = 2*np.pi*phys.hbar\n",
    "    #lambda_e = thermal_wavelength(me,T)\n",
    "    #lambda_p = thermal_wavelength(mp,T)\n",
    "    #lambda_H = thermal_wavelength(mH,T)\n",
    "    rhs = (2*np.pi*me*mp*T/(hplanck**2*mD))**(3/2) / (nD*rs**3) * np.exp(-B/T) / phys.c**3\n",
    "    a  = 1.\n",
    "    b  = rhs\n",
    "    q  = -rhs\n",
    "    if rhs < 1e8:\n",
    "        xe = (-b + np.sqrt(b**2 - 4*a*q))/(2*a)\n",
    "    else:\n",
    "        xe = 1. - a/rhs\n",
    "\n",
    "    return xe"
   ]
  },
  {
   "cell_type": "code",
   "execution_count": 29,
   "metadata": {},
   "outputs": [],
   "source": [
    "rs_bound = 5\n",
    "xe_thresh = 0.5\n",
    "\n",
    "# redshift of recombination is defined as the point at which xD = 0.5 +/- .05\n",
    "def get_recomb_rs(alphaD, mD, xi, B):\n",
    "    #mp = mp_D(mD, alphaD, B)\n",
    "    #me = me_D(mD, alphaD, B)\n",
    "    me = (mD+B)/2\n",
    "    mp = (mD+B)/2\n",
    "    rsLow = rs_bound\n",
    "    rsHigh = 10*rsLow\n",
    "    xD_low = xD_Saha(rsLow, me, mp, xi, B)\n",
    "    \n",
    "    # if recombination hasn't started by redshift rs_bound, then these parameters don't work\n",
    "    if xD_low > .5:\n",
    "        return (rs_bound, xD_low)\n",
    "    else:\n",
    "        xD_high = xD_Saha(rsHigh, me, mp, xi, B)\n",
    "        #Now find a redshift at which recombination has not occured\n",
    "        while(xD_high < .5):\n",
    "            rsLow=rsHigh\n",
    "            xD_low=xD_high\n",
    "            \n",
    "            rsHigh = 2*rsHigh\n",
    "            xD_high = xD_Saha(rsHigh, me, mp, xi, B)\n",
    "            \n",
    "        #Now find the redshift of recombination\n",
    "        while((np.abs(xD_low-0.5)>0.05) or (np.abs(xD_high-0.5)>0.05)):\n",
    "            rsMid = rsHigh/2+rsLow/2\n",
    "            xD_mid = xD_Saha(rsMid, me, mp, xi, B)\n",
    "            if(xD_mid>0.5):\n",
    "                rsHigh = rsMid\n",
    "                xD_high = xD_mid\n",
    "            else:\n",
    "                rsLow = rsMid\n",
    "                xD_low = xD_mid\n",
    "        rsMid = rsHigh/2+rsLow/2\n",
    "        return (rsMid, xD_Saha(rsMid, me, mp, xi, B))"
   ]
  },
  {
   "cell_type": "code",
   "execution_count": 30,
   "metadata": {},
   "outputs": [],
   "source": [
    "def get_f(rs, mD, alpha, xi, B):\n",
    "    # Assume T_DM = T_D\n",
    "    n_DM = phys.rho_DM/mD * rs**3\n",
    "    TD = phys.TCMB(rs)*xi\n",
    "    mu = mu_D(alpha, B)\n",
    "    return phys.hubble(rs)/(A_B(TD, B, mu, alpha) * n_DM)"
   ]
  },
  {
   "cell_type": "code",
   "execution_count": 31,
   "metadata": {},
   "outputs": [
    {
     "name": "stdout",
     "output_type": "stream",
     "text": [
      "(24700.0, 0.5118559785515813)\n",
      "0.0015790615023712348\n"
     ]
    }
   ],
   "source": [
    "mD = 6e7\n",
    "alphaD = phys.alpha/5\n",
    "BD = mD/(8/alphaD**2-1)\n",
    "xi = .08\n",
    "# if(mD/BD - 8/alphaD**2 <  - 1):\n",
    "#     print('NOPE!', ' ', mD/BD - 8/alphaD**2)\n",
    "tmp = get_recomb_rs(alphaD, mD, xi, BD)\n",
    "rs_r = tmp[0]\n",
    "print(tmp)\n",
    "print(get_f(rs_r, mD, alphaD, xi, BD))"
   ]
  },
  {
   "cell_type": "code",
   "execution_count": 32,
   "metadata": {},
   "outputs": [],
   "source": [
    "mD = 6e7\n",
    "xis = np.arange(.01,.805,.005)\n",
    "alphas = np.arange(phys.alpha/10,2*phys.alpha,phys.alpha/40)\n",
    "Bs = mD/(8/alphas**2-1)\n",
    "tmp = [[get_recomb_rs(a, mD, xi, b)[0]\n",
    "       for xi in xis] for a,b in zip(alphas,Bs)]\n",
    "tmp2 = [[get_f(tmp[j][i], mD, a, xi, Bs[j])\n",
    "       for i,xi in enumerate(xis)] for j,a in enumerate(alphas)]"
   ]
  },
  {
   "cell_type": "code",
   "execution_count": 33,
   "metadata": {},
   "outputs": [
    {
     "data": {
      "image/png": "[encoded data removed]",
      "text/plain": [
       "<Figure size 554.4x446.4 with 2 Axes>"
      ]
     },
     "metadata": {
      "needs_background": "light"
     },
     "output_type": "display_data"
    }
   ],
   "source": [
    "plt.figure(figsize=(7.7, 6.2))\n",
    "ax = plt.gca()\n",
    "ax.loglog()\n",
    "\n",
    "# Specify the proper contour levels and label them\n",
    "frac_change_levels = [1, 1e4,2e4, 3e4, 1e5, 1e6, 1e7, 1e8]\n",
    "frac_change_labels = ['1', '1e4', '2e4', '3e4', '1e5', '1e6', '1e7', '1e8']        \n",
    "    \n",
    "    \n",
    "plt_heating = plt.contour(\n",
    "    xis, alphas, tmp,\n",
    "    levels=frac_change_levels,\n",
    "    linewidths=0.5,\n",
    "    colors='k'\n",
    ")\n",
    "\n",
    "\n",
    "f_levels = [1.5e-3, 2.5e-3]\n",
    "f_plt = plt.contour(\n",
    "    xis, alphas, tmp2,\n",
    "    levels=f_levels,\n",
    "    linewidths=1.5,\n",
    "    colors='k'\n",
    ")\n",
    "\n",
    "cntr1 = ax.contourf(xis, alphas, tmp, \n",
    "                    frac_change_levels,\n",
    "                    norm=matplotlib.colors.LogNorm(),\n",
    "                    cmap=matplotlib.cm.inferno\n",
    ")\n",
    "\n",
    "cbar = plt.colorbar(\n",
    "    cntr1, ax=ax, ticks=frac_change_levels,\n",
    ")\n",
    "cbar.set_ticklabels(frac_change_labels)\n",
    "# plt.plot(xis, xis**(.52)/95)\n",
    "# plt.plot(xis, xis**(.26)/214)\n",
    "# cbar.set_label(r'$T_m$ Fractional Change $\\delta T_m/ T_{m,0}$', labelpad=20)\n",
    "\n",
    "# plt.axis([xis[0], xis[-1], 5.1, 201.61653821924926])\n",
    "\n",
    "label1_txt = r'$m_\\textbf{e} = m_\\textbf{p} = 30$MeV'\n",
    "label2_txt = r'$B_D = m_D\\left(\\frac{8}{\\alpha^2} - 1\\right)^{-1}$'\n",
    "label1_dx = .4\n",
    "label2_dx = .407\n",
    "                    \n",
    "plt.text(label1_dx, 0.88, label1_txt,transform=ax.transAxes, color='w', fontsize=20)\n",
    "# plt.text(label2_dx, 0.78, label2_txt,transform=ax.transAxes, color='w', fontsize=20)\n",
    "\n",
    "plt.title(r'EDGES Window (Estimate)')\n",
    "plt.xlabel(r'$\\xi$')\n",
    "plt.ylabel(r'$\\alpha_D$')\n",
    "# plt.savefig('/Users/gregoryridgway/Dropbox (MIT)/Atomic DM/alpha_xi_contours_mD30MeV.pdf')\n",
    "plt.show()"
   ]
  },
  {
   "cell_type": "code",
   "execution_count": 34,
   "metadata": {},
   "outputs": [
    {
     "name": "stdout",
     "output_type": "stream",
     "text": [
      "(18500.0, 0.49297883350637994)\n",
      "0.0001505261968558826\n",
      "(17100.0, 0.5161155570384329)\n",
      "0.00014590234118415913\n"
     ]
    }
   ],
   "source": [
    "mD = 3e7\n",
    "alphaD = phys.alpha/3.7\n",
    "BD = mD/(8/alphaD**2-1)\n",
    "xi = .1\n",
    "# if(mD/BD - 8/alphaD**2 <  - 1):\n",
    "#     print('NOPE!', ' ', mD/BD - 8/alphaD**2)\n",
    "tmp = get_recomb_rs(alphaD, mD, xi, BD)\n",
    "rs_r = tmp[0]\n",
    "print(tmp)\n",
    "n_DM = phys.rho_DM/mD * rs_r**3\n",
    "\n",
    "tmp = phys.hubble(rs_r)/(A_B(phys.TCMB(rs_r)*xi,BD,mu_D(alphaD, BD),alphaD) * n_DM)\n",
    "print(tmp)\n",
    "\n",
    "mD = 3e7\n",
    "alphaD = phys.alpha/3.5\n",
    "BD = mD/(8/alphaD**2-1)\n",
    "xi = .12\n",
    "# if(mD/BD - 8/alphaD**2 <  - 1):\n",
    "#     print('NOPE!', ' ', mD/BD - 8/alphaD**2)\n",
    "tmp = get_recomb_rs(alphaD, mD, xi, BD)\n",
    "rs_r = tmp[0]\n",
    "print(tmp)\n",
    "# Assume T_DM = T_D\n",
    "n_DM = phys.rho_DM/mD * rs_r**3\n",
    "\n",
    "tmp = phys.hubble(rs_r)/(A_B(phys.TCMB(rs_r)*xi,BD,mu_D(alphaD, BD),alphaD) * n_DM)\n",
    "print(tmp)"
   ]
  },
  {
   "cell_type": "code",
   "execution_count": 35,
   "metadata": {},
   "outputs": [
    {
     "ename": "TypeError",
     "evalue": "xD_Saha() missing 1 required positional argument: 'B'",
     "output_type": "error",
     "traceback": [
      "\u001b[0;31m---------------------------------------------------------------------------\u001b[0m",
      "\u001b[0;31mTypeError\u001b[0m                                 Traceback (most recent call last)",
      "\u001b[0;32m<ipython-input-35-b8b7edc6e49c>\u001b[0m in \u001b[0;36m<module>\u001b[0;34m\u001b[0m\n\u001b[1;32m      4\u001b[0m \u001b[0max\u001b[0m\u001b[0;34m=\u001b[0m\u001b[0mplt\u001b[0m\u001b[0;34m.\u001b[0m\u001b[0mgca\u001b[0m\u001b[0;34m(\u001b[0m\u001b[0;34m)\u001b[0m\u001b[0;34m\u001b[0m\u001b[0;34m\u001b[0m\u001b[0m\n\u001b[1;32m      5\u001b[0m \u001b[0max\u001b[0m\u001b[0;34m.\u001b[0m\u001b[0mloglog\u001b[0m\u001b[0;34m(\u001b[0m\u001b[0;34m)\u001b[0m\u001b[0;34m\u001b[0m\u001b[0;34m\u001b[0m\u001b[0m\n\u001b[0;32m----> 6\u001b[0;31m \u001b[0mtmp\u001b[0m \u001b[0;34m=\u001b[0m \u001b[0mnp\u001b[0m\u001b[0;34m.\u001b[0m\u001b[0marray\u001b[0m\u001b[0;34m(\u001b[0m\u001b[0;34m[\u001b[0m\u001b[0mxD_Saha\u001b[0m\u001b[0;34m(\u001b[0m\u001b[0mrs\u001b[0m\u001b[0;34m,\u001b[0m \u001b[0mphys\u001b[0m\u001b[0;34m.\u001b[0m\u001b[0mme\u001b[0m\u001b[0;34m,\u001b[0m \u001b[0mphys\u001b[0m\u001b[0;34m.\u001b[0m\u001b[0mmp\u001b[0m\u001b[0;34m,\u001b[0m \u001b[0mphys\u001b[0m\u001b[0;34m.\u001b[0m\u001b[0mrydberg\u001b[0m\u001b[0;34m)\u001b[0m \u001b[0;32mfor\u001b[0m \u001b[0mrs\u001b[0m \u001b[0;32min\u001b[0m \u001b[0mrs_list\u001b[0m\u001b[0;34m]\u001b[0m\u001b[0;34m)\u001b[0m\u001b[0;34m\u001b[0m\u001b[0;34m\u001b[0m\u001b[0m\n\u001b[0m\u001b[1;32m      7\u001b[0m \u001b[0;34m\u001b[0m\u001b[0m\n\u001b[1;32m      8\u001b[0m \u001b[0;31m#plt.axis([200,1e5,.9,1.1])\u001b[0m\u001b[0;34m\u001b[0m\u001b[0;34m\u001b[0m\u001b[0;34m\u001b[0m\u001b[0m\n",
      "\u001b[0;32m<ipython-input-35-b8b7edc6e49c>\u001b[0m in \u001b[0;36m<listcomp>\u001b[0;34m(.0)\u001b[0m\n\u001b[1;32m      4\u001b[0m \u001b[0max\u001b[0m\u001b[0;34m=\u001b[0m\u001b[0mplt\u001b[0m\u001b[0;34m.\u001b[0m\u001b[0mgca\u001b[0m\u001b[0;34m(\u001b[0m\u001b[0;34m)\u001b[0m\u001b[0;34m\u001b[0m\u001b[0;34m\u001b[0m\u001b[0m\n\u001b[1;32m      5\u001b[0m \u001b[0max\u001b[0m\u001b[0;34m.\u001b[0m\u001b[0mloglog\u001b[0m\u001b[0;34m(\u001b[0m\u001b[0;34m)\u001b[0m\u001b[0;34m\u001b[0m\u001b[0;34m\u001b[0m\u001b[0m\n\u001b[0;32m----> 6\u001b[0;31m \u001b[0mtmp\u001b[0m \u001b[0;34m=\u001b[0m \u001b[0mnp\u001b[0m\u001b[0;34m.\u001b[0m\u001b[0marray\u001b[0m\u001b[0;34m(\u001b[0m\u001b[0;34m[\u001b[0m\u001b[0mxD_Saha\u001b[0m\u001b[0;34m(\u001b[0m\u001b[0mrs\u001b[0m\u001b[0;34m,\u001b[0m \u001b[0mphys\u001b[0m\u001b[0;34m.\u001b[0m\u001b[0mme\u001b[0m\u001b[0;34m,\u001b[0m \u001b[0mphys\u001b[0m\u001b[0;34m.\u001b[0m\u001b[0mmp\u001b[0m\u001b[0;34m,\u001b[0m \u001b[0mphys\u001b[0m\u001b[0;34m.\u001b[0m\u001b[0mrydberg\u001b[0m\u001b[0;34m)\u001b[0m \u001b[0;32mfor\u001b[0m \u001b[0mrs\u001b[0m \u001b[0;32min\u001b[0m \u001b[0mrs_list\u001b[0m\u001b[0;34m]\u001b[0m\u001b[0;34m)\u001b[0m\u001b[0;34m\u001b[0m\u001b[0;34m\u001b[0m\u001b[0m\n\u001b[0m\u001b[1;32m      7\u001b[0m \u001b[0;34m\u001b[0m\u001b[0m\n\u001b[1;32m      8\u001b[0m \u001b[0;31m#plt.axis([200,1e5,.9,1.1])\u001b[0m\u001b[0;34m\u001b[0m\u001b[0;34m\u001b[0m\u001b[0;34m\u001b[0m\u001b[0m\n",
      "\u001b[0;31mTypeError\u001b[0m: xD_Saha() missing 1 required positional argument: 'B'"
     ]
    },
    {
     "data": {
      "image/png": "[encoded data removed]",
      "text/plain": [
       "<Figure size 432x288 with 1 Axes>"
      ]
     },
     "metadata": {
      "needs_background": "light"
     },
     "output_type": "display_data"
    }
   ],
   "source": [
    "rs_list=np.arange(200,1e5,10)\n",
    "\n",
    "plt.figure()\n",
    "ax=plt.gca()\n",
    "ax.loglog()\n",
    "tmp = np.array([xD_Saha(rs, phys.me, phys.mp, phys.rydberg) for rs in rs_list])\n",
    "\n",
    "#plt.axis([200,1e5,.9,1.1])\n",
    "plt.axvline(1350)\n",
    "plt.plot(rs_list, tmp)\n",
    "plt.show()"
   ]
  },
  {
   "cell_type": "code",
   "execution_count": 36,
   "metadata": {},
   "outputs": [
    {
     "data": {
      "text/plain": [
       "[<matplotlib.lines.Line2D at 0x12e28d690>]"
      ]
     },
     "execution_count": 36,
     "metadata": {},
     "output_type": "execute_result"
    },
    {
     "data": {
      "image/png": "[encoded data removed]",
      "text/plain": [
       "<Figure size 432x288 with 1 Axes>"
      ]
     },
     "metadata": {
      "needs_background": "light"
     },
     "output_type": "display_data"
    }
   ],
   "source": [
    "%autoreload\n",
    "plt.figure()\n",
    "ys1=np.array([42,30, 10, 0.3, 0.15])\n",
    "ys2=np.array([44,40, 15, 1, 0.45])\n",
    "ys3=np.array([45,46, 38, 5, 2.1])\n",
    "ys4=np.array([46,75, 80, 25, 15])\n",
    "\n",
    "xs=np.array([1e-5,1e-3,1e-1, 10, 19])\n",
    "fine_xs = 10**np.arange(-5,np.log10(19),0.1)\n",
    "colors = ['k', 'green', 'red', 'blue']\n",
    "\n",
    "for i,ys in enumerate([ys1, ys2, ys3, ys4]):\n",
    "    fine_ys = 10**interp1d(np.log10(xs), np.log10(ys), kind='cubic')(np.log10(fine_xs))\n",
    "    plt.loglog()\n",
    "    plt.plot(fine_xs,fine_ys, color=colors[i])\n",
    "    \n",
    "plt.plot(fine_xs, dark_tla.F_pr(fine_xs, 0.06))"
   ]
  },
  {
   "cell_type": "code",
   "execution_count": 37,
   "metadata": {},
   "outputs": [
    {
     "data": {
      "text/plain": [
       "[<matplotlib.lines.Line2D at 0x130985850>]"
      ]
     },
     "execution_count": 37,
     "metadata": {},
     "output_type": "execute_result"
    },
    {
     "data": {
      "image/png": "[encoded data removed]",
      "text/plain": [
       "<Figure size 576x576 with 1 Axes>"
      ]
     },
     "metadata": {
      "needs_background": "light"
     },
     "output_type": "display_data"
    }
   ],
   "source": [
    "%autoreload\n",
    "plt.figure(figsize=(8,8))\n",
    "plt.title(r'$\\alpha_{recomb}$ Comparison')\n",
    "\n",
    "# plt.axis([.5, 5e3, 1e-13,1e-10])\n",
    "plt.loglog()\n",
    "plt.plot(rs_list,phys.alpha_recomb(phys.TCMB(rs_list), 'HI'))\n",
    "plt.plot(rs_list,dark_tla.dark_alpha_recomb(phys.TCMB(rs_list), phys.alpha, phys.me, phys.mp, 1), linestyle='--')"
   ]
  },
  {
   "cell_type": "code",
   "execution_count": 38,
   "metadata": {},
   "outputs": [
    {
     "data": {
      "text/plain": [
       "[<matplotlib.lines.Line2D at 0x130bacd50>]"
      ]
     },
     "execution_count": 38,
     "metadata": {},
     "output_type": "execute_result"
    },
    {
     "data": {
      "image/png": "[encoded data removed]",
      "text/plain": [
       "<Figure size 576x576 with 1 Axes>"
      ]
     },
     "metadata": {
      "needs_background": "light"
     },
     "output_type": "display_data"
    }
   ],
   "source": [
    "%autoreload\n",
    "plt.figure(figsize=(8,8))\n",
    "plt.title(r'$\\beta_{ion}$ Comparison')\n",
    "\n",
    "plt.loglog()\n",
    "\n",
    "plt.axis([300,3e3,1e-8,1e7])\n",
    "plt.plot(rs_list,phys.beta_ion(phys.TCMB(rs_list), 'HI'))\n",
    "plt.plot(rs_list,dark_tla.dark_beta_ion(phys.TCMB(rs_list), phys.alpha, phys.me, phys.mp, 1),linestyle='--')"
   ]
  },
  {
   "cell_type": "code",
   "execution_count": 39,
   "metadata": {
    "scrolled": false
   },
   "outputs": [
    {
     "data": {
      "text/plain": [
       "[<matplotlib.lines.Line2D at 0x130d7c290>]"
      ]
     },
     "execution_count": 39,
     "metadata": {},
     "output_type": "execute_result"
    },
    {
     "data": {
      "image/png": "[encoded data removed]",
      "text/plain": [
       "<Figure size 576x576 with 1 Axes>"
      ]
     },
     "metadata": {
      "needs_background": "light"
     },
     "output_type": "display_data"
    }
   ],
   "source": [
    "%autoreload\n",
    "plt.figure(figsize=(8,8))\n",
    "plt.title(r'Peebles $C$ Comparison')\n",
    "\n",
    "plt.loglog()\n",
    "plt.plot(rs_list,phys.peebles_C(.9, rs_list))\n",
    "plt.plot(rs_list,dark_tla.dark_peebles_C(.9, rs_list, phys.alpha, phys.me, phys.mp, 1),linestyle='--')"
   ]
  },
  {
   "cell_type": "code",
   "execution_count": 40,
   "metadata": {},
   "outputs": [],
   "source": [
    "import csv\n",
    "xe_hist_data = []\n",
    "with open('/Users/gregoryridgway/Desktop/Webplot Digitizer/Atomic/example_history.csv') as csvfile:\n",
    "    reader = csv.reader(csvfile)\n",
    "    for row in reader:\n",
    "         xe_hist_data.append([float(row[0]),float(row[1])])\n",
    "xe_hist_data = np.array(xe_hist_data)\n",
    "\n",
    "Tm_hist_data = []\n",
    "with open('/Users/gregoryridgway/Desktop/Webplot Digitizer/Atomic/T_m_hist.csv') as csvfile:\n",
    "    reader = csv.reader(csvfile)\n",
    "    for row in reader:\n",
    "         Tm_hist_data.append([float(row[0]),float(row[1])])\n",
    "Tm_hist_data = np.array(Tm_hist_data)"
   ]
  },
  {
   "cell_type": "code",
   "execution_count": 42,
   "metadata": {},
   "outputs": [],
   "source": [
    "n_D = phys.rho_DM * rs_list_DM**3 / mD\n",
    "Rayleighs=dark_tla.Pi_R(dark_history[:,1], dark_history[:,0], rs_list_DM, alphaD, m_be, m_bp, xi)/phys.hbar/(\n",
    "    3/2*dark_history[:,1]*n_D*(1+dark_history[:,1]))\n",
    "\n",
    "comps=dark_tla.compton_cooling_rate(dark_history[:,1], dark_history[:,0], rs_list_DM, alphaD, m_be, m_bp, xi)/(\n",
    "    xi*phys.TCMB(rs_list_DM)-dark_history[:,1])"
   ]
  },
  {
   "cell_type": "code",
   "execution_count": 45,
   "metadata": {
    "scrolled": true
   },
   "outputs": [
    {
     "name": "stdout",
     "output_type": "stream",
     "text": [
      "581414284.285429 438585715.71457106\n",
      "1.0000000001598721 0.9999999999968026\n"
     ]
    }
   ],
   "source": [
    "alphaD=0.4\n",
    "xi=0.2\n",
    "m_D = 1e9\n",
    "B_D = 2e7\n",
    "print(mp_D(m_D, alphaD, B_D), me_D(m_D, alphaD, B_D))\n",
    "m_be= 438585716#3e7\n",
    "m_bp = 581414284#m_be\n",
    "print(dark_tla.get_BD(alphaD, m_be, m_bp)/B_D, (m_be+m_bp-dark_tla.get_BD(alphaD, m_be, m_bp))/m_D)"
   ]
  },
  {
   "cell_type": "code",
   "execution_count": 46,
   "metadata": {},
   "outputs": [],
   "source": [
    "%autoreload\n",
    "alphaD = phys.alpha#3e-3\n",
    "m_be= phys.me#3e7\n",
    "m_bp = phys.mp#m_be\n",
    "xi=1#0.6\n",
    "\n",
    "\n",
    "#alpha_list = 10**np.arange(-3.2,-1.9,.089)\n",
    "#xi_list = 10**np.arange(-2,0,.1)\n",
    "m_be= 438585716#3e7\n",
    "m_bp = 581414284#m_be\n",
    "xi = 0.2#.2 #0.072 #.1\n",
    "alphaD = 0.4#4e-3 #7e-4 #1e-3\n",
    "\n",
    "rs_start = find_rs_start(alphaD, m_be, m_bp, xi)\n",
    "\n",
    "rs_list_DM = 10**np.arange(np.log10(rs_start),0,-.001)\n",
    "dark_history = dark_tla.get_history(\n",
    "    rs_list_DM,\n",
    "    alphaD=alphaD, m_be=m_be, m_bp=m_bp, xi=xi\n",
    ")"
   ]
  },
  {
   "cell_type": "code",
   "execution_count": 47,
   "metadata": {
    "scrolled": false
   },
   "outputs": [
    {
     "data": {
      "text/plain": [
       "[None, None]"
      ]
     },
     "execution_count": 47,
     "metadata": {},
     "output_type": "execute_result"
    },
    {
     "data": {
      "image/png": "[encoded data removed]",
      "text/plain": [
       "<Figure size 1584x612 with 2 Axes>"
      ]
     },
     "metadata": {
      "needs_background": "light"
     },
     "output_type": "display_data"
    }
   ],
   "source": [
    "plt.figure(figsize=(22,8.5))\n",
    "\n",
    "plt.subplot(1, 2, 1)\n",
    "plt.plot(rs_list_DM, phys.TCMB(rs_list_DM), color='k', linestyle='--', label='CMB')\n",
    "plt.plot(rs_list, history0[:,0], label='baryons')\n",
    "plt.plot(rs_list_DM, dark_history[:,0], label='DM')\n",
    "plt.plot(Tm_hist_data[:,0]+1, Tm_hist_data[:,1], label='Cyr-Racine')\n",
    "plt.xlabel(r'Redshift, $1+z$')\n",
    "plt.ylabel(r'Temperature, $T_m$ [eV]')\n",
    "plt.title('Temperature History')\n",
    "plt.loglog()\n",
    "plt.legend()\n",
    "\n",
    "\n",
    "plt.subplot(1, 2, 2)\n",
    "plt.plot(rs_list, history0[:,1], label='baryons')\n",
    "plt.plot(rs_list_DM, dark_history[:,1], label='DM')#, linestyle='--')\n",
    "plt.plot(xe_hist_data[:,0]+1, xe_hist_data[:,1], label='Cyr-Racine')\n",
    "plt.axis([0.1,1e11, 1e-12,1.5])\n",
    "plt.xlabel(r'Redshift, $1+z$')\n",
    "plt.ylabel(r'HII Ionization Level, $x_{HII}$')\n",
    "plt.title('Ionization History')\n",
    "plt.loglog()\n",
    "plt.xticks(10.0**np.arange(0,12,2))\n",
    "plt.yticks(10.0**np.arange(-11,1,2))\n",
    "leg = plt.legend(fontsize=24)\n",
    "#leg.set_title(r'$\\,(\\, \\alpha_D,\\;\\;\\;$ $m_{\\textbf{e}}, \\qquad$ $m_{\\textbf{p}}, \\;\\;\\;\\,$ $\\xi$) \\\\='\n",
    "leg.set_title(r'$\\,(\\, \\alpha_D,\\;\\;\\;$ $m_{D}, \\qquad$ $B_D, \\;\\;\\;\\,$ $\\xi$) \\\\='\n",
    "           +' (0.4, 1GeV, 20MeV, 0.2)')\n",
    "plt.setp(leg.get_title(),fontsize=24)\n",
    "# plt.savefig('/Users/gregoryridgway/Dropbox (MIT)/Atomic DM/figs/mbe_mbp_30MeV_alphaD_4e-3_xi_2e-1.png')"
   ]
  },
  {
   "cell_type": "code",
   "execution_count": 48,
   "metadata": {},
   "outputs": [],
   "source": [
    "n_D = phys.rho_DM * rs_list_DM**3 / m_D\n",
    "T_DM = dark_history[:,0]\n",
    "x_be = dark_history[:,1]\n",
    "T_D = phys.TCMB(rs_list_DM)*xi\n",
    "eps = 1-T_DM/T_D\n",
    "\n",
    "comps = 1/phys.hbar*(1+(m_be/m_bp)**3)*64*np.pi**3*alphaD**2*(xi*phys.TCMB(rs_list_DM))**4/(135*m_be**3)*dark_history[:,1]/(1+dark_history[:,1])"
   ]
  },
  {
   "cell_type": "code",
   "execution_count": 49,
   "metadata": {},
   "outputs": [],
   "source": [
    "zeta_9 = 1.00201\n",
    "\n",
    "denom_fac = 3/2 * T_DM * n_D * (1+x_be)\n",
    "Pi_R_overEps = 430080*zeta_9*alphaD**2 * n_D * (1-x_be)*(xi*phys.TCMB(rs_list_DM))**9/(\n",
    "    np.pi**2 * B_D**4 * m_D * m_be**2\n",
    ")/phys.hbar\n",
    "\n",
    "Rayleighs = Pi_R_overEps/denom_fac"
   ]
  },
  {
   "cell_type": "code",
   "execution_count": 50,
   "metadata": {},
   "outputs": [],
   "source": [
    "zeta_3 = 1.20206\n",
    "muD = mu_D(alphaD, B_D)\n",
    "g_ff = 1.3\n",
    "Pi_ff_overEps = 16*alphaD**3*g_ff * np.sqrt(2*np.pi*T_DM) * x_be**2 * n_D**2/(3*muD)**(3/2)*(\n",
    "    np.pi**2 * (1+2*eps)/6 - zeta_3*eps\n",
    ")\n",
    "\n",
    "Piffs = Pi_ff_overEps/denom_fac"
   ]
  },
  {
   "cell_type": "code",
   "execution_count": 51,
   "metadata": {},
   "outputs": [],
   "source": [
    "Pi_pr_overEps = 2*alphaD**3*np.sqrt(2*np.pi*T_DM)/(3*muD)**(3/2)* x_be**2 * n_D**2*(\n",
    "    dark_tla.F_pr(T_D/B_D, 1-eps)\n",
    ")\n",
    "\n",
    "Piprs = Pi_pr_overEps/denom_fac"
   ]
  },
  {
   "cell_type": "code",
   "execution_count": 52,
   "metadata": {},
   "outputs": [
    {
     "data": {
      "text/plain": [
       "<matplotlib.legend.Legend at 0x130e33090>"
      ]
     },
     "execution_count": 52,
     "metadata": {},
     "output_type": "execute_result"
    },
    {
     "data": {
      "image/png": "[encoded data removed]",
      "text/plain": [
       "<Figure size 720x576 with 1 Axes>"
      ]
     },
     "metadata": {
      "needs_background": "light"
     },
     "output_type": "display_data"
    }
   ],
   "source": [
    "sub = 0.07\n",
    "plt.figure(figsize=(10,8))\n",
    "plt.loglog()\n",
    "rs_list = 10**np.arange(0,np.log10(4e10),.1)\n",
    "plt.axis([.1, 4e10, 1e-40,1e18])\n",
    "plt.yticks(10.0**np.arange(-40,20,10))\n",
    "plt.xticks(10.0**np.arange(0,12,2))\n",
    "\n",
    "plt.plot(rs_list_DM-1, comps, color='k', label='Compton Heating')\n",
    "plt.plot(rs_list-1, phys.hubble(rs_list), color='red', linestyle='--', label='Hubble Expansion')\n",
    "plt.plot(rs_list_DM-1, Piprs, color='blue', linestyle='--', linewidth=1.2, label='Photo-Rec Cooling')\n",
    "plt.plot(rs_list_DM-1, Piffs, color='g', linestyle=':', linewidth=1.2, label='Free-Free Cooling')\n",
    "plt.plot(rs_list_DM-1, Rayleighs, color='purple', linestyle=':', label='Rayleigh Heating')\n",
    "\n",
    "plt.ylabel(r'Rates [s$^{-1}$]')\n",
    "plt.xlabel(r'Redshift $z$')\n",
    "\n",
    "plt.text(0.2, 1.1, r'$\\xi=0.2$', fontsize=16, transform=ax.transAxes)\n",
    "plt.text(0.2, 1.1-sub, r'$\\alpha_D=0.4$', fontsize=16, transform=ax.transAxes)\n",
    "plt.text(0.2, 1.1-2*sub, r'$B_D=10$ MeV', fontsize=16, transform=ax.transAxes)\n",
    "plt.text(0.2, 1.1-3*sub, r'$m_D=1$ GeV', fontsize=16, transform=ax.transAxes)\n",
    "\n",
    "plt.legend(fontsize=15, loc=4)"
   ]
  },
  {
   "cell_type": "code",
   "execution_count": 607,
   "metadata": {},
   "outputs": [],
   "source": [
    "def find_recomb_rs(x_be_func, alphaD, m_be, m_bp, xi, rs_guess):\n",
    "    # I would to find the redshift at which x_e is between these two values\n",
    "    lower_xe = .5-.01\n",
    "    upper_xe = .5+.01\n",
    "\n",
    "    # My initial guess for that redshift, and the x_e at that redshift\n",
    "    rs = rs_guess\n",
    "    x_be = x_be_func(rs)\n",
    "\n",
    "    # Double or halve the redshift\n",
    "    log_step = 2\n",
    "\n",
    "    iterate=0\n",
    "    while (x_be<lower_xe or x_be>upper_xe) and iterate < 50:\n",
    "        iterate += 1\n",
    "        if x_be<lower_xe:\n",
    "            rs *= log_step\n",
    "            x_be = x_be_func(rs)\n",
    "\n",
    "            #overstepped the bounds\n",
    "            if x_be>upper_xe:\n",
    "                log_step -= np.log10(log_step)\n",
    "\n",
    "        elif x_be>upper_xe:\n",
    "            rs /= log_step\n",
    "            x_be = x_be_func(rs)\n",
    "\n",
    "            #overstepped the bounds\n",
    "            if x_be<lower_xe:\n",
    "                log_step -= np.log10(log_step)\n",
    "        if iterate == 50:\n",
    "            print('Too many iterations!!!')\n",
    "#             print('redshift:', rs)\n",
    "            print('x_be: ', x_be)\n",
    "            print('xi', xi)\n",
    "            print('alpha', alphaD)\n",
    "#             print('iterations: ', iterate)\n",
    "            \n",
    "\n",
    "#     print('redshift:', rs)\n",
    "#     print('x_be: ', x_be)\n",
    "#     print('iterations: ', iterate)\n",
    "    return rs"
   ]
  },
  {
   "cell_type": "code",
   "execution_count": 519,
   "metadata": {},
   "outputs": [],
   "source": [
    "x_be_func = interp1d(rs_list_DM, dark_history[:,1], bounds_error=False, fill_value=(dark_history[-1,1],dark_history[0,1]))"
   ]
  },
  {
   "cell_type": "code",
   "execution_count": 496,
   "metadata": {},
   "outputs": [
    {
     "name": "stdout",
     "output_type": "stream",
     "text": [
      "redshift: 1227.631281634815\n",
      "x_be:  0.49785261297090866\n",
      "iterations:  15\n"
     ]
    },
    {
     "data": {
      "text/plain": [
       "1227.631281634815"
      ]
     },
     "execution_count": 496,
     "metadata": {},
     "output_type": "execute_result"
    }
   ],
   "source": [
    "find_recomb_rs(x_be_func, alphaD, m_be, m_bp, xi, rs_list_DM[0])"
   ]
  },
  {
   "cell_type": "code",
   "execution_count": 612,
   "metadata": {},
   "outputs": [],
   "source": [
    "xe_data_3e7 = xe_data.copy()\n",
    "recomb_rs_data_3e7 = recomb_rs_data.copy()"
   ]
  },
  {
   "cell_type": "code",
   "execution_count": 690,
   "metadata": {
    "collapsed": true
   },
   "outputs": [
    {
     "data": {
      "application/vnd.jupyter.widget-view+json": {
       "model_id": "d0d9cbc1805f487ea079cc06e7a31b42",
       "version_major": 2,
       "version_minor": 0
      },
      "text/plain": [
       "HBox(children=(IntProgress(value=0, max=49), HTML(value='')))"
      ]
     },
     "metadata": {},
     "output_type": "display_data"
    },
    {
     "name": "stdout",
     "output_type": "stream",
     "text": [
      "alphaD 0.0007000000000000001\n"
     ]
    },
    {
     "data": {
      "application/vnd.jupyter.widget-view+json": {
       "model_id": "2cf5965ad71a479b9b9cebc8de6c3366",
       "version_major": 2,
       "version_minor": 0
      },
      "text/plain": [
       "HBox(children=(IntProgress(value=0, max=96), HTML(value='')))"
      ]
     },
     "metadata": {},
     "output_type": "display_data"
    },
    {
     "name": "stdout",
     "output_type": "stream",
     "text": [
      "alphaD 0.0007500635136663244\n"
     ]
    },
    {
     "data": {
      "application/vnd.jupyter.widget-view+json": {
       "model_id": "b66e3aedf17249eeaeadc3cf523b9101",
       "version_major": 2,
       "version_minor": 0
      },
      "text/plain": [
       "HBox(children=(IntProgress(value=0, max=96), HTML(value='')))"
      ]
     },
     "metadata": {},
     "output_type": "display_data"
    },
    {
     "name": "stdout",
     "output_type": "stream",
     "text": [
      "alphaD 0.0008037075350478173\n"
     ]
    },
    {
     "data": {
      "application/vnd.jupyter.widget-view+json": {
       "model_id": "23489b508d2547f79c4c1c83bc9ac54d",
       "version_major": 2,
       "version_minor": 0
      },
      "text/plain": [
       "HBox(children=(IntProgress(value=0, max=96), HTML(value='')))"
      ]
     },
     "metadata": {},
     "output_type": "display_data"
    },
    {
     "name": "stdout",
     "output_type": "stream",
     "text": [
      "alphaD 0.0008611881395686661\n"
     ]
    },
    {
     "data": {
      "application/vnd.jupyter.widget-view+json": {
       "model_id": "6148825518b94cd98b186a231cbac9fe",
       "version_major": 2,
       "version_minor": 0
      },
      "text/plain": [
       "HBox(children=(IntProgress(value=0, max=96), HTML(value='')))"
      ]
     },
     "metadata": {},
     "output_type": "display_data"
    },
    {
     "name": "stdout",
     "output_type": "stream",
     "text": [
      "alphaD 0.0009227797169894835\n"
     ]
    },
    {
     "data": {
      "application/vnd.jupyter.widget-view+json": {
       "model_id": "ecc148398fb546888981e290624b977c",
       "version_major": 2,
       "version_minor": 0
      },
      "text/plain": [
       "HBox(children=(IntProgress(value=0, max=96), HTML(value='')))"
      ]
     },
     "metadata": {},
     "output_type": "display_data"
    },
    {
     "name": "stdout",
     "output_type": "stream",
     "text": [
      "alphaD 0.000988776281235926\n"
     ]
    },
    {
     "data": {
      "application/vnd.jupyter.widget-view+json": {
       "model_id": "2b384533f8d34ad5a5ca373e4b3b85b3",
       "version_major": 2,
       "version_minor": 0
      },
      "text/plain": [
       "HBox(children=(IntProgress(value=0, max=96), HTML(value='')))"
      ]
     },
     "metadata": {},
     "output_type": "display_data"
    },
    {
     "name": "stdout",
     "output_type": "stream",
     "text": [
      "alphaD 0.001059492873905343\n"
     ]
    },
    {
     "data": {
      "application/vnd.jupyter.widget-view+json": {
       "model_id": "4e35e279e87c4136b38ec2d5d67acbad",
       "version_major": 2,
       "version_minor": 0
      },
      "text/plain": [
       "HBox(children=(IntProgress(value=0, max=96), HTML(value='')))"
      ]
     },
     "metadata": {},
     "output_type": "display_data"
    },
    {
     "name": "stdout",
     "output_type": "stream",
     "text": [
      "alphaD 0.0011352670681512476\n"
     ]
    },
    {
     "data": {
      "application/vnd.jupyter.widget-view+json": {
       "model_id": "230ac0d6f8e348208614a832b0c0062a",
       "version_major": 2,
       "version_minor": 0
      },
      "text/plain": [
       "HBox(children=(IntProgress(value=0, max=96), HTML(value='')))"
      ]
     },
     "metadata": {},
     "output_type": "display_data"
    },
    {
     "name": "stdout",
     "output_type": "stream",
     "text": [
      "alphaD 0.0012164605801245588\n"
     ]
    },
    {
     "data": {
      "application/vnd.jupyter.widget-view+json": {
       "model_id": "f30b82d3e6234402a349e3a27c4e9838",
       "version_major": 2,
       "version_minor": 0
      },
      "text/plain": [
       "HBox(children=(IntProgress(value=0, max=96), HTML(value='')))"
      ]
     },
     "metadata": {},
     "output_type": "display_data"
    },
    {
     "name": "stdout",
     "output_type": "stream",
     "text": [
      "alphaD 0.0013034609956640022\n"
     ]
    },
    {
     "data": {
      "application/vnd.jupyter.widget-view+json": {
       "model_id": "33551d47321141038994ecaf787d0bdb",
       "version_major": 2,
       "version_minor": 0
      },
      "text/plain": [
       "HBox(children=(IntProgress(value=0, max=96), HTML(value='')))"
      ]
     },
     "metadata": {},
     "output_type": "display_data"
    },
    {
     "name": "stdout",
     "output_type": "stream",
     "text": [
      "alphaD 0.0013966836204782097\n"
     ]
    },
    {
     "data": {
      "application/vnd.jupyter.widget-view+json": {
       "model_id": "fda61b221a354d40bd3e76984aaba036",
       "version_major": 2,
       "version_minor": 0
      },
      "text/plain": [
       "HBox(children=(IntProgress(value=0, max=96), HTML(value='')))"
      ]
     },
     "metadata": {},
     "output_type": "display_data"
    },
    {
     "name": "stdout",
     "output_type": "stream",
     "text": [
      "alphaD 0.0014965734626515555\n"
     ]
    },
    {
     "data": {
      "application/vnd.jupyter.widget-view+json": {
       "model_id": "0ff6eff1c3f14a49ae9c54046ef48e59",
       "version_major": 2,
       "version_minor": 0
      },
      "text/plain": [
       "HBox(children=(IntProgress(value=0, max=96), HTML(value='')))"
      ]
     },
     "metadata": {},
     "output_type": "display_data"
    },
    {
     "name": "stdout",
     "output_type": "stream",
     "text": [
      "alphaD 0.001603607356937433\n"
     ]
    },
    {
     "data": {
      "application/vnd.jupyter.widget-view+json": {
       "model_id": "039627617ad34fb7b3786783174d0244",
       "version_major": 2,
       "version_minor": 0
      },
      "text/plain": [
       "HBox(children=(IntProgress(value=0, max=96), HTML(value='')))"
      ]
     },
     "metadata": {},
     "output_type": "display_data"
    },
    {
     "name": "stdout",
     "output_type": "stream",
     "text": [
      "alphaD 0.0017182962409795115\n"
     ]
    },
    {
     "data": {
      "application/vnd.jupyter.widget-view+json": {
       "model_id": "168c8ab4b87943d19b8b192a6edf98bb",
       "version_major": 2,
       "version_minor": 0
      },
      "text/plain": [
       "HBox(children=(IntProgress(value=0, max=96), HTML(value='')))"
      ]
     },
     "metadata": {},
     "output_type": "display_data"
    },
    {
     "name": "stdout",
     "output_type": "stream",
     "text": [
      "alphaD 0.0018411875943267562\n"
     ]
    },
    {
     "data": {
      "application/vnd.jupyter.widget-view+json": {
       "model_id": "e214cbead9ec4e87ae109a72de2213e9",
       "version_major": 2,
       "version_minor": 0
      },
      "text/plain": [
       "HBox(children=(IntProgress(value=0, max=96), HTML(value='')))"
      ]
     },
     "metadata": {},
     "output_type": "display_data"
    },
    {
     "name": "stdout",
     "output_type": "stream",
     "text": [
      "alphaD 0.0019728680518851047\n"
     ]
    },
    {
     "data": {
      "application/vnd.jupyter.widget-view+json": {
       "model_id": "6130e519d4884485a4a9e758f94deec0",
       "version_major": 2,
       "version_minor": 0
      },
      "text/plain": [
       "HBox(children=(IntProgress(value=0, max=96), HTML(value='')))"
      ]
     },
     "metadata": {},
     "output_type": "display_data"
    },
    {
     "name": "stdout",
     "output_type": "stream",
     "text": [
      "alphaD 0.0021139662042813966\n"
     ]
    },
    {
     "data": {
      "application/vnd.jupyter.widget-view+json": {
       "model_id": "58d326b0093646c9835f243031ec35e3",
       "version_major": 2,
       "version_minor": 0
      },
      "text/plain": [
       "HBox(children=(IntProgress(value=0, max=96), HTML(value='')))"
      ]
     },
     "metadata": {},
     "output_type": "display_data"
    },
    {
     "name": "stdout",
     "output_type": "stream",
     "text": [
      "alphaD 0.002265155598507381\n"
     ]
    },
    {
     "data": {
      "application/vnd.jupyter.widget-view+json": {
       "model_id": "13c2fb83f9294b9e967f48e5eb66cbbf",
       "version_major": 2,
       "version_minor": 0
      },
      "text/plain": [
       "HBox(children=(IntProgress(value=0, max=96), HTML(value='')))"
      ]
     },
     "metadata": {},
     "output_type": "display_data"
    },
    {
     "name": "stdout",
     "output_type": "stream",
     "text": [
      "alphaD 0.0024271579531677024\n"
     ]
    },
    {
     "data": {
      "application/vnd.jupyter.widget-view+json": {
       "model_id": "bbaf029906e84530a29d02ce0ac36bd1",
       "version_major": 2,
       "version_minor": 0
      },
      "text/plain": [
       "HBox(children=(IntProgress(value=0, max=96), HTML(value='')))"
      ]
     },
     "metadata": {},
     "output_type": "display_data"
    },
    {
     "name": "stdout",
     "output_type": "stream",
     "text": [
      "alphaD 0.0026007466036801863\n"
     ]
    },
    {
     "data": {
      "application/vnd.jupyter.widget-view+json": {
       "model_id": "35f2514fada04093b563b3862da789dc",
       "version_major": 2,
       "version_minor": 0
      },
      "text/plain": [
       "HBox(children=(IntProgress(value=0, max=96), HTML(value='')))"
      ]
     },
     "metadata": {},
     "output_type": "display_data"
    },
    {
     "name": "stdout",
     "output_type": "stream",
     "text": [
      "alphaD 0.002786750193874456\n"
     ]
    },
    {
     "data": {
      "application/vnd.jupyter.widget-view+json": {
       "model_id": "43b9af1f49ee4eb4a3f10107eb443411",
       "version_major": 2,
       "version_minor": 0
      },
      "text/plain": [
       "HBox(children=(IntProgress(value=0, max=96), HTML(value='')))"
      ]
     },
     "metadata": {},
     "output_type": "display_data"
    },
    {
     "name": "stdout",
     "output_type": "stream",
     "text": [
      "alphaD 0.002986056631611121\n"
     ]
    },
    {
     "data": {
      "application/vnd.jupyter.widget-view+json": {
       "model_id": "0c12cc8d5b134b6e8f4bed8c1dbc4051",
       "version_major": 2,
       "version_minor": 0
      },
      "text/plain": [
       "HBox(children=(IntProgress(value=0, max=96), HTML(value='')))"
      ]
     },
     "metadata": {},
     "output_type": "display_data"
    },
    {
     "name": "stdout",
     "output_type": "stream",
     "text": [
      "alphaD 0.003199617327304094\n"
     ]
    },
    {
     "data": {
      "application/vnd.jupyter.widget-view+json": {
       "model_id": "ea7f8184f57e4a62a20312cd91bdf4f5",
       "version_major": 2,
       "version_minor": 0
      },
      "text/plain": [
       "HBox(children=(IntProgress(value=0, max=96), HTML(value='')))"
      ]
     },
     "metadata": {},
     "output_type": "display_data"
    },
    {
     "name": "stdout",
     "output_type": "stream",
     "text": [
      "alphaD 0.0034284517355790884\n"
     ]
    },
    {
     "data": {
      "application/vnd.jupyter.widget-view+json": {
       "model_id": "299d28881081471687b2daad3ef95c37",
       "version_major": 2,
       "version_minor": 0
      },
      "text/plain": [
       "HBox(children=(IntProgress(value=0, max=96), HTML(value='')))"
      ]
     },
     "metadata": {},
     "output_type": "display_data"
    },
    {
     "name": "stdout",
     "output_type": "stream",
     "text": [
      "alphaD 0.003673652221748369\n"
     ]
    },
    {
     "data": {
      "application/vnd.jupyter.widget-view+json": {
       "model_id": "0ddb8c77a1eb4a2997946a6cedbef4e9",
       "version_major": 2,
       "version_minor": 0
      },
      "text/plain": [
       "HBox(children=(IntProgress(value=0, max=96), HTML(value='')))"
      ]
     },
     "metadata": {},
     "output_type": "display_data"
    },
    {
     "name": "stdout",
     "output_type": "stream",
     "text": [
      "alphaD 0.0039363892763324\n"
     ]
    },
    {
     "data": {
      "application/vnd.jupyter.widget-view+json": {
       "model_id": "3ae86e44e02c401fa7454d5421902ba4",
       "version_major": 2,
       "version_minor": 0
      },
      "text/plain": [
       "HBox(children=(IntProgress(value=0, max=96), HTML(value='')))"
      ]
     },
     "metadata": {},
     "output_type": "display_data"
    },
    {
     "name": "stdout",
     "output_type": "stream",
     "text": [
      "alphaD 0.0042179171025204555\n"
     ]
    },
    {
     "data": {
      "application/vnd.jupyter.widget-view+json": {
       "model_id": "e22c609e8810491ba18955946331aada",
       "version_major": 2,
       "version_minor": 0
      },
      "text/plain": [
       "HBox(children=(IntProgress(value=0, max=96), HTML(value='')))"
      ]
     },
     "metadata": {},
     "output_type": "display_data"
    },
    {
     "name": "stdout",
     "output_type": "stream",
     "text": [
      "alphaD 0.004519579603242535\n"
     ]
    },
    {
     "data": {
      "application/vnd.jupyter.widget-view+json": {
       "model_id": "06c7278815404c14a0b1ac5281f0297f",
       "version_major": 2,
       "version_minor": 0
      },
      "text/plain": [
       "HBox(children=(IntProgress(value=0, max=96), HTML(value='')))"
      ]
     },
     "metadata": {},
     "output_type": "display_data"
    },
    {
     "name": "stdout",
     "output_type": "stream",
     "text": [
      "alphaD 0.004842816796432495\n"
     ]
    },
    {
     "data": {
      "application/vnd.jupyter.widget-view+json": {
       "model_id": "8c23f9ada6a64cd6a6ebe64f543c0ff0",
       "version_major": 2,
       "version_minor": 0
      },
      "text/plain": [
       "HBox(children=(IntProgress(value=0, max=96), HTML(value='')))"
      ]
     },
     "metadata": {},
     "output_type": "display_data"
    },
    {
     "name": "stdout",
     "output_type": "stream",
     "text": [
      "alphaD 0.005189171689106356\n"
     ]
    },
    {
     "data": {
      "application/vnd.jupyter.widget-view+json": {
       "model_id": "c3659ee89b9b44fd9f80c006e07d28e8",
       "version_major": 2,
       "version_minor": 0
      },
      "text/plain": [
       "HBox(children=(IntProgress(value=0, max=96), HTML(value='')))"
      ]
     },
     "metadata": {},
     "output_type": "display_data"
    },
    {
     "name": "stdout",
     "output_type": "stream",
     "text": [
      "alphaD 0.0055602976430698964\n"
     ]
    },
    {
     "data": {
      "application/vnd.jupyter.widget-view+json": {
       "model_id": "295253bb80be4a2ebeeb42f527ca2477",
       "version_major": 2,
       "version_minor": 0
      },
      "text/plain": [
       "HBox(children=(IntProgress(value=0, max=96), HTML(value='')))"
      ]
     },
     "metadata": {},
     "output_type": "display_data"
    },
    {
     "name": "stdout",
     "output_type": "stream",
     "text": [
      "alphaD 0.005957966267416554\n"
     ]
    },
    {
     "data": {
      "application/vnd.jupyter.widget-view+json": {
       "model_id": "6c82298d20c346d7a379d7aa58b154e0",
       "version_major": 2,
       "version_minor": 0
      },
      "text/plain": [
       "HBox(children=(IntProgress(value=0, max=96), HTML(value='')))"
      ]
     },
     "metadata": {},
     "output_type": "display_data"
    },
    {
     "name": "stdout",
     "output_type": "stream",
     "text": [
      "alphaD 0.006384075875491278\n"
     ]
    },
    {
     "data": {
      "application/vnd.jupyter.widget-view+json": {
       "model_id": "0c9b14a1b02b46b79fc129e60338f42e",
       "version_major": 2,
       "version_minor": 0
      },
      "text/plain": [
       "HBox(children=(IntProgress(value=0, max=96), HTML(value='')))"
      ]
     },
     "metadata": {},
     "output_type": "display_data"
    },
    {
     "name": "stdout",
     "output_type": "stream",
     "text": [
      "alphaD 0.006840660546690575\n"
     ]
    },
    {
     "data": {
      "application/vnd.jupyter.widget-view+json": {
       "model_id": "9c34d097bfc04dd985c38aca6c462879",
       "version_major": 2,
       "version_minor": 0
      },
      "text/plain": [
       "HBox(children=(IntProgress(value=0, max=96), HTML(value='')))"
      ]
     },
     "metadata": {},
     "output_type": "display_data"
    },
    {
     "name": "stdout",
     "output_type": "stream",
     "text": [
      "alphaD 0.0073298998363561865\n"
     ]
    },
    {
     "data": {
      "application/vnd.jupyter.widget-view+json": {
       "model_id": "26ce2f10c2c24fb4bb7f363c96b42058",
       "version_major": 2,
       "version_minor": 0
      },
      "text/plain": [
       "HBox(children=(IntProgress(value=0, max=96), HTML(value='')))"
      ]
     },
     "metadata": {},
     "output_type": "display_data"
    },
    {
     "name": "stdout",
     "output_type": "stream",
     "text": [
      "alphaD 0.007854129180113622\n"
     ]
    },
    {
     "data": {
      "application/vnd.jupyter.widget-view+json": {
       "model_id": "4ea8c365a484474091ab7ed588a8af86",
       "version_major": 2,
       "version_minor": 0
      },
      "text/plain": [
       "HBox(children=(IntProgress(value=0, max=96), HTML(value='')))"
      ]
     },
     "metadata": {},
     "output_type": "display_data"
    },
    {
     "name": "stdout",
     "output_type": "stream",
     "text": [
      "alphaD 0.008415851042321756\n"
     ]
    },
    {
     "data": {
      "application/vnd.jupyter.widget-view+json": {
       "model_id": "6e902b8e00da4a2aa79b451a3a5d5fe1",
       "version_major": 2,
       "version_minor": 0
      },
      "text/plain": [
       "HBox(children=(IntProgress(value=0, max=96), HTML(value='')))"
      ]
     },
     "metadata": {},
     "output_type": "display_data"
    },
    {
     "name": "stdout",
     "output_type": "stream",
     "text": [
      "alphaD 0.00901774686185179\n"
     ]
    },
    {
     "data": {
      "application/vnd.jupyter.widget-view+json": {
       "model_id": "4fca7686d9ea4eef99d1c7b8c556974d",
       "version_major": 2,
       "version_minor": 0
      },
      "text/plain": [
       "HBox(children=(IntProgress(value=0, max=96), HTML(value='')))"
      ]
     },
     "metadata": {},
     "output_type": "display_data"
    },
    {
     "name": "stdout",
     "output_type": "stream",
     "text": [
      "alphaD 0.009662689852220031\n"
     ]
    },
    {
     "data": {
      "application/vnd.jupyter.widget-view+json": {
       "model_id": "cb71281c56e848f2ac477929f805df59",
       "version_major": 2,
       "version_minor": 0
      },
      "text/plain": [
       "HBox(children=(IntProgress(value=0, max=96), HTML(value='')))"
      ]
     },
     "metadata": {},
     "output_type": "display_data"
    },
    {
     "name": "stdout",
     "output_type": "stream",
     "text": [
      "alphaD 0.010353758717177272\n"
     ]
    },
    {
     "data": {
      "application/vnd.jupyter.widget-view+json": {
       "model_id": "3525c1b53cea4793814febeb72834317",
       "version_major": 2,
       "version_minor": 0
      },
      "text/plain": [
       "HBox(children=(IntProgress(value=0, max=96), HTML(value='')))"
      ]
     },
     "metadata": {},
     "output_type": "display_data"
    },
    {
     "name": "stdout",
     "output_type": "stream",
     "text": [
      "alphaD 0.011094252347227596\n"
     ]
    },
    {
     "data": {
      "application/vnd.jupyter.widget-view+json": {
       "model_id": "354ab9a386b34e90ba8f162b2a9859e0",
       "version_major": 2,
       "version_minor": 0
      },
      "text/plain": [
       "HBox(children=(IntProgress(value=0, max=96), HTML(value='')))"
      ]
     },
     "metadata": {},
     "output_type": "display_data"
    },
    {
     "name": "stdout",
     "output_type": "stream",
     "text": [
      "alphaD 0.011887705567231994\n"
     ]
    },
    {
     "data": {
      "application/vnd.jupyter.widget-view+json": {
       "model_id": "b148250a8b004706b62d6f4134d29170",
       "version_major": 2,
       "version_minor": 0
      },
      "text/plain": [
       "HBox(children=(IntProgress(value=0, max=96), HTML(value='')))"
      ]
     },
     "metadata": {},
     "output_type": "display_data"
    },
    {
     "name": "stdout",
     "output_type": "stream",
     "text": [
      "alphaD 0.012737906010269646\n"
     ]
    },
    {
     "data": {
      "application/vnd.jupyter.widget-view+json": {
       "model_id": "81ba299d60134717a52202d037ef0212",
       "version_major": 2,
       "version_minor": 0
      },
      "text/plain": [
       "HBox(children=(IntProgress(value=0, max=96), HTML(value='')))"
      ]
     },
     "metadata": {},
     "output_type": "display_data"
    },
    {
     "name": "stdout",
     "output_type": "stream",
     "text": [
      "alphaD 0.013648912198306056\n"
     ]
    },
    {
     "data": {
      "application/vnd.jupyter.widget-view+json": {
       "model_id": "bfb63bc7a2824cf78af563f0d9fb02ff",
       "version_major": 2,
       "version_minor": 0
      },
      "text/plain": [
       "HBox(children=(IntProgress(value=0, max=96), HTML(value='')))"
      ]
     },
     "metadata": {},
     "output_type": "display_data"
    },
    {
     "name": "stdout",
     "output_type": "stream",
     "text": [
      "alphaD 0.01462507291597799\n"
     ]
    },
    {
     "data": {
      "application/vnd.jupyter.widget-view+json": {
       "model_id": "25c9f9ddf9324666a29dc2b5d96ad2b0",
       "version_major": 2,
       "version_minor": 0
      },
      "text/plain": [
       "HBox(children=(IntProgress(value=0, max=96), HTML(value='')))"
      ]
     },
     "metadata": {},
     "output_type": "display_data"
    },
    {
     "name": "stdout",
     "output_type": "stream",
     "text": [
      "alphaD 0.015671047969978064\n"
     ]
    },
    {
     "data": {
      "application/vnd.jupyter.widget-view+json": {
       "model_id": "deb53e13786c476b95b99a940d5ed196",
       "version_major": 2,
       "version_minor": 0
      },
      "text/plain": [
       "HBox(children=(IntProgress(value=0, max=96), HTML(value='')))"
      ]
     },
     "metadata": {},
     "output_type": "display_data"
    },
    {
     "name": "stdout",
     "output_type": "stream",
     "text": [
      "alphaD 0.01679183043313609\n"
     ]
    },
    {
     "data": {
      "application/vnd.jupyter.widget-view+json": {
       "model_id": "d65d69203508432a9b84d28c95193329",
       "version_major": 2,
       "version_minor": 0
      },
      "text/plain": [
       "HBox(children=(IntProgress(value=0, max=96), HTML(value='')))"
      ]
     },
     "metadata": {},
     "output_type": "display_data"
    },
    {
     "name": "stdout",
     "output_type": "stream",
     "text": [
      "alphaD 0.01799277047938167\n"
     ]
    },
    {
     "data": {
      "application/vnd.jupyter.widget-view+json": {
       "model_id": "a6cbfa1ccda44911b461bfcd238c05c4",
       "version_major": 2,
       "version_minor": 0
      },
      "text/plain": [
       "HBox(children=(IntProgress(value=0, max=96), HTML(value='')))"
      ]
     },
     "metadata": {},
     "output_type": "display_data"
    },
    {
     "name": "stdout",
     "output_type": "stream",
     "text": [
      "alphaD 0.019279600923366752\n"
     ]
    },
    {
     "data": {
      "application/vnd.jupyter.widget-view+json": {
       "model_id": "81ff75daf49145df9987bec8862bff70",
       "version_major": 2,
       "version_minor": 0
      },
      "text/plain": [
       "HBox(children=(IntProgress(value=0, max=96), HTML(value='')))"
      ]
     },
     "metadata": {},
     "output_type": "display_data"
    }
   ],
   "source": [
    "alpha_list = 10**np.arange(np.log10(7e-4),np.log10(2e-2),.03)\n",
    "xi_list = 10**np.arange(np.log10(.01),np.log10(.8),.02)\n",
    "m_be= 3e7\n",
    "m_bp = m_be\n",
    "\n",
    "xe_data = np.zeros((alpha_list.size, xi_list.size))\n",
    "recomb_rs_data = np.zeros((alpha_list.size, xi_list.size))\n",
    "\n",
    "for i,alphaD in enumerate(tqdm(alpha_list)):\n",
    "    print('alphaD', alphaD)\n",
    "    for j,xi in enumerate(tqdm(xi_list)):\n",
    "        \n",
    "        rs_start = find_rs_start(alphaD, m_be, m_bp, xi)\n",
    "        rs_list_DM = 10**np.arange(np.log10(rs_start),np.log10(1+17.2),-.01)\n",
    "        dark_history = dark_tla.get_history(\n",
    "            rs_list_DM,\n",
    "            alphaD=alphaD, m_be=m_be, m_bp=m_bp, xi=xi\n",
    "        )\n",
    "        \n",
    "        if np.isnan(xe_data[-1,1]):\n",
    "            print('BAD')\n",
    "            xe_data[i,j] = 1e-12\n",
    "            recomb_rs_data[i,j] = 1e-12\n",
    "        else:\n",
    "            xe_data[i,j] = dark_history[-1,1]\n",
    "\n",
    "            x_be_func = interp1d(rs_list_DM, dark_history[:,1], bounds_error=False, fill_value=(dark_history[-1,1],dark_history[0,1]))\n",
    "            recomb_rs_data[i,j] = find_recomb_rs(\n",
    "                x_be_func, alphaD, m_be, m_bp, xi, rs_list_DM[0]\n",
    "            )"
   ]
  },
  {
   "cell_type": "code",
   "execution_count": 691,
   "metadata": {},
   "outputs": [
    {
     "data": {
      "image/png": "[encoded data removed]",
      "text/plain": [
       "<Figure size 554.4x446.4 with 2 Axes>"
      ]
     },
     "metadata": {
      "needs_background": "light"
     },
     "output_type": "display_data"
    }
   ],
   "source": [
    "plt.figure(figsize=(7.7, 6.2))\n",
    "ax = plt.gca()\n",
    "ax.loglog()\n",
    "\n",
    "# Specify the proper contour levels and label them\n",
    "frac_change_levels = [1, 1e4,2e4, 3e4, 1e5, 1e6, 1e7, 1e8]\n",
    "frac_change_labels = ['1', '1e4', '2e4', '3e4', '1e5', '1e6', '1e7', '1e8']        \n",
    "    \n",
    "    \n",
    "plt_heating = plt.contour(\n",
    "    xi_list, alpha_list, recomb_rs_data,\n",
    "    levels=frac_change_levels,\n",
    "    linewidths=0.5,\n",
    "    colors='k'\n",
    ")\n",
    "\n",
    "\n",
    "f_levels = [1.5e-3, 2.5e-3]\n",
    "f_plt = plt.contour(\n",
    "    xi_list, alpha_list, xe_data,\n",
    "    levels=f_levels,\n",
    "    linewidths=1.5,\n",
    "    colors='k'\n",
    ")\n",
    "\n",
    "cntr1 = ax.contourf(xi_list, alpha_list, recomb_rs_data, \n",
    "                    frac_change_levels,\n",
    "                    norm=matplotlib.colors.LogNorm(),\n",
    "                    cmap=matplotlib.cm.inferno\n",
    ")\n",
    "\n",
    "cbar = plt.colorbar(\n",
    "    cntr1, ax=ax, ticks=frac_change_levels,\n",
    ")\n",
    "cbar.set_ticklabels(frac_change_labels)\n",
    "# plt.plot(xis, xis**(.52)/95)\n",
    "# plt.plot(xis, xis**(.26)/214)\n",
    "# cbar.set_label(r'$T_m$ Fractional Change $\\delta T_m/ T_{m,0}$', labelpad=20)\n",
    "\n",
    "# plt.axis([xis[0], xis[-1], 5.1, 201.61653821924926])\n",
    "\n",
    "label1_txt = r'$m_\\textbf{e} = m_\\textbf{p} = 30$MeV'\n",
    "# label2_txt = r'$B_D = m_D\\left(\\frac{8}{\\alpha^2} - 1\\right)^{-1}$'\n",
    "label1_dx = .4\n",
    "label2_dx = .407\n",
    "                    \n",
    "plt.text(label1_dx, 0.88, label1_txt,transform=ax.transAxes, color='w', fontsize=20)\n",
    "# plt.text(label2_dx, 0.78, label2_txt,transform=ax.transAxes, color='w', fontsize=20)\n",
    "\n",
    "plt.title(r'EDGES Window')\n",
    "plt.xlabel(r'$\\xi$')\n",
    "plt.ylabel(r'$\\alpha_D$')\n",
    "plt.savefig('/Users/gregoryridgway/Dropbox (MIT)/Atomic DM/alpha_xi_contours_mD30MeV_ODE_solve.pdf')\n",
    "plt.show()"
   ]
  },
  {
   "cell_type": "markdown",
   "metadata": {},
   "source": [
    "# Rates"
   ]
  },
  {
   "cell_type": "code",
   "execution_count": 26,
   "metadata": {},
   "outputs": [],
   "source": [
    "# specify 4 unknowns\n",
    "me = 3e7\n",
    "mp = 3e7\n",
    "alphaD=3e-3\n",
    "xi=.1\n",
    "\n",
    "# derived quantities\n",
    "BD = ryd_D(me, mp, alphaD)\n",
    "mD=me+mp-BD"
   ]
  },
  {
   "cell_type": "code",
   "execution_count": 21,
   "metadata": {},
   "outputs": [
    {
     "data": {
      "text/plain": [
       "2.290190051235983e+17"
      ]
     },
     "execution_count": 21,
     "metadata": {},
     "output_type": "execute_result"
    }
   ],
   "source": [
    "#--- Rates ---#\n",
    "\n",
    "#hubble\n",
    "#phys.hubble\n",
    "\n",
    "# dark e-p scattering rate, Coulomb\n",
    "def ep_rate(rs):\n",
    "    muD = me*mp/(me+mp)\n",
    "    \n",
    "    #assume DM is perfectly coupled to dark CMB\n",
    "    TDM = phys.TCMB(rs) * xi\n",
    "    \n",
    "    \n",
    "    lnL = np.log(TDM**(3/2))*(np.pi*nD*xD)**(-1/2)*(alphaD)**(-3/2)\n",
    "    return np.sqrt(muD)*TDM**(3/2) / (np.sqrt(2*np.pi) * alphaD**2 * nD * xD * lnL)"
   ]
  },
  {
   "cell_type": "code",
   "execution_count": 44,
   "metadata": {},
   "outputs": [
    {
     "data": {
      "image/png": "[encoded data removed]",
      "text/plain": [
       "<Figure size 576x576 with 1 Axes>"
      ]
     },
     "metadata": {
      "needs_background": "light"
     },
     "output_type": "display_data"
    }
   ],
   "source": [
    "rs_vec = 10**np.arange(0,5,.05)\n",
    "plt.figure(figsize=(8,8))\n",
    "plt.loglog()\n",
    "\n",
    "plt.plot(rs_vec, 2*phys.hubble(rs_vec), label='Adiabatic Cooling')\n",
    "\n",
    "plt.title(r'Comparison of Rates')\n",
    "plt.xlabel(r'redshift $1+z$')\n",
    "plt.ylabel(r'Rate [s$^{-1}$]')\n",
    "plt.legend()\n",
    "\n",
    "plt.show()"
   ]
  },
  {
   "cell_type": "markdown",
   "metadata": {},
   "source": [
    "## Structure Formation Constraints"
   ]
  },
  {
   "cell_type": "code",
   "execution_count": 7,
   "metadata": {},
   "outputs": [
    {
     "data": {
      "text/plain": [
       "1.3560772667898744"
      ]
     },
     "execution_count": 7,
     "metadata": {},
     "output_type": "execute_result"
    }
   ],
   "source": [
    "Msol = 2e30 * 2e36\n",
    "kF = np.sqrt(1e9/phys.TCMB(1))**(1/2)*phys.hubble(1)/phys.c\n",
    "phys.rho_crit*(np.pi/kF)**3 * 4*np.pi/3/Msol/1e6  /1e8"
   ]
  },
  {
   "cell_type": "markdown",
   "metadata": {},
   "source": [
    "# Scratch"
   ]
  },
  {
   "cell_type": "code",
   "execution_count": 92,
   "metadata": {},
   "outputs": [],
   "source": [
    "# Eq. (22)\n",
    "# Assumes TD/BD ~ .007\n",
    "def xD_approx(omega_D):\n",
    "    return 2e-16*xi/(alphaD**6)*(.11/omega_D/phys.h**2)*(mD/GeV)*(BD/keV)\n",
    "\n",
    "def thermal_wavelength(m, T):\n",
    "    hplanck = 2*np.pi*phys.hbar\n",
    "    return phys.c * hplanck / np.sqrt(2 * np.pi * m * T)"
   ]
  },
  {
   "cell_type": "markdown",
   "metadata": {},
   "source": [
    "# Import Standard Solution"
   ]
  },
  {
   "cell_type": "code",
   "execution_count": null,
   "metadata": {},
   "outputs": [],
   "source": [
    "std_soln = pickle.load(open('standard_soln.p','rb'))\n",
    "std_soln_rs = std_soln[0]\n",
    "std_soln_T = std_soln[1]\n",
    "std_soln_xe = std_soln[2]"
   ]
  },
  {
   "cell_type": "markdown",
   "metadata": {},
   "source": [
    "# Import 21cmFast"
   ]
  },
  {
   "cell_type": "code",
   "execution_count": null,
   "metadata": {},
   "outputs": [],
   "source": [
    "a = np.loadtxt('../global_evolution_zetaIon30.00_Nsteps40_zprimestepfactor1.020_zetaX2.0e+56_alphaX1.2_TvirminX3.0e+04_Pop2_256_300Mpc')\n",
    "\n",
    "#Big hydrodynamic simulation with structure formation, stars, and x-ray sources\n",
    "redshift = a[:,0]\n",
    "filling_fac_HI = a[:,1]\n",
    "T_m = a[:,2]\n",
    "xe = a[:,3]\n",
    "T_S = a[:,4]\n",
    "T_CMB = a[:,5]\n",
    "J_alpha = a[:,6]\n",
    "x_alpha = a[:,7]\n",
    "dT_Xray_dz_raw = a[:,8]\n",
    "dxe_Xray_dz_raw = a[:,9]"
   ]
  },
  {
   "cell_type": "code",
   "execution_count": null,
   "metadata": {},
   "outputs": [],
   "source": [
    "def get_T_21(xe, T_R, T_S, z):\n",
    "    xHI = 1 - xe\n",
    "    return (\n",
    "        xHI*np.sqrt(0.15/phys.omega_m)\n",
    "        * phys.omega_baryon*phys.h/0.02\n",
    "        * np.sqrt((1+z)/10)\n",
    "        * (1 - (T_R/T_S))\n",
    "        * 23*1e-3\n",
    "    )\n",
    "\n",
    "T_21 = get_T_21(xe, T_CMB, T_S, redshift)"
   ]
  },
  {
   "cell_type": "markdown",
   "metadata": {},
   "source": [
    "### Spin Temperature"
   ]
  },
  {
   "cell_type": "code",
   "execution_count": null,
   "metadata": {},
   "outputs": [],
   "source": [
    "# Temperatures in K, Rates in cm^3 s^-1\n",
    "\n",
    "T_HH_raw_below_300K = np.array(\n",
    "    [1, 2, 4, 6, 8, 10, 15, 20, 25, 30, \n",
    "     40, 50, 60, 70, 80, 90, 100, 200, 300]\n",
    ")\n",
    "kappa_HH_raw_below_300K = np.array(\n",
    "    [1.38, 1.43, 2.71, 6.60, 14.7, 28.8, 91., 178., 273., \n",
    "     367., 538., 686., 814., 925., 1020., 1110., 1190., 1750., 2090.]\n",
    ")*1e-13\n",
    "\n",
    "T_eH_raw = np.array(\n",
    "    [1, 2, 5, 10, 20, 50, 1000, 200, 500, 1000, \n",
    "     2000, 3000, 5000, 7000, 10000, 15000, 20000]\n",
    ")\n",
    "kappa_eH_raw = np.array(\n",
    "    [0.239, 0.337, 0.530, 0.746, 1.05, 1.63, 2.26, 3.11, \n",
    "    4.59, 5.92, 7.15, 7.71, 8.17, 8.32, 8.37, 8.29, 8.11]\n",
    ")*1e-9\n",
    "\n",
    "T_pH_raw = T_eH_raw\n",
    "\n",
    "kappa_pH_raw = np.array(\n",
    "    [0.4028, 0.4517, 0.4301, 0.3699, 0.3172, 0.3047, 0.3379, \n",
    "     0.4043, 0.5471, 0.7051, 0.9167, 1.070,  1.301,  1.480, \n",
    "     1.695,  1.975,  2.201]\n",
    ")*1e-9\n",
    "\n",
    "def x_c(T_m, T_CMB, xe, rs):\n",
    "    \n",
    "    def kappa_HH(T_matter):\n",
    "        rates = np.zeros_like(T_matter)\n",
    "        \n",
    "        T_matter_low  = T_matter[T_matter <= 300]\n",
    "        T_matter_high = T_matter[T_matter > 300]\n",
    "        \n",
    "        rates[T_matter <= 300] = np.interp(T_matter_low, T_HH_raw_below_300K, kappa_HH_raw_below_300K)\n",
    "        rates[T_matter >= 300] = 8.652e-11 * T_matter_high**0.2067 * np.exp(-87.56/T_matter_high)\n",
    "        \n",
    "        return rates\n",
    "\n",
    "    kappa_HH_rates = kappa_HH(T_m)\n",
    "    kappa_eH_rates = np.interp(T_m, T_eH_raw, kappa_eH_raw)\n",
    "    kappa_pH_rates = np.interp(T_m, T_pH_raw, kappa_pH_raw)\n",
    "    \n",
    "    nHI = (1 - xe)*phys.nH*rs**3\n",
    "    ne  = xe*phys.nH*rs**3\n",
    "    nprotons  = xe*phys.nH*rs**3\n",
    "    \n",
    "    return 0.0628/(2.85e-15 * T_CMB)*(nHI*kappa_HH_rates + ne*kappa_eH_rates + nprotons*kappa_pH_rates)"
   ]
  },
  {
   "cell_type": "code",
   "execution_count": null,
   "metadata": {},
   "outputs": [],
   "source": [
    "x_c_arr = x_c(T_m, T_CMB, xe, 1+redshift)\n",
    "T_S_from_x_alpha = 1/((1/T_CMB + (x_alpha + x_c_arr)*(1/T_m))/(1 + x_alpha + x_c_arr))"
   ]
  },
  {
   "cell_type": "markdown",
   "metadata": {},
   "source": [
    "# Structure Formation"
   ]
  },
  {
   "cell_type": "markdown",
   "metadata": {},
   "source": [
    "Roughly following Diamanti et al. (1308.2578), \n",
    "we find that structure formation leads to a halo boost factor given by\n",
    "\n",
    "\\begin{equation}\n",
    "    G_p(z) = \\frac1{\\rho_{\\chi,0}^2 (1+z)^6} \\int dM \\frac{dn}{dM}(M,z) \\\n",
    "    \\int_0^{r_\\Delta} dr \\; 4 \\pi r^2 \\; \\langle v^2(r)\\rangle \\rho^2_{Halo}(r)\n",
    "\\end{equation}\n",
    "\n",
    "where $\\langle \\sigma v \\rangle =  (\\sigma v)_{ref} \\frac{\\langle v^2(r) \\rangle}{v^2_{ref}}$. \n",
    "\n",
    "As a first pass, we will use an NFW profile\n",
    "\n",
    "\\begin{equation}\n",
    "    \\rho_{Halo}(r) = \\rho_s \\frac{4}{(r/r_s)(1 + r/rs)^2}\n",
    "\\end{equation}\n",
    "\n",
    "for which the r integral above has a closed form solution.\n",
    "Notice, we have included the factor of 4 in the NFW that Diamanti and Prada use.\n",
    "We will need the concentration parameter, $c = \\frac{r_\\Delta}{rs}$,\n",
    "a function of halo mass and redshift to make headway."
   ]
  },
  {
   "cell_type": "markdown",
   "metadata": {},
   "source": [
    "### Calculation of c(M,z)"
   ]
  },
  {
   "cell_type": "markdown",
   "metadata": {},
   "source": [
    "The following definitions and equations come from 1104.5130"
   ]
  },
  {
   "cell_type": "code",
   "execution_count": null,
   "metadata": {},
   "outputs": [],
   "source": [
    "from scipy.integrate import quad\n",
    "import numpy as np\n",
    "\n",
    "rs_list = np.arange(1,1000.1,.05)\n",
    "\n",
    "omega_lambda = .726\n",
    "omega_m = 1-omega_lambda\n",
    "\n",
    "# Eq. 13\n",
    "def x_frac(a):\n",
    "    return (omega_lambda/omega_m)**(1/3) * a\n",
    "\n",
    "# For Eq. 12\n",
    "def integrand(x):\n",
    "     return (x/(1 + x**3))**(3/2)\n",
    "    \n",
    "x_list = np.array([x_frac(1/rs) for rs in rs_list])\n",
    "D_list = [quad(integrand, 0, x)[0] for x in x_list]\n",
    "D_interp = scipy.interpolate.interp1d(\n",
    "    x_list, D_list\n",
    ")\n",
    "    \n",
    "const = 5/2 * (omega_m/omega_lambda)**(1/3) * (\n",
    "    np.sqrt(1 + x_list[0]**3) / x_list[0]**(3/2) * D_interp(x_list[0])\n",
    ")\n",
    "\n",
    "# Eq. 12, added a normalization const to ensure D(1) = 1 as they said in the text\n",
    "def D(a):\n",
    "    x = x_frac(a)\n",
    "    return 5/2 * (omega_m/omega_lambda)**(1/3) * (\n",
    "        np.sqrt(1 + x**3) / x**(3/2) * D_interp(x)/const\n",
    "    )"
   ]
  },
  {
   "cell_type": "code",
   "execution_count": null,
   "metadata": {},
   "outputs": [],
   "source": [
    "#Eq. 23\n",
    "def sigma(M_tilde, a):\n",
    "    #Make sure M is in units of M_sun * h^-1\n",
    "    y = 10**12 / M_tilde\n",
    "    return D(a) * 16.9 * y**0.41 / (1 + 1.102 * y**0.20 + 6.22 * y**0.333)\n",
    "\n",
    "#Eq. 21\n",
    "c0 =    3.681\n",
    "c1 =    5.033\n",
    "alpha = 6.948\n",
    "x_0 =   0.424\n",
    "\n",
    "#Eq. 19\n",
    "def c_min(x):\n",
    "    return c0 + (c1 - c0) * (\n",
    "        np.arctan(alpha*(x-x_0))/np.pi + .5\n",
    "    )\n",
    "\n",
    "#Eq. 22\n",
    "sig_inv0 = 1.047\n",
    "sig_inv1 = 1.646\n",
    "beta =     7.386\n",
    "x_1 =      0.526\n",
    "\n",
    "#Eq. 20\n",
    "def sig_inv_min(x):\n",
    "    return sig_inv0 + (sig_inv1 - sig_inv0) * (\n",
    "        np.arctan(beta*(x-x_1))/np.pi + .5\n",
    "    )\n",
    "\n",
    "#Eq. 18, enforced B0 = B1 = 1 at a = 1\n",
    "def B0(x):\n",
    "    return c_min(x)/c_min(x_frac(1))\n",
    "def B1(x):\n",
    "    return sig_inv_min(x)/sig_inv_min(x_frac(1))"
   ]
  },
  {
   "cell_type": "code",
   "execution_count": null,
   "metadata": {},
   "outputs": [],
   "source": [
    "#Eq. 15\n",
    "def sig_p(M,a):\n",
    "    return B1(x_frac(a)) * sigma(M,a)\n",
    "\n",
    "#Eq. 17\n",
    "A_param = 2.881\n",
    "b_param = 1.257\n",
    "c_param = 1.022\n",
    "d_param = 0.060\n",
    "\n",
    "#Eq. 16\n",
    "def lnC(sigp):\n",
    "    return np.log(A_param*((sigp/b_param)**c_param + 1)) + (d_param/sigp**2)\n",
    "\n",
    "#Eq. 14, The bottom line\n",
    "def lnc(M,z):\n",
    "    return np.log(B0(x_frac(1/(1+z)))) + lnC(sig_p(M,1/(1+z)))"
   ]
  },
  {
   "cell_type": "code",
   "execution_count": null,
   "metadata": {},
   "outputs": [],
   "source": [
    "Ms = 10**np.arange(11,15,.1)\n",
    "\n",
    "plt.figure(figsize=(10,10))\n",
    "\n",
    "ax = plt.gca()\n",
    "\n",
    "logc_plt0, = plt.plot(np.log10(Ms), np.array([np.log10(2.718281) * lnc(M, 0) for M in Ms]))\n",
    "\n",
    "logc_pltp5, = plt.plot(np.log10(Ms), np.array([np.log10(2.718281) * lnc(M, .5) for M in Ms]))\n",
    "\n",
    "logc_plt1, = plt.plot(np.log10(Ms[:-4]), np.array([np.log10(2.718281) * lnc(M, 1) for M in Ms[:-4]]))\n",
    "\n",
    "logc_plt2, = plt.plot(np.log10(Ms[:-10]), np.array([np.log10(2.718281) * lnc(M, 2) for M in Ms[:-10]]))\n",
    "\n",
    "plt.title(r'\\bf{Concentration parameter vs. Halo Mass}')\n",
    "plt.xlabel(r'log $M_{200}$ ($M_\\odot \\, h^{-1}$)')\n",
    "plt.ylabel('log c')\n",
    "plt.axis([10, 15, .5, 1])\n",
    "\n",
    "plt.show()"
   ]
  },
  {
   "cell_type": "markdown",
   "metadata": {},
   "source": [
    "Eq. B10 (which has an extra factor of $r^2$ in it) and Fig. 5 of Diamanti give a more convenient expression for $G_p(z)$\n",
    "\n",
    "\\begin{equation}\n",
    "    G_p(z) = \\frac1{\\rho_{\\chi,0}^2 (1+z)^6} \\int dM \\frac{dn}{dM}(M,z) \\; G r_s^5 \\rho_s^3 \\; I(c)\n",
    "\\end{equation}\n",
    "with\n",
    "\\begin{equation}\n",
    "    I(c) = \\frac1{G \\rho_s^3 r_s^5} \\\n",
    "    \\int_0^{r_\\Delta} dr \\; (4 \\pi r^2) \\\n",
    "    \\left(3 \\langle \\Sigma^2(r) \\rangle \\right) \\\n",
    "    \\rho^2(r)\n",
    "\\end{equation}\n",
    "which we determine below"
   ]
  },
  {
   "cell_type": "code",
   "execution_count": null,
   "metadata": {},
   "outputs": [],
   "source": [
    "import csv\n",
    "length = 74\n",
    "width = 2\n",
    "datums = np.zeros([length,width])\n",
    "# with open('/Users/gridgway/Desktop/WebplotDigitizer/'+\n",
    "#           'pwave Boost/I_integral.csv') as csvfile:\n",
    "#     reader = csv.reader(csvfile, delimiter= ',')\n",
    "#     for k,row in enumerate(reader):\n",
    "#         datums[k,:] = [np.log10(float(r)) for r in row]\n",
    "\n",
    "#!!! Compute this right here, don't import it\n",
    "with open('/Users/gridgway/Desktop/DarkHistory/I_integral.csv') as csvfile:\n",
    "    reader = csv.reader(csvfile, delimiter= ',')\n",
    "    for k,row in enumerate(reader):\n",
    "        datums[k,:] = [np.log10(float(r)) for r in row]\n",
    "        \n",
    "logI_interp = scipy.interpolate.interp1d(\n",
    "    datums[:,0], datums[:,1], bounds_error=False, fill_value=(datums[0,1],datums[-1,1])\n",
    ")\n",
    "temp=np.arange(-3,1.1,0.1)\n",
    "\n",
    "ax = plt.gca()\n",
    "ax.set_xscale('log')\n",
    "\n",
    "temp_plt, = plt.plot(10**temp, 10**logI_interp(temp))\n",
    "\n",
    "plt.show()"
   ]
  },
  {
   "cell_type": "markdown",
   "metadata": {},
   "source": [
    "Finally, we need $\\rho_s$ and $r_s$ as functions of M and z.  Prada et al. use a virial radius with $\\Delta = 200$, \n",
    "\\begin{equation}\n",
    "    r_\\Delta = \\left(\n",
    "        \\frac{M}{\\frac{4}{3}\\pi \\, (200 \\, \\rho_c(z))}\n",
    "    \\right)^{\\frac1{3}}\n",
    "\\end{equation}\n",
    "\n",
    "Combining this with $M$ and $z$, we then have $r_s = r_\\Delta / c$. \n",
    "\n",
    "To determine $\\rho_s$, we use\n",
    "\n",
    "\\begin{equation}\n",
    "    M = \\int_0^{r_\\Delta} dr \\; 4 \\pi r^2 \\; \\rho_{Halo}(r) = \\int_0^{r_\\Delta} dr \\; 4 \\pi r^2 \\; \\\n",
    "    \\rho_s \\frac{4}{(r/r_s)(1 + r/rs)^2} = 16\\pi \\rho_s r_s^3 \\left(-1 + \\frac1{1 + c} + \\ln(1 + c) \\right)\n",
    "\\end{equation}\n",
    "\n",
    "\\begin{equation}\n",
    "    \\implies \\rho_s = M \\left(16\\pi r_s^3 \\left(\\ln(1 + c) - \\frac{c}{1 + c} \\right) \\right)^{-1}\n",
    "\\end{equation}"
   ]
  },
  {
   "cell_type": "markdown",
   "metadata": {},
   "source": [
    "### Diamanti's Treatment"
   ]
  },
  {
   "cell_type": "code",
   "execution_count": null,
   "metadata": {},
   "outputs": [],
   "source": [
    "#import hmf\n",
    "logMmin = 6\n",
    "logMmax = 15\n",
    "log_step = .01\n",
    "logMs_per_h = np.arange(logMmin,logMmax+log_step,log_step)\n",
    "\n",
    "h = hmf.MassFunction(\n",
    "    z=0.0, Mmin=logMmin, Mmax=logMmax, dlog10m=log_step, hmf_model=\"SMT\"\n",
    ")\n",
    "Mpsc = 3.08567758149137 * 10**22 * 100\n",
    "\n",
    "#G = 6.70711 * 10**-39 * phys.hbar * phys.c**5 * 10**-18 #PDG value of G in eV\n",
    "G = 6.6726*10**-11 * Msol * 10**6 # m^3 / kg s^2 becomes cm^3 / M_sol s^2\n",
    "rho_crit = 3 * phys.H0**2 / 8 / np.pi / G # critical density in solar mass units\n",
    "\n",
    "Delta = 200\n",
    "\n",
    "Ms = 10**logMs_per_h * phys.h # in Msol\n",
    "dMs = Ms[1:] - Ms[:-1]\n",
    "\n",
    "Ms = Ms[:-1]\n",
    "logMs_per_h = logMs_per_h[:-1]\n",
    "\n",
    "G_ps_cut = np.zeros_like(rs_list)\n",
    "G_ps = np.zeros_like(rs_list)\n",
    "\n",
    "for k,rs in enumerate(rs_list[:1600]):\n",
    "    #mindex = np.searchsorted(Ms,interp_Mcuts(rs)-.01) #minimum mass index\n",
    "    #mindex = np.searchsorted(Ms,5*10**10)\n",
    "#     if k%10==0:\n",
    "#         print(mindex)\n",
    "    h.update(z=rs-1)\n",
    "    rDel = (Ms / (4/3 * np.pi * Delta * rho_crit))**(1/3) * 1/rs\n",
    "    logcs = np.log10(2.718281) * lnc(10**logMs_per_h, rs-1)\n",
    "    Is = 10**logI_interp(logcs)\n",
    "    ln_r_s = np.log(rDel) - np.log(10) * logcs\n",
    "    ln_rho_s = np.log(Ms) - 3*ln_r_s - np.log(16 * np.pi) - np.log(np.log(1 + 10**logcs) - \n",
    "                                            10**logcs/(1+10**logcs))\n",
    "\n",
    "#     G_ps_cut[k] = G /(phys.omega_DM**2 * rho_crit**2 * rs**6) * sum(\n",
    "#         (np.exp((5*ln_r_s + 3*np.nan_to_num(ln_rho_s) + np.log(h.dndm/phys.h**4) - 3*np.log(Mpsc))) * dMs * Is)[mindex:]\n",
    "#     )\n",
    "    G_ps[k] = G /(phys.omega_DM**2 * rho_crit**2 * rs**6) * sum(\n",
    "        (np.exp((5*ln_r_s + 3*np.nan_to_num(ln_rho_s) + np.log(h.dndm/phys.h**4) - 3*np.log(Mpsc))) * dMs * Is)\n",
    "    )\n",
    "    if np.isnan(G_ps[k]):\n",
    "        print(\"You done goofed!!!\")\n",
    "        break\n",
    "\n",
    "print(G_ps[:80])"
   ]
  },
  {
   "cell_type": "markdown",
   "metadata": {},
   "source": [
    "### Jesus' Treatment"
   ]
  },
  {
   "cell_type": "markdown",
   "metadata": {},
   "source": [
    "The above boost factor is about an order of magnitude off of Jesus', so we reproduce his by replacing $\\langle \\Sigma^2(r) \\rangle$ by $v_{max}^2/3$, which is provided in Prada as well.  More specifically,\n",
    "\n",
    "\\begin{equation}\n",
    "    \\begin{split}\n",
    "        B_p(z) & = \\frac1{\\rho_{\\chi}^2(z) \\sigma_{1D}^2(z)} \\int dM \\frac{dn}{dM}(M,z) \\\n",
    "        \\int_0^{r_\\Delta} dr \\; 4 \\pi r^2 \\; \\langle v^2(r)\\rangle \\rho^2_{Halo}(r)\n",
    "        \\\\\n",
    "        &= \\frac{4 \\pi \\rho_s^2 r_s^3}{\\rho_{\\chi}^2(z) \\sigma_{1D}^2(z)} \\int dM \\frac{dn}{dM}(M,z) \\\n",
    "        v_{max}^2 \\left( 1 - \\frac1{1+c^3}\\right)\n",
    "    \\end{split}\n",
    "\\end{equation}\n",
    "\n",
    "[\\\\]: <> (The above boost factor is about an order of magnitude off of Jesus', so we reproduce his to identify the discrepancy.  The relevant formula is given in Eqn. 15 \n",
    "\\begin{equation}\n",
    "    \\mathcal{B}(z) = \\\n",
    "    \\frac{\\Delta}{\\Omega^2_m \\rho_{crit}(z)} \\\n",
    "    \\int_{M_{min}}^\\infty \\, M B_h(M,z) \\frac{dn}{dM}(M,z) dM\n",
    "\\end{equation}\n",
    ")\n",
    "\n",
    "[\\\\]: <> (where, for an NFW profile, Eqn. 14 of _Taylor and Silk, Mon. Not. R. Astron. Soc. 339, 505–514 2003_ gives\n",
    "\\begin{equation}\n",
    "    B_h(M,z) = \\frac1{\\overline{\\rho}^2 V} \\int_0^{r_\\Delta} \\rho^2(r) \\; 4\\pi r^2 dr \\\n",
    "    = \\frac{c^3 \\left(1-1/(1+c)^3\\right)}{9\\left[\\ln(1+c) - c/(1+c) \\right]^2}\n",
    "\\end{equation}\n",
    ")\n",
    "\n",
    "[\\\\]: <> (where c = c M,z is the concentration parameter that has already been calculated above.)"
   ]
  },
  {
   "cell_type": "code",
   "execution_count": null,
   "metadata": {},
   "outputs": [],
   "source": [
    "#import hmf\n",
    "logMmin = 6\n",
    "logMmax = 15\n",
    "log_step = .01\n",
    "logMs_per_h = np.arange(logMmin,logMmax+log_step,log_step)\n",
    "\n",
    "h = hmf.MassFunction(\n",
    "    z=0.0, Mmin=logMmin, Mmax=logMmax, dlog10m=log_step, hmf_model=\"SMT\"\n",
    ")\n",
    "Mpsc = 3.08567758149137 * 10**22 * 100\n",
    "\n",
    "G = 6.6726*10**-11 * Msol * 10**6 # m^3 / kg s^2 becomes cm^3 / M_sol s^s\n",
    "rho_crit = 3 * phys.H0**2 / 8 / np.pi / G # critical density in solar mass units\n",
    "\n",
    "Delta = 200\n",
    "\n",
    "#dMs = Ms * (np.arange(step,logMmax-logMmin+step,step))\n",
    "Ms = 10**logMs_per_h * phys.h # in Msol\n",
    "dMs = Ms[1:] - Ms[:-1]\n",
    "\n",
    "Ms = Ms[:-1]\n",
    "logMs_per_h = logMs_per_h[:-1]\n",
    "\n",
    "#G_ps_cut = np.zeros_like(rs_list)\n",
    "B_ps = np.zeros_like(rs_list)\n",
    "\n",
    "for k,rs in enumerate(rs_list[:1600]):\n",
    "    #mindex = np.searchsorted(Ms,interp_Mcuts(rs)-.01) #minimum mass index\n",
    "    #if k%10==0:\n",
    "    #    print(mindex)\n",
    "    h.update(z=rs-1)\n",
    "    logcs = np.log10(2.718281) * lnc(10**logMs_per_h, rs-1)\n",
    "    cs = np.exp(lnc(Ms,rs-1))\n",
    "    f_cs = np.log(1 + cs) - cs/(1+cs) #Prada, eq. 10\n",
    "    \n",
    "    rDel = (Ms / (4/3 * np.pi * Delta * rho_crit))**(1/3) * 1/rs\n",
    "    v200 = np.sqrt(G * Ms / rDel)\n",
    "    ln_v_max = .5 * np.log(.216 * cs / f_cs) + np.log(v200)\n",
    "    #ln_v_max = np.log(4.74)\n",
    "    \n",
    "    ln_r_s = np.log(rDel) - np.log(10) * logcs\n",
    "    ln_rho_s = np.log(Ms) - 3*ln_r_s - np.log(16 * np.pi) - np.log(f_cs)\n",
    "    \n",
    "    B_ps[k] = 64/3 * np.pi /(phys.omega_DM**2 * rho_crit**2 * sigma_1D_B**2 * rs**8) * sum(\n",
    "        (np.exp(\n",
    "            (3*ln_r_s + np.nan_to_num(2*ln_rho_s + 2*ln_v_max) + np.log(h.dndm/phys.h**4) - 3*np.log(Mpsc))\n",
    "        ) * dMs * (1 - 1/(1+cs)**3))\n",
    "    )\n",
    "    if np.isnan(B_ps[k]):\n",
    "        print(\"You done goofed!!!\")\n",
    "        break\n",
    "\n",
    "print(B_ps[:80])"
   ]
  },
  {
   "cell_type": "code",
   "execution_count": null,
   "metadata": {},
   "outputs": [],
   "source": [
    "sigma_1D_B = 1e-11*phys.c*(1/100)**0.5\n",
    "\n",
    "rho_ana = phys.rho_DM * rs_list**4 * sigma_1D_B/phys.c\n",
    "\n",
    "# Diamanti's boost factor\n",
    "rho_v_c_eff_Diamanti = phys.rho_DM * rs_list**4 * sigma_1D_B / phys.c * np.sqrt(\n",
    "    1  + G_ps/sigma_1D_B**2 / rs_list**2)\n",
    "# rho_v_c_eff_Diamanti_cut = phys.rho_DM * rs_list**4 * sigma_1D_B / phys.c * np.sqrt(\n",
    "#     1  + G_ps_cut/sigma_1D_B**2 / rs_list**2)\n",
    "\n",
    "# Jesus' boost factor\n",
    "rho_v_c_eff_Jesus = phys.rho_DM * rs_list**4 * sigma_1D_B / phys.c * np.sqrt(\n",
    "    1  + B_ps)"
   ]
  },
  {
   "cell_type": "code",
   "execution_count": null,
   "metadata": {},
   "outputs": [],
   "source": [
    "# import csv\n",
    "# length = 83\n",
    "# width = 2\n",
    "# datums = np.zeros([length,width])\n",
    "# with open('/Users/gridgway/Desktop/WebplotDigitizer/rho_eff_Jesus/rho_eff_Jesus.csv') as csvfile:\n",
    "#     reader = csv.reader(csvfile, delimiter= ',')\n",
    "#     for k,row in enumerate(reader):\n",
    "#         datums[k,:] = [float(r) for r in row]\n",
    "        \n",
    "NFW_subs_data = []\n",
    "with open('/Users/gridgway/Dropbox (MIT)/21cm_pwave/math/data/rho_eff_NFW_subs_pwave.txt') as f:\n",
    "    for line in f:\n",
    "        inner_list = [float(num.strip()) for num in line.split(' ') if num]\n",
    "        NFW_subs_data.append(inner_list)\n",
    "        \n",
    "NFW_subs_data = np.array(NFW_subs_data)\n",
    "NFW_subs_data[:,2] *= .839418\n",
    "NFW_subs_data[:,0] += 1\n",
    "NFW_subs_data[:,1] = phys.rho_DM * NFW_subs_data[:,0]**4 * 10**-9 * sigma_1D_B/phys.c"
   ]
  },
  {
   "cell_type": "code",
   "execution_count": null,
   "metadata": {},
   "outputs": [],
   "source": [
    "long_struct = rho_ana*10**-9\n",
    "long_struct[rs_list<76.00001] = np.interp(\n",
    "    rs_list[rs_list<76.00001],\n",
    "    NFW_subs_data[:,0],\n",
    "    NFW_subs_data[:,2]\n",
    ")\n",
    "\n",
    "print(long_struct)"
   ]
  },
  {
   "cell_type": "code",
   "execution_count": null,
   "metadata": {},
   "outputs": [],
   "source": [
    "boost_v = np.sqrt(3*soln[:,1]/mDM) * phys.c / (sigma_1D_B * rs_vec)\n",
    "boost_v = np.interp(\n",
    "    rs_list,\n",
    "    np.flipud(rs_vec),\n",
    "    np.flipud(boost_v)\n",
    ")\n",
    "\n",
    "print(boost_v)"
   ]
  },
  {
   "cell_type": "code",
   "execution_count": null,
   "metadata": {},
   "outputs": [],
   "source": [
    "rs_list"
   ]
  },
  {
   "cell_type": "code",
   "execution_count": null,
   "metadata": {},
   "outputs": [],
   "source": [
    "phys.rho_DM * rs_list**4 * sigma_1D_B / phys.c * boost_v * 10**-9"
   ]
  },
  {
   "cell_type": "code",
   "execution_count": null,
   "metadata": {
    "scrolled": false
   },
   "outputs": [],
   "source": [
    "plt.figure(figsize=(10,10))\n",
    "\n",
    "ax = plt.gca()\n",
    "\n",
    "plt_rho_ana, = plt.plot(rs_list-1, rho_ana*10**-9 , color='black')\n",
    "\n",
    "#plt_rho_eff_Jesus, = plt.plot(rs_list-1, rho_v_c_eff_Jesus*10**-9, color='C4', label = r'Greg\\'s Jesus')\n",
    "#plt_rho_eff_NFW, = plt.plot(NFW_subs_data[:,0]-1, NFW_subs_data[:,2], color='C3', label = r'Original Jesus')\n",
    "#plt_rho_eff_NFW, = plt.plot(rs_list-1, long_struct, color='C3', label = r'Original Jesus')\n",
    "plt_rho_v_c_eff_Diamanti, = plt.plot(rs_list-1, rho_v_c_eff_Diamanti*10**-9 , color='C3', label = r'Diamanti')\n",
    "\n",
    "# more_boost = long_struct + phys.rho_DM * rs_list**4 * sigma_1D_B / phys.c * boost_v * 10**-9\n",
    "more_boost = rho_v_c_eff_Diamanti*10**-9 + phys.rho_DM * rs_list**4 * sigma_1D_B / phys.c * boost_v * 10**-9\n",
    "plt_rho_eff_v_boost, = plt.plot(rs_list-1, more_boost, color='C4')\n",
    "\n",
    "\n",
    "# plt_cut, = plt.plot(rs_list-1, rho_v_c_eff_Diamanti_cut*10**-9 , color='C5', label = r'cut')\n",
    "\n",
    "ax.set_xscale('log')\n",
    "ax.set_yscale('log')\n",
    "\n",
    "# leg2 = plt.legend(\n",
    "#     [plt_rho_ana, plt_rho_v_c_eff_Diamanti, plt_rho_eff_NFW, plt_rho_eff_Jesus],#, plt_cut], \n",
    "#     ('Smooth', 'Diamanti', 'Original Jesus', 'Jesus'),#, 'cut'), \n",
    "#     loc=3, title=r'$f_{\\chi,\\mathrm{int}},$ $m_\\chi = 0.01$, '+str(mDM/1e6)+'MeV'\n",
    "# )\n",
    "leg2 = plt.legend(\n",
    "    [plt_rho_ana, plt_rho_v_c_eff_Diamanti, plt_rho_eff_v_boost],#, plt_cut], \n",
    "    ('Smooth', 'Clustered', 'Velocity Boost'),#, 'cut'), \n",
    "    loc=4\n",
    ")\n",
    "\n",
    "plt.setp(leg2.get_title(),fontsize=28)\n",
    "\n",
    "#plt.gca().add_artist(leg)\n",
    "\n",
    "#plt.title(r'\\bf{Structure Formation boost}')\n",
    "plt.ylabel(r'($\\rho$ v/c)$_{eff}$ (GeV/cm$^{-3}$)')\n",
    "plt.xlabel('z')\n",
    "plt.axis([.1, 1e3, 1e-18, 2e-2])\n",
    "plt.savefig('/Users/'+user+'/Dropbox (MIT)/21cm_pwave/plots/Cooling/pwave_structFormation_v_boost.pdf')\n",
    "#plt.savefig('/Users/'+user+'/Dropbox (MIT)/21cm_pwave/plots/Cooling/Struct_Form_Boost_comparison.pdf')\n",
    "\n",
    "plt.show()\n",
    "\n"
   ]
  },
  {
   "cell_type": "code",
   "execution_count": null,
   "metadata": {},
   "outputs": [],
   "source": [
    "print((np.log10(f('H_ion',log10eng[4],10**log10rsOut[5]-1))+\n",
    " np.log10(f('H_ion',log10eng[5],10**log10rsOut[5]-1)))/2)\n",
    "\n",
    "print(np.log10(f('H_ion',(log10eng[4]+log10eng[5])/2,10**log10rsOut[5]-1)))"
   ]
  },
  {
   "cell_type": "markdown",
   "metadata": {},
   "source": [
    "# Compute $f_c(z)$'s"
   ]
  },
  {
   "cell_type": "markdown",
   "metadata": {},
   "source": [
    "Normally we must use Eqn. (42) of Hongwan_OG\n",
    "\n",
    "$$ f_c(z) = \\frac{H(z)}{(1+z)^{\\alpha-3}} \\\n",
    "\\int \\frac{(1+z')^{\\alpha-4}}{H(z')} T_c(z',z'E) [1+B_p(z')] dz' $$\n",
    "\n",
    "but for the absurd 12eV model I'm considering, injected photons are deposited instantaneously\n",
    "\n",
    "$$ f(z) = 1 \\text{ if excitation}, 0 \\text{ otherwise} $$\n",
    "\n",
    "\n",
    "\n"
   ]
  },
  {
   "cell_type": "markdown",
   "metadata": {},
   "source": [
    "### Load in $T_c(E, z_{out}, z_{out})$"
   ]
  },
  {
   "cell_type": "code",
   "execution_count": null,
   "metadata": {},
   "outputs": [],
   "source": [
    "user = 'gridgway'\n",
    "greg = ''\n",
    "species='elec'\n",
    "\n",
    "if species == 'elec':\n",
    "    T_kji = np.loadtxt('/Users/'+user+'/Desktop/StructureFormation_data/transFunc_electron.dat', delimiter=',')\n",
    "    mass_sub = phys.me\n",
    "else:\n",
    "    T_kji = np.loadtxt('/Users/'+user+'/Desktop/StructureFormation_data/transFunc_photon.dat', delimiter=',')\n",
    "    mass_sub = 0\n",
    "\n",
    "binStep = 40*70*70;\n",
    "\n",
    "log10rsIn  = T_kji[0:70, 2]\n",
    "log10rsOut = T_kji[0:70*70:70, 1] \n",
    "log10eng = T_kji[0:binStep:70*70, 0] \n",
    "\n",
    "T_kji = {\n",
    "    'H_ion':   np.reshape(T_kji[0:binStep,3], (40,70,70)),\n",
    "    'He_ion':  np.reshape(T_kji[binStep:2*binStep,3], (40,70,70)),\n",
    "    'H_exc':   np.reshape(T_kji[2*binStep:3*binStep,3], (40,70,70)),\n",
    "    'heating': np.reshape(T_kji[3*binStep:4*binStep,3], (40,70,70)),\n",
    "    'cont':    np.reshape(T_kji[4*binStep:5*binStep,3], (40,70,70)) \n",
    "}\n",
    "#index 1: channel\n",
    "#index 2: energy \n",
    "#index 3: output rs\n",
    "#index 4: input rs"
   ]
  },
  {
   "cell_type": "code",
   "execution_count": null,
   "metadata": {},
   "outputs": [],
   "source": [
    "eng0  = 1\n",
    "zOut = 67\n",
    "zIn  = 68\n",
    "\n",
    "print(T_kji['H_ion'][eng0,zOut,zIn])\n",
    "print(T_kji['He_ion'][eng0,zOut,zIn])\n",
    "print(T_kji['H_exc'][eng0,zOut,zIn])\n",
    "print(T_kji['heating'][eng0,zOut,zIn])\n",
    "print(T_kji['cont'][eng0,zOut,zIn])"
   ]
  },
  {
   "cell_type": "markdown",
   "metadata": {},
   "source": [
    "### Compute $B_p(z')$"
   ]
  },
  {
   "cell_type": "code",
   "execution_count": null,
   "metadata": {
    "scrolled": true
   },
   "outputs": [],
   "source": [
    "#halo_boost_raw = (rho_v_c_eff_Diamanti_cut/rho_ana)**2\n",
    "halo_boost_raw = (NFW_subs_data[:,2]/NFW_subs_data[:,1])**2\n",
    "\n",
    "halo_boost = 10**np.flipud(np.interp(\n",
    "#    np.flipud(rs_vec), rs_list, halo_boost_raw\n",
    "    np.flipud(rs_vec), NFW_subs_data[:,0], np.log10(halo_boost_raw)\n",
    "))\n",
    "\n",
    "#Defined as in the Mathematica notebook\n",
    "Bps = (10**np.interp(\n",
    "#    10**log10rsIn, rs_list, halo_boost_raw\n",
    "    10**log10rsIn, NFW_subs_data[:,0], np.log10(NFW_subs_data[:,2])\n",
    "))**2/(phys.rho_DM * (10**log10rsIn)**4 * 10**-9 * sigma_1D_B / phys.c)**2\n",
    "\n",
    "boost_v = np.ones_like(Bps)\n",
    "#boost_v = np.sqrt(3*soln[:,1]/mDM) * phys.c / (sigma_1D_B * rs_vec)\n",
    "# boost_v = (10**np.interp(10**log10rsIn, np.flipud(rs_vec), np.flipud(np.log10(boost_v))))**2\n",
    "\n",
    "#Bps[log10rsIn > np.log10(NFW_subs_data[-1,0])] = 1\n",
    "\n",
    "np.log10(halo_boost[(rs_vec < 25) * (20 < rs_vec)])"
   ]
  },
  {
   "cell_type": "code",
   "execution_count": null,
   "metadata": {},
   "outputs": [],
   "source": [
    "print((np.log10(f('H_ion',log10eng[4],10**log10rsOut[5]-1))+\n",
    " np.log10(f('H_ion',log10eng[5],10**log10rsOut[5]-1)))/2)\n",
    "\n",
    "print(np.log10(f('H_ion',(log10eng[4]+log10eng[5])/2,10**log10rsOut[5]-1)))"
   ]
  },
  {
   "cell_type": "markdown",
   "metadata": {},
   "source": [
    "### Fold $T_c(E, z_{out}, z_{out})$ and  $B_p(z')$ together to make $\\;f_c(z')$"
   ]
  },
  {
   "cell_type": "code",
   "execution_count": null,
   "metadata": {},
   "outputs": [],
   "source": [
    "#!!! Remember to check for other type of extrapolation\n",
    "#!!! Check inds_In case if z_dep exactly aligns with an injection redshift.\n",
    "#!!! you're doing linear interpolation incorrectly\n",
    "\n",
    "#Neighbor interpolation\n",
    "def log10f_N(chan, log10E, log10rs, mindex):\n",
    "    #mindex = 1 if I want the neighbor with the minimum index, 0 if maximum\n",
    "    E_extrap = False\n",
    "    z_extrap = False\n",
    "    epsilon = 1e-12\n",
    "    \n",
    "    #Finding Indices\n",
    "    inds_In = [True for i in np.arange(len(log10rsIn))]\n",
    "    #inds_In[np.searchsorted(inds_In, True) - 1] = True\n",
    "        \n",
    "    ind_E = np.searchsorted(log10eng, log10E+epsilon) - mindex[0]\n",
    "    if ind_E < 0:\n",
    "        E_extrap = True\n",
    "        ind_E = 0\n",
    "    elif ind_E == len(log10eng) - mindex[0]:\n",
    "        E_extrap = True\n",
    "        ind_E = len(log10eng) - 1\n",
    "        \n",
    "    ind_dep = np.searchsorted(log10rsOut, log10rs+epsilon) - mindex[1]\n",
    "    if ind_dep < 0:\n",
    "        z_extrap = True\n",
    "        ind_dep = 0\n",
    "    elif ind_dep == len(log10rsOut) - mindex[1]:\n",
    "        z_extrap = True\n",
    "        ind_dep = len(log10rsOut) - 1\n",
    "    \n",
    "    rs_In = 10**log10rsIn[inds_In]\n",
    "    rs_Out = 10**log10rsOut[inds_In]\n",
    "    \n",
    "    dlogz_in = np.diff(np.log(rs_In))\n",
    "    dlogz_in = np.insert(dlogz_in, 0, dlogz_in[0])\n",
    "    #dlogz_in = np.append(dlogz, dlogz[-1])\n",
    "    \n",
    "    dlogz_out = np.diff(np.log(rs_Out))\n",
    "    dlogz_out = np.insert(dlogz_out, 0, dlogz_out[0])\n",
    "    \n",
    "    # discrete integral    \n",
    "    return np.array(\n",
    "        [log10eng[ind_E],\n",
    "         log10rsOut[ind_dep],\n",
    "        np.log10(\n",
    "            phys.hubble(10**log10rs)/10**(5*log10rs) * np.sum(\n",
    "                rs_In**5/phys.hubble(rs_In) * (\n",
    "                    T_kji[chan][ind_E, ind_dep, inds_In]/dlogz_out[ind_dep]\n",
    "                ) * (1 + Bps[inds_In] + boost_v[inds_In]) * dlogz_out\n",
    "            )\n",
    "        )]\n",
    "    )\n",
    "#To make this function match combEffectiveFWithHaloBoost from the Mathematica notebook,\n",
    "#change dlogz_in to dlogz_out, and change dlogz_out[ind_dep+1] to dlogz_out[ind_dep]\n",
    "\n",
    "def f_linear(chan, log10E, log10rs):\n",
    "    #extrapolation conditions\n",
    "    E_extrap = True\n",
    "    dfdE = 0\n",
    "    z_extrap = True\n",
    "    dfdz = 0\n",
    "    \n",
    "    if log10E < log10eng[0]:\n",
    "        log10E = log10eng[0]\n",
    "    elif log10E > log10eng[-1]:\n",
    "        log10E = log10eng[-1]\n",
    "    else:\n",
    "        E_plus = log10f_N(chan, log10E, log10rs, [False,True])\n",
    "        E_extrap = False\n",
    "    \n",
    "    if log10rs < log10rsOut[0]:\n",
    "        log10rs = log10rsOut[0]\n",
    "    elif log10rs > log10rsOut[-1]:\n",
    "        log10rs = log10rsOut[-1]\n",
    "    else:\n",
    "        z_plus = log10f_N(chan, log10E, log10rs, [True,False])\n",
    "        z_extrap = False\n",
    "    \n",
    "    base = log10f_N(chan, log10E, log10rs, [True,True]) \n",
    "    \n",
    "    if not E_extrap:\n",
    "        dfdE = (E_plus[2] - base[2])/(E_plus[0] - base[0])\n",
    "    if not z_extrap:\n",
    "        dfdz = (z_plus[2] - base[2])/(z_plus[1] - base[1])\n",
    "    \n",
    "    return 10**(base[2] + dfdE*(log10E - base[0]) + dfdz*(log10rs - base[1]))"
   ]
  },
  {
   "cell_type": "code",
   "execution_count": null,
   "metadata": {},
   "outputs": [],
   "source": [
    "# Do I get the grid correct?\n",
    "print( [[log10f_N('H_ion',en,rs,[True,True])[2] for rs in log10rsOut] for en in log10eng])"
   ]
  },
  {
   "cell_type": "code",
   "execution_count": null,
   "metadata": {
    "scrolled": true
   },
   "outputs": [],
   "source": [
    "# How is the interpolation?\n",
    "print(log10f_N('H_ion', log10eng[4], log10rsOut[5], [True, True]))\n",
    "print(np.log10(f_linear('H_ion', (log10eng[4] + log10eng[5])/2, log10rsOut[5])))\n",
    "print(\n",
    "    (np.log10(f_linear('H_ion', log10eng[4], log10rsOut[5])) + \n",
    "     np.log10(f_linear('H_ion', log10eng[5], log10rsOut[5])))/2\n",
    ")"
   ]
  },
  {
   "cell_type": "code",
   "execution_count": null,
   "metadata": {},
   "outputs": [],
   "source": [
    "# How about extrapolation?\n",
    "print(np.log10(f_linear('H_ion', log10eng[4], np.log10(5)))) \n",
    "print(np.log10(f_linear('H_ion', log10eng[4], np.log10(3))))"
   ]
  },
  {
   "cell_type": "markdown",
   "metadata": {},
   "source": [
    "# TLA"
   ]
  },
  {
   "cell_type": "markdown",
   "metadata": {},
   "source": [
    "## Heating Processes"
   ]
  },
  {
   "cell_type": "code",
   "execution_count": null,
   "metadata": {},
   "outputs": [],
   "source": [
    "def compton_cooling_rate(xe, T_matter, rs):\n",
    "    \"\"\"Returns the Compton cooling rate. \n",
    "\n",
    "    Parameters\n",
    "    ----------\n",
    "    xe : float\n",
    "        The ionization fraction ne/nH. \n",
    "    T_matter : float\n",
    "        The matter temperature in eV. \n",
    "    rs : float\n",
    "        The redshift in 1+z. \n",
    "\n",
    "    Returns\n",
    "    -------\n",
    "    float\n",
    "        The Compton cooling rate in eV/s. \n",
    "    \"\"\"\n",
    "    return (\n",
    "        xe / (1 + xe + phys.nHe/phys.nH) * (phys.TCMB(rs) - T_matter)\n",
    "        * 32 * phys.thomson_xsec * phys.stefboltz\n",
    "        * phys.TCMB(rs)**4 / (3 * phys.me)\n",
    "    )\n",
    "\n",
    "def DM_IGM_cooling_rate(m_DM, T_matter, T_DM, V_pec, xe, rs, xsec, fDM, n, particle_type):\n",
    "    \"\"\"Cooling rate for baryons from scattering with DM. \n",
    "\n",
    "    Parameters\n",
    "    ----------\n",
    "    m_DM : float\n",
    "        The dark matter mass in eV. \n",
    "    T_matter : float\n",
    "        The IGM temperature in eV.\n",
    "    T_DM : float\n",
    "        The dark matter temperature in eV. \n",
    "    xe : float\n",
    "        The ionization fraction ne/nH.\n",
    "    V_pec : float\n",
    "        The dark matter peculiar velocity w.r.t. baryons, dimensionless.\n",
    "    rs : float\n",
    "        The redshift (1+z).\n",
    "    xsec : float\n",
    "        The dark matter-baryon interaction cross section in cm^2, excluding the velocity dependence\n",
    "        The full cross section is xsec*velocity**n.\n",
    "    fDM : float\n",
    "        Ratio of millicharged dark matter to the full abundance.\n",
    "    n : int\n",
    "        The velocity dependence of the cross section. \n",
    "    particle_type : {'matter', 'DM'}\n",
    "        The particle type for which the cooling rate is to be specified. See 1708.08923 for details.\n",
    "    rho_DM_0 : float, optional\n",
    "        The density of DM today, in eV/cm^3. Defaults to the Planck value if `None`. \n",
    "\n",
    "    Returns\n",
    "    -------\n",
    "        The cooling rate in eV/s.\n",
    "\n",
    "    \"\"\"\n",
    "    u_th_p = np.sqrt(T_matter/phys.mp + T_DM/m_DM)\n",
    "    r_p = V_pec/u_th_p\n",
    "    F_p = scipy.special.erf(r_p/np.sqrt(2)) - np.sqrt(2/np.pi)*r_p*np.exp(-r_p**2/2)\n",
    "     \n",
    "    drag_cooling_term_p  = np.divide(m_DM*F_p, r_p, out=np.zeros_like(F_p), where=r_p!=0)\n",
    "    drag_cooling_term_DM_p = np.divide(phys.mp*F_p, r_p, out=np.zeros_like(F_p), where=r_p!=0)\n",
    "\n",
    "    if particle_type == 'matter':\n",
    "        rate_p = 2/3*(\n",
    "            fDM*phys.rho_DM*rs**3/(1 + phys.nHe/phys.nH + xe) * phys.mp/(m_DM + phys.mp)**2 * xsec/u_th_p * (\n",
    "                np.sqrt(2/np.pi)*np.exp(-r_p**2/2)/u_th_p**2 * (T_DM - T_matter)\n",
    "                + drag_cooling_term_p\n",
    "            )\n",
    "        )*phys.c\n",
    "            \n",
    "        return rate_p\n",
    "\n",
    "    elif particle_type == 'DM':\n",
    "        rate_p = 2/3*(\n",
    "            phys.nH*rs**3 * (m_DM*phys.mp/(m_DM + phys.mp)**2) * xsec/u_th_p * (\n",
    "                np.sqrt(2/np.pi)*np.exp(-r_p**2/2)/u_th_p**2 * (T_matter - T_DM)\n",
    "                + drag_cooling_term_DM_p\n",
    "            )\n",
    "        )*phys.c\n",
    "        \n",
    "        return rate_p\n",
    "    \n",
    "    else:\n",
    "        raise TypeError('Invalid particle_type.')\n"
   ]
  },
  {
   "cell_type": "markdown",
   "metadata": {},
   "source": [
    "## Ionization Processes"
   ]
  },
  {
   "cell_type": "code",
   "execution_count": null,
   "metadata": {},
   "outputs": [],
   "source": [
    "def alpha_recomb(T_matter):\n",
    "    \"\"\"Case-B recombination coefficient. \n",
    "\n",
    "    Parameters\n",
    "    ----------\n",
    "    T_matter : float\n",
    "        The matter temperature. \n",
    "\n",
    "    Returns\n",
    "    -------\n",
    "    float\n",
    "        Case-B recombination coefficient in cm^3/s. \n",
    "    \"\"\" \n",
    "    \n",
    "    # Fudge factor recommended in 1011.3758\n",
    "    fudge_fac = 1.126\n",
    "\n",
    "    return (\n",
    "        fudge_fac * 1e-13 * 4.309 * (1.16405*T_matter)**(-0.6166)\n",
    "        / (1 + 0.6703 * (1.16405*T_matter)**0.5300)\n",
    "    )\n",
    "\n",
    "def beta_ion(T_rad):\n",
    "    \"\"\"Case-B photoionization coefficient. \n",
    "\n",
    "    Parameters\n",
    "    ----------\n",
    "    T_rad : float\n",
    "        The radiation temperature. \n",
    "\n",
    "    Returns\n",
    "    -------\n",
    "    float\n",
    "        Case-B photoionization coefficient in s^-1. \n",
    "\n",
    "    \"\"\"\n",
    "    reduced_mass = phys.mp*phys.me/(phys.mp + phys.me)\n",
    "    de_broglie_wavelength = (\n",
    "        phys.c * 2*np.pi*phys.hbar\n",
    "        / np.sqrt(2 * np.pi * reduced_mass * T_rad)\n",
    "    )\n",
    "    return (\n",
    "        (1/de_broglie_wavelength)**3/4 \n",
    "        * np.exp(-phys.rydberg/4/T_rad) * alpha_recomb(T_rad)\n",
    "    )\n",
    "\n",
    "def peebles_C(xe, rs):\n",
    "    \"\"\"Returns the Peebles C coefficient. \n",
    "\n",
    "    This is the ratio of the total rate for transitions from n = 2 to the ground state to the total rate of all transitions, including ionization.\n",
    "\n",
    "    Parameters\n",
    "    ----------\n",
    "    xe : float\n",
    "        The ionization fraction ne/nH. \n",
    "    Tm : float\n",
    "        The matter temperature. \n",
    "    rs : float\n",
    "        The redshift in 1+z. \n",
    "\n",
    "    Returns\n",
    "    -------\n",
    "    float\n",
    "        The Peebles C factor. \n",
    "    \"\"\"\n",
    "\n",
    "    # Net rate for 2p to 1s transition, times (1-xe). \n",
    "    rate_2p1s = (\n",
    "        8 * np.pi * phys.hubble(rs)\n",
    "        /(3*(phys.nH*rs**3 * (phys.c/phys.lya_freq)**3))\n",
    "    )\n",
    "\n",
    "    # Net rate for 2s to 1s transition, times (1-xe).\n",
    "    rate_2s1s = phys.width_2s1s * (1-xe)\n",
    "\n",
    "    # Net rate for ionization, times (1-xe).\n",
    "    rate_ion = beta_ion(phys.TCMB(rs)) * (1-xe)\n",
    "\n",
    "    # Rate is averaged over 3/4 of excited state being in 2p, 1/4 in 2s. \n",
    "    return (\n",
    "        (3*rate_2p1s/4 + rate_2s1s/4)\n",
    "        /(3*rate_2p1s/4 + rate_2s1s/4 + rate_ion)\n",
    "    )"
   ]
  },
  {
   "cell_type": "markdown",
   "metadata": {},
   "source": [
    "## Reionization"
   ]
  },
  {
   "cell_type": "code",
   "execution_count": null,
   "metadata": {},
   "outputs": [],
   "source": [
    "reion_fac = 0\n",
    "\n",
    "def dT_Xray_dz(rs):\n",
    "    \"\"\"Returns the X-ray heating rate from 21cmFAST\n",
    "    \n",
    "    Parameters\n",
    "    ----------\n",
    "    rs : float\n",
    "        The redshift in 1+z\n",
    "    \n",
    "    Returns\n",
    "    -------\n",
    "    float\n",
    "        The X-ray heating rate in K (dT/dz)\n",
    "    \"\"\"\n",
    "    \n",
    "    # phys.kB to convert to eV\n",
    "    \n",
    "    return np.interp(rs, np.flipud(redshift+1), np.flipud(dT_Xray_dz_raw))*phys.kB*reion_fac\n",
    "\n",
    "def dxe_Xray_dz(rs):\n",
    "    \"\"\"Returns the X-ray ionization rate from 21cmFAST.\n",
    "    \n",
    "    Parameters\n",
    "    ----------\n",
    "    rs : float\n",
    "        The redshift in 1+z\n",
    "        \n",
    "    Returns\n",
    "    -------\n",
    "    float\n",
    "        The X-ray ionization rate (d_xe/dz)\n",
    "    \n",
    "    \"\"\"\n",
    "    return np.interp(rs, np.flipud(redshift+1), np.flipud(dxe_Xray_dz_raw))*reion_fac"
   ]
  },
  {
   "cell_type": "markdown",
   "metadata": {},
   "source": [
    "## TLA Differential Equation"
   ]
  },
  {
   "cell_type": "code",
   "execution_count": null,
   "metadata": {},
   "outputs": [],
   "source": [
    "def get_history(\n",
    "    init_cond, f_H_ion, f_H_exc, f_heating, \n",
    "    dm_injection_rate, dm_injection_param, rs_vec, \n",
    "    dm_baryon_switch=False, dm_params=None\n",
    "):\n",
    "    \"\"\"Returns the ionization and thermal history of the IGM. \n",
    "\n",
    "    Parameters\n",
    "    ----------\n",
    "    init_cond : array\n",
    "        Array containing [initial temperature, initial xe]\n",
    "    fz_H_ion : function\n",
    "        f(xe, rs) for hydrogen ionization. \n",
    "    fz_H_exc : function\n",
    "        f(xe, rs) for hydrogen Lyman-alpha excitation. \n",
    "    f_heating : function\n",
    "        f(xe, rs) for heating. \n",
    "    dm_injection_rate : function\n",
    "        Injection rate of DM as a function of redshift, and one parameter (lifetime or cross section). \n",
    "    dm_injection_param : float\n",
    "        The injection parameter (lifetime or cross section).\n",
    "    rs_vec : ndarray\n",
    "        Abscissa for the solution. \n",
    "    dm_baryon_switch : bool\n",
    "        DM baryon scattering included if true. \n",
    "    dm_params : ndarray\n",
    "        Array of DM-baryon scattering parameters, given by [m_DM, xsec, fDM, n], with the cross section for being xsec*v**-n/mu**2. \n",
    "\n",
    "    Returns\n",
    "    -------\n",
    "    list of ndarray\n",
    "        [temperature solution (in eV), xe solution]. \n",
    "\n",
    "    Note\n",
    "    ----\n",
    "    The actual differential equation that we solve is expressed in terms of y = arctanh(2*(xe - 0.5)). \n",
    "\n",
    "    \"\"\"\n",
    "    \n",
    "    m_DM = dm_params[0]\n",
    "    xsec = dm_params[1]\n",
    "    fDM  = dm_params[2]\n",
    "    n    = dm_params[3]\n",
    "    \n",
    "    def tla_diff_eq(var, rs):\n",
    "        # Returns an array of values for [dT/dz, dy/dz].\n",
    "        # var is the [temperature, xe] inputs. \n",
    "\n",
    "        def xe(y):\n",
    "            return 0.5 + 0.5*np.tanh(y)\n",
    "\n",
    "        def dT_dz(T_matter, T_DM, V_pec, y, rs):\n",
    "            return (\n",
    "                2*T_matter/rs + dT_Xray_dz(rs) - phys.dtdz(rs) * (\n",
    "                    compton_cooling_rate(xe(y), T_matter, rs)\n",
    "                    + DM_IGM_cooling_rate(\n",
    "                        m_DM, T_matter, T_DM, V_pec, xe(y), rs, \n",
    "                        xsec, fDM, n, particle_type='matter'\n",
    "                    )\n",
    "                    + (\n",
    "                        1/(1 + xe(y) + phys.nHe/phys.nH)\n",
    "                        * 2/(3 * phys.nH * rs**3)\n",
    "                        * f_heating(rs, xe(y))\n",
    "                        * dm_injection_rate(rs, dm_injection_param, T_DM)\n",
    "                    )\n",
    "                )\n",
    "            )\n",
    "        \n",
    "        def dTDM_dz(T_matter, T_DM, V_pec, y, rs):\n",
    "            return (\n",
    "                2*T_DM/rs + dT_Xray_dz(rs) - phys.dtdz(rs) * DM_IGM_cooling_rate(\n",
    "                    m_DM, T_matter, T_DM, V_pec, xe(y), rs, \n",
    "                    xsec, fDM, n, particle_type='DM'\n",
    "                )\n",
    "            )\n",
    "        \n",
    "        def dV_pec_dz(T_matter, T_DM, V_pec, y, rs):\n",
    "            \n",
    "            u_th_p = np.sqrt(T_matter/phys.mp + T_DM/m_DM)\n",
    "            r_p = V_pec/u_th_p\n",
    "            F_p = scipy.special.erf(r_p/np.sqrt(2)) - np.sqrt(2/np.pi)*r_p*np.exp(-r_p**2/2)\n",
    "\n",
    "            if V_pec == 0:\n",
    "                return 0\n",
    "            else:\n",
    "\n",
    "                D = (1 + fDM*phys.rho_DM/phys.rho_baryon)*(\n",
    "                      xsec*phys.mp*phys.nH*rs**3/(m_DM + phys.mp)*F_p/V_pec**2\n",
    "                )*phys.c\n",
    "\n",
    "                return -phys.dtdz(rs)*(\n",
    "                    - phys.hubble(rs)*V_pec - D\n",
    "                )\n",
    "\n",
    "        def dy_dz(T_matter, y, rs, T_DM):\n",
    "            # Stops any change in y once it exceeds y = 4, or xe = 0.999665\n",
    "            if y > 4 and rs < 100:\n",
    "                return 0\n",
    "            return (\n",
    "                2 * np.cosh(y)**2 * phys.dtdz(rs) * (\n",
    "                    peebles_C(xe(y), rs) * (\n",
    "                        alpha_recomb(T_matter) * xe(y)**2 * phys.nH * rs**3\n",
    "                        - (\n",
    "                            beta_ion(phys.TCMB(rs)) * (1 - xe(y))\n",
    "                            * np.exp(-phys.lya_eng/T_matter)\n",
    "                        )\n",
    "                    )\n",
    "                    - (\n",
    "                        f_H_ion(rs, xe(y)) * dm_injection_rate(rs, dm_injection_param, T_DM)\n",
    "                        / (phys.rydberg * phys.nH * rs**3)\n",
    "                    )\n",
    "                    - (1 - peebles_C(xe(y), rs)) * (\n",
    "                        f_H_exc(rs, xe(y)) * dm_injection_rate(rs, dm_injection_param, T_DM) \n",
    "                        / (phys.lya_eng * phys.nH * rs**3)\n",
    "                    )\n",
    "                )\n",
    "                + 2 * np.cosh(y)**2 * dxe_Xray_dz(rs)\n",
    "            )\n",
    "\n",
    "        \n",
    "        T_matter, T_DM, V_pec, y = var[0], var[1], var[2], var[3]\n",
    "        \n",
    "        global boost_v\n",
    "        boost_v[\n",
    "            max(len(log10rsIn) - np.searchsorted(np.flipud(10**log10rsIn), rs)-1,0)\n",
    "        ] = (3*T_DM/mDM)/(sigma_1D_B*rs)**2\n",
    "        \n",
    "#         print(dT_dz(T_matter, T_DM, V_pec, y, rs), \n",
    "#             dTDM_dz(T_matter, T_DM, V_pec, y, rs),\n",
    "#             dy_dz(T_matter, y, rs))\n",
    "#         print('********************************')\n",
    "#         print(rs, T_matter/phys.kB, T_DM/phys.kB, xe(y))\n",
    "\n",
    "        return [\n",
    "            dT_dz(T_matter, T_DM, V_pec, y, rs), \n",
    "            dTDM_dz(T_matter, T_DM, V_pec, y, rs),\n",
    "            dV_pec_dz(T_matter, T_DM, V_pec, y, rs),\n",
    "            dy_dz(T_matter, y, rs, T_DM)\n",
    "        ]\n",
    "\n",
    "    mod_init_cond = np.array(init_cond)\n",
    "    \n",
    "    if mod_init_cond[3] == 1:\n",
    "        mod_init_cond[3] = 1 - 1e-12\n",
    "    \n",
    "    mod_init_cond[3] = np.arctanh(2*(mod_init_cond[3] - 0.5))\n",
    "    \n",
    "    soln = odeint(tla_diff_eq, mod_init_cond, rs_vec, mxstep = 1000)\n",
    "\n",
    "    soln[:,3] = 0.5 + 0.5*np.tanh(soln[:,3])\n",
    "\n",
    "    return soln"
   ]
  },
  {
   "cell_type": "markdown",
   "metadata": {},
   "source": [
    "# TLA Full Solution - pwave, Example 1"
   ]
  },
  {
   "cell_type": "code",
   "execution_count": null,
   "metadata": {},
   "outputs": [],
   "source": [
    "mDM = 1e7\n",
    "fDM=1e-2\n",
    "n = -4\n",
    "\n",
    "# real scattering cross section is xsec*v**-n/mu**2\n",
    "xsec = 1e-39\n",
    "species = 'elec'\n",
    "inj_param = 1e-23#3.21e-26\n",
    "\n",
    "if mDM < 13.6:\n",
    "    species = 'absurd'\n",
    "\n",
    "# Set all of the fractions and DM injection functions.\n",
    "\n",
    "def f_H_ion(rs, xe):    \n",
    "    if species == 'absurd':\n",
    "        return 0\n",
    "    else:\n",
    "        return f_linear('H_ion',np.log10(mDM - mass_sub), np.log10(rs))\n",
    "\n",
    "\n",
    "def f_H_exc(rs, xe):\n",
    "    if species == 'absurd':\n",
    "        return 1\n",
    "    else:\n",
    "        return f_linear('H_exc',np.log10(mDM - mass_sub), np.log10(rs))\n",
    "\n",
    "def f_heating(rs, xe):\n",
    "    if species == 'absurd':\n",
    "        return 0\n",
    "    else:\n",
    "        return f_linear('heating',np.log10(mDM - mass_sub), np.log10(rs))\n",
    "\n",
    "def dm_injection_rate(rs, param, T_DM):\n",
    "    sigma_1D_B = 1e-11*phys.c*(1/100)**0.5\n",
    "    return phys.rho_DM**2*rs**8*param/mDM*(sigma_1D_B/1e7)**2 * fDM**2\n",
    "\n",
    "rs_start = 2000\n",
    "rs_vec = 1 + np.arange(0,rs_start-0.5,0.5)\n",
    "rs_vec = np.flipud(rs_vec)\n",
    "\n",
    "V_pec_0 = 3e-5*0\n",
    "\n",
    "init_cond = [phys.TCMB(rs_start), phys.TCMB(rs_start)*0, V_pec_0,  .99999]\n",
    "soln = get_history(init_cond, f_H_ion, f_H_exc, f_heating, dm_injection_rate, inj_param, rs_vec, dm_baryon_switch=True, dm_params=[mDM, xsec, fDM, n])\n",
    "boost_v = np.sqrt(3*soln[:,1]/mDM) * phys.c / (sigma_1D_B * rs_vec)\n",
    "boost_v = (10**np.interp(10**log10rsIn, np.flipud(rs_vec), np.flipud(np.log10(boost_v))))**2\n",
    "soln = get_history(init_cond, f_H_ion, f_H_exc, f_heating, dm_injection_rate, inj_param, rs_vec, dm_baryon_switch=True, dm_params=[mDM, xsec, fDM, n])\n",
    "#new_std_soln = get_history(init_cond, f_H_ion, f_H_exc, f_heating, dm_injection_rate, 0*inj_param, rs_vec, dm_baryon_switch=True, dm_params=[mDM, 0, fDM, n])\n",
    "soln_no_cooling = get_history(init_cond, f_H_ion, f_H_exc, f_heating, dm_injection_rate, inj_param, rs_vec, dm_baryon_switch=True, dm_params=[mDM, 0, fDM, n])\n"
   ]
  },
  {
   "cell_type": "code",
   "execution_count": null,
   "metadata": {
    "scrolled": false
   },
   "outputs": [],
   "source": [
    "plt.figure()\n",
    "\n",
    "ax = plt.gca()\n",
    "\n",
    "T_IGM_std, = plt.plot(rs_vec, new_std_soln[:,0]/phys.kB, label=r'$T_m$, Standard', linestyle=':')\n",
    "T_IGM_no_cooling, = plt.plot(rs_vec, soln_no_cooling[:,0]/phys.kB, label=r'$T_m$, $\\chi \\chi \\to e^+e^-$ Only')\n",
    "T_IGM, = plt.plot(rs_vec, soln[:,0]/phys.kB, label=r'$T_m$, $\\chi \\chi \\to e^+e^-$ + Cooling')\n",
    "T_DM, = plt.plot(rs_vec, soln[:,1]/phys.kB, label=r'$T_{\\chi,s}$, $\\chi \\chi \\to e^+e^-$ + Cooling')\n",
    "plt.errorbar([18.2], [5.2], fmt=\"_\", capsize=10, yerr=3, uplims=True)\n",
    "TCMB_plot, = plt.plot(rs_vec, phys.TCMB(rs_vec)/phys.kB, 'k--', label=r'$T_\\mathrm{CMB}$')\n",
    "\n",
    "ax.set_xscale('log')\n",
    "ax.set_yscale('log')\n",
    "\n",
    "leg_T = plt.legend(\n",
    "    handles=[T_IGM_std, T_IGM_no_cooling, T_IGM, T_DM, TCMB_plot], loc=2, \n",
    "    title=r'$m_\\chi$ = 30 MeV, $f_{\\chi,\\mathrm{int}} = 0.01$'\n",
    ")\n",
    "\n",
    "plt.setp(leg_T.get_title(),fontsize=28)\n",
    "\n",
    "plt.title(r'\\bf{Temperature History}')\n",
    "plt.xlabel(r'Redshift $(1+z)$')\n",
    "plt.ylabel('Temperature [K]')\n",
    "plt.axis([1, rs_start, 1e-2, 1e6])\n",
    "\n",
    "#plt.savefig('/Users/'+user+'/Dropbox (MIT)/21cm_pwave/plots/Cooling/elec_m30MeV_inj_1e-31_T')\n",
    "\n",
    "plt.figure()\n",
    "ax = plt.gca()\n",
    "\n",
    "xHII_std, = plt.plot(std_soln_rs, std_soln_xe, '-', linewidth=2, label=r'Standard', linestyle=':')\n",
    "xHII_no_cooling, = plt.plot(rs_vec, soln_no_cooling[:,3], label=r'$\\chi \\chi \\to e^+e^-$ Only')\n",
    "xHII, = plt.plot(rs_vec, soln[:,3], label=r'$\\chi \\chi \\to e^+e^-$ + Cooling')\n",
    "\n",
    "\n",
    "# xHII, = plt.plot(rs_vec, soln[:,2], label=r'$x_\\mathrm{HII}$, Enhanced Recombination')\n",
    "\n",
    "\n",
    "ax.set_xscale('log')\n",
    "ax.set_yscale('log')\n",
    "\n",
    "leg_xe = plt.legend(handles=[xHII_std, xHII_no_cooling, xHII], title=r'$m_\\chi$ = 30 MeV, $f_{\\chi,\\mathrm{int}} = 0.01$')\n",
    "\n",
    "plt.setp(leg_xe.get_title(),fontsize=28)\n",
    "\n",
    "plt.title(r'\\bf{Ionization History}')\n",
    "plt.xlabel(r'Redshift $(1+z)$')\n",
    "plt.ylabel(r'Ionization Fraction $x_e$')\n",
    "plt.axis([1, 2e3, 1e-4, 2])\n",
    "\n",
    "#plt.savefig('/Users/'+user+'/Dropbox (MIT)/21cm_pwave/plots/Cooling/elec_m30MeV_inj_1e-31_ion')#+\n",
    "            #'elec_m'+mass+' '+units+'_sig'+str(prefactor)+'e'+str(exponent)+'.pdf')"
   ]
  },
  {
   "cell_type": "code",
   "execution_count": null,
   "metadata": {},
   "outputs": [],
   "source": [
    "plt.figure()\n",
    "\n",
    "ax = plt.gca()\n",
    "\n",
    "T_IGM_std, = plt.plot(rs_vec, new_std_soln[:,0]/phys.kB, label=r'$T_m$, Standard')\n",
    "T_IGM_no_cooling, = plt.plot(rs_vec, soln_no_cooling[:,0]/phys.kB, label=r'$T_m$, $\\chi \\chi \\to e^+e^-$ p-wave')\n",
    "#plt.errorbar([18.2], [5.2], fmt=\"_\", capsize=10, yerr=3, uplims=True)\n",
    "TCMB_plot, = plt.plot(rs_vec, phys.TCMB(rs_vec)/phys.kB, 'k--', label=r'$T_\\mathrm{CMB}$')\n",
    "\n",
    "leg_T = plt.legend(\n",
    "    handles=[T_IGM_std, TCMB_plot, T_IGM_no_cooling], loc=2\n",
    ")\n",
    "\n",
    "ax.set_xscale('log')\n",
    "ax.set_yscale('log')\n",
    "\n",
    "plt.title(r'\\bf{Temperature History}')\n",
    "plt.xlabel(r'Redshift $(1+z)$')\n",
    "plt.ylabel('Temperature [K]')\n",
    "plt.axis([1, 2e3, 2e-2, 2e4])\n",
    "\n",
    "#plt.savefig('/Users/'+user+'/Dropbox (MIT)/21cm_pwave/talks/standard_Tm')\n",
    "\n",
    "plt.figure()\n",
    "ax = plt.gca()\n",
    "\n",
    "xHII_std, = plt.plot(std_soln_rs, std_soln_xe, '-', linewidth=2, label=r'Standard')\n",
    "\n",
    "\n",
    "ax.set_xscale('log')\n",
    "ax.set_yscale('log')\n",
    "\n",
    "plt.title(r'\\bf{Ionization History}')\n",
    "plt.xlabel(r'Redshift $(1+z)$')\n",
    "plt.ylabel(r'Ionization Fraction $x_e \\equiv n_e/n_H$')\n",
    "plt.axis([1, 2e3, 1e-4, 2])\n",
    "\n",
    "#plt.savefig('/Users/'+user+'/Dropbox (MIT)/21cm_pwave/talks/standard_xe')"
   ]
  },
  {
   "cell_type": "code",
   "execution_count": null,
   "metadata": {},
   "outputs": [],
   "source": [
    "temp = soln[::30]\n",
    "print(temp)"
   ]
  },
  {
   "cell_type": "code",
   "execution_count": null,
   "metadata": {},
   "outputs": [],
   "source": [
    "rs_vec[::30]"
   ]
  },
  {
   "cell_type": "code",
   "execution_count": null,
   "metadata": {},
   "outputs": [],
   "source": [
    "(soln[::30,0]-temp[:,0])/temp[:,0]"
   ]
  },
  {
   "cell_type": "code",
   "execution_count": null,
   "metadata": {},
   "outputs": [],
   "source": [
    "sigma_1D_B = 1e-11*phys.c*(1/100)**0.5\n",
    "plt.figure()\n",
    "\n",
    "ax = plt.gca()\n",
    "\n",
    "v_DM, = plt.plot(\n",
    "    rs_vec, np.sqrt(3*soln[:,1]/mDM) * phys.c * 10**-5, 'C3', label=r'$\\sigma_\\chi$, $\\chi \\chi \\to e^+e^-$ + Cooling'\n",
    ")\n",
    "\n",
    "v_DM_standard, = plt.plot(\n",
    "    rs_vec, sigma_1D_B * rs_vec * 10**-5, 'C4', label=r'$\\sigma_\\chi$, $\\chi \\chi \\to e^+e^-$'\n",
    ")\n",
    "\n",
    "ax.set_xscale('log')\n",
    "ax.set_yscale('log')\n",
    "\n",
    "leg_T = plt.legend( \n",
    "    handles=[v_DM, v_DM_standard], loc=2,\n",
    "    title=r'$m_\\chi$ = 30 MeV, $f_{\\chi,\\mathrm{int}} = 0.01$'\n",
    ")\n",
    "\n",
    "plt.setp(leg_T.get_title(),fontsize=28)\n",
    "\n",
    "plt.title(r'\\bf{Dispersion History}')\n",
    "plt.xlabel(r'Redshift $(1+z)$')\n",
    "plt.ylabel('Velocity Dispersion [km/s]')\n",
    "plt.axis([1, rs_start, 1e-7, 1e2])\n",
    "\n",
    "v_boost = np.sqrt(3*soln[:,1]/mDM) * phys.c / (sigma_1D_B * rs_vec**2)\n",
    "\n",
    "#plt.savefig('/Users/'+user+'/Dropbox (MIT)/21cm_pwave/plots/Cooling/elec_m30MeV_inj_1e-31_sigma')"
   ]
  },
  {
   "cell_type": "markdown",
   "metadata": {},
   "source": [
    "Given a temperature, $T$, for the smooth component of DM, there is an associated dispersion\n",
    "\n",
    "$$ v^2 = \\left( \\frac{3 k_B T}{m_\\chi c^2}\\right)c^2 $$\n",
    "\n",
    "To translate this into a cut on halos, we try # different prescriptions:\n",
    "\n",
    "### 1: haloes with $v_{vir} < v$ are truncated\n",
    "\n",
    "$$ M = \\frac{4 \\pi}{3} \\left( \\Delta \\times \\rho_c(z)  \\right) r_{vir}^3 $$\n",
    "\n",
    "and also\n",
    "\n",
    "$$ v_{vir} = \\sqrt{\\frac{G M}{r_{vir}}} $$\n",
    "\n",
    "$$ \\implies r_{vir} = \\frac{GM}{v_{vir}^2} $$\n",
    "\n",
    "$$ \\implies M_{cut} = \\left( \\frac{4 \\pi}{3} \\\n",
    "\\left( \\Delta \\times \\rho_c(z)  \\right) \\frac{G^3}{v_{vir}^6} \\right)^{-\\frac12}$$\n",
    "$$ = \\frac{v_{vir}^3}{\\left( \\frac{4 \\pi}{3} \\Delta \\times \\rho_c(0) G^3 \\right)^{\\frac12} (1+z)^{-\\frac{3}{2}}} $$\n",
    "\n",
    "\n",
    "### 2: haloes with $v_{esc} < v$ are truncated"
   ]
  },
  {
   "cell_type": "code",
   "execution_count": null,
   "metadata": {},
   "outputs": [],
   "source": [
    "Delta = 200\n",
    "Msol = 1.99e30\n",
    "#G = 6.70711 * 10**-39 * phys.hbar * phys.c**5 * 10**-18\n",
    "#rho_crit = 1.88e-32 * phys.h**2\n",
    "\n",
    "G = 6.6726*10**-11 * Msol * 10**6 # m^3 / kg s^2 becomes cm^3 / M_sol s^2\n",
    "rho_crit = 3 * phys.H0**2 / 8 / np.pi / G # critical density in solar mass units\n",
    "\n",
    "vDM = np.sqrt(3*soln[:,1]/mDM) * phys.c\n",
    "const = np.sqrt(4 * np.pi * Delta * rho_crit * G**3 / 3)\n",
    "Mcuts = vDM**3 / rs_vec**(3/2) / const\n",
    "\n",
    "interp_Mcuts = scipy.interpolate.interp1d(rs_vec,Mcuts)\n",
    "\n",
    "print(Mcuts)"
   ]
  },
  {
   "cell_type": "code",
   "execution_count": null,
   "metadata": {},
   "outputs": [],
   "source": [
    "import hmf\n",
    "h = hmf.MassFunction(z=1.0,Mmin=6,Mmax=15.0,hmf_model=\"SMT\")\n",
    "h.update(z=10)\n",
    "Ms = 10**np.arange(6,15,.01)\n",
    "\n",
    "plt.figure(figsize=(10,10))\n",
    "\n",
    "ax = plt.gca()\n",
    "\n",
    "dndm_plt, = plt.plot(Ms,h.dndm)\n",
    "\n",
    "\n",
    "ax.set_xscale('log')\n",
    "ax.set_yscale('log')\n",
    "\n",
    "plt.title(r'\\bf{Mass Function using PLANCK}')\n",
    "plt.xlabel(r'M ($M_\\odot \\, h^{-1}$)')\n",
    "plt.ylabel('dn/dM ($h^4 \\, Mpc^{-3} \\, M_{\\odot}^{-1}$)')\n",
    "plt.axis([1e6, 1e15, 1e-21, 1e-7])\n",
    "\n",
    "plt.show()\n",
    "\n",
    "print(h.dndm[100])"
   ]
  },
  {
   "cell_type": "code",
   "execution_count": null,
   "metadata": {},
   "outputs": [],
   "source": [
    "steps = 100\n",
    "Mmax = np.zeros(steps)\n",
    "Ms = 10**np.arange(7,15,.01)\n",
    "z_list = np.arange(0, 50+50/steps, 50/steps)\n",
    "h = hmf.MassFunction(z=0.0,Mmin=7,hmf_model=\"SMT\")\n",
    "\n",
    "halo_num = 1 # If the the # of halos of a given mass in a hubble volume\n",
    "             # is less than halo_num, then there are basically no haloes of that mass or above\n",
    "\n",
    "for k in np.arange(steps):\n",
    "    #indx = len(h.dndm) - np.searchsorted(np.flipud(h.dndm),10**-21) - 1\n",
    "    tmp = (Ms[1:] - Ms[:-1])*h.dndm[:-1]*(phys.c/phys.hubble(1+z_list[k])/3.086e24)**3/phys.h**4\n",
    "    if tmp[0] < halo_num:\n",
    "        Mmax[k] = 0\n",
    "    else:\n",
    "        indx = len(tmp) - np.searchsorted(np.flipud(tmp), halo_num) - 1\n",
    "        Mmax[k] = Ms[indx]\n",
    "    h.update(z=z_list[k+1])\n",
    "    \n",
    "Mthresh_interp = interp1d(rs_vec[1:], Mcuts[1:])\n",
    "tmp = Mthresh_interp(1+z_list)\n",
    "indx = np.searchsorted(tmp[:-1] - Mmax, 0)\n",
    "print(1+z_list[indx])"
   ]
  },
  {
   "cell_type": "code",
   "execution_count": null,
   "metadata": {},
   "outputs": [],
   "source": [
    "plt.figure()\n",
    "\n",
    "ax = plt.gca()\n",
    "\n",
    "thresh_plot, = plt.plot(\n",
    "    rs_vec[1:], Mcuts[1:], 'C3', label=r'$M_{thresh} (M_\\odot)$'\n",
    "#    rs_vec[1:], M_mins[1:]/Msol, 'C3', label=r'$M_{thresh} (M_\\odot)$'\n",
    ")\n",
    "\n",
    "max_plot, = plt.plot(\n",
    "    1+z_list[1:], Mmax, 'C2', label=r'$M_{max} (M_\\odot)$'\n",
    ")\n",
    "\n",
    "ymin = 10**3\n",
    "greyness = .2\n",
    "ax.fill_between(rs_vec[1:], ymin, Mcuts[1:], interpolate=True, \n",
    "                color=(1-greyness,1-greyness,1-greyness))\n",
    "\n",
    "ax.set_xscale('log')\n",
    "ax.set_yscale('log')\n",
    "\n",
    "leg_T = plt.legend(\n",
    "    handles=[thresh_plot, max_plot], loc=2, \n",
    "    title=r'$m_\\chi$ = 30 MeV, $f_{\\chi,\\mathrm{int}} = 0.01$'\n",
    ")\n",
    "\n",
    "plt.setp(leg_T.get_title(),fontsize=28)\n",
    "\n",
    "plt.title(r'\\bf{Mass Threshold vs redshift}')\n",
    "plt.xlabel(r'Redshift $(1+z)$')\n",
    "plt.ylabel('Mass [$M_\\odot$]')\n",
    "plt.axis([1, 50, ymin, 10**15])\n",
    "\n",
    "#plt.savefig('/Users/'+user+'/Dropbox (MIT)/21cm_pwave/plots/Cooling/M_thresh_vs_rs')\n",
    "\n",
    "np.sqrt(3*max(soln[-79:,1])/mDM) * phys.c * 10**-5"
   ]
  },
  {
   "cell_type": "code",
   "execution_count": null,
   "metadata": {},
   "outputs": [],
   "source": [
    "steps = 100\n",
    "Mmax = np.zeros(steps)\n",
    "Ms = 10**np.arange(7,15,.01)\n",
    "z_list = np.arange(0, 50+50/steps, 50/steps)\n",
    "h = hmf.MassFunction(z=0.0,Mmin=7,hmf_model=\"SMT\")\n",
    "\n",
    "halo_num = 1 # If the the # of halos of a given mass in a hubble volume\n",
    "             # is less than halo_num, then there are basically no haloes of that mass or above\n",
    "\n",
    "for k in np.arange(steps):\n",
    "    #indx = len(h.dndm) - np.searchsorted(np.flipud(h.dndm),10**-21) - 1\n",
    "    tmp = (Ms[1:] - Ms[:-1])*h.dndm[:-1]*(phys.c/phys.hubble(1+z_list[k])/3.086e24)**3/phys.h**4\n",
    "    if tmp[0] < halo_num:\n",
    "        Mmax[k] = 0\n",
    "    else:\n",
    "        indx = len(tmp) - np.searchsorted(np.flipud(tmp), halo_num) - 1\n",
    "        Mmax[k] = Ms[indx]\n",
    "    h.update(z=z_list[k+1])\n",
    "    \n",
    "Mthresh_interp = interp1d(rs_vec[1:], Mcuts[1:])\n",
    "tmp = Mthresh_interp(1+z_list)\n",
    "indx = np.searchsorted(tmp[:-1] - Mmax, 0)\n",
    "print(1+z_list[indx])"
   ]
  },
  {
   "cell_type": "markdown",
   "metadata": {},
   "source": [
    "## T$_{DM}$ $\\neq$ 0 "
   ]
  },
  {
   "cell_type": "markdown",
   "metadata": {},
   "source": [
    "When $T_{DM} \\neq 0$, the DM has a non-zero velocity dispersion and is not captured by all haloes, i.e. free streams. \n",
    "We approximate this effect by cutting off our integrals over halo masses above at a minimum halo size.\n",
    "We determine this minimum halo size with the virial theorem, which associates a velocity (set by $T_{DM}$) \n",
    "with a halo mass.\n",
    "\n",
    "The virial theorem gives us \n",
    "\\begin{equation}\n",
    "    2\\langle T \\rangle = -n \\langle U \\rangle \\implies m_{DM} v^2 = \\frac{G M m_{DM}}{r_\\Delta}\n",
    "\\end{equation}\n",
    "Using the previous definition of $r_\\Delta$ and $v = \\sqrt{\\frac{3 k_B T_{DM}}{m_{DM}}} c$ we find \n",
    "\n",
    "\\begin{equation}\n",
    "    M = \\frac{v^3}{\\sqrt{ \\frac{4}{3}\\pi \\, (200 \\, \\rho_c(z)) \\; G^3 }}\n",
    "     = \\frac{v^3}{(1+z)^{3/2} \\sqrt{ \\frac{4}{3}\\pi \\, (200 \\, \\rho_c(0)) \\; G^3 }}\n",
    "\\end{equation}"
   ]
  },
  {
   "cell_type": "code",
   "execution_count": null,
   "metadata": {},
   "outputs": [],
   "source": [
    "#M_mins = (3*soln[:,1] * phys.c**2 /(mDM * G * rs_vec))**(3/2) / np.sqrt(4/3 * np.pi * 200 * phys.rho_crit)\n",
    "\n",
    "vDM = np.sqrt(3*soln[:,1]/mDM) * phys.c\n",
    "const = np.sqrt(4 * np.pi * Delta * phys.rho_crit * G**3 / 3)\n",
    "Mcuts = vDM**3 / rs_vec**(3/2) / const\n",
    "\n",
    "interp_Mcuts = scipy.interpolate.interp1d(rs_vec,Mcuts)\n",
    "\n",
    "print(Mcuts)"
   ]
  },
  {
   "cell_type": "markdown",
   "metadata": {},
   "source": [
    "# Compare to EDGES"
   ]
  },
  {
   "cell_type": "markdown",
   "metadata": {},
   "source": [
    "### EDGES Signal"
   ]
  },
  {
   "cell_type": "code",
   "execution_count": null,
   "metadata": {},
   "outputs": [],
   "source": [
    "#Download the EDGES signal\n",
    "import csv\n",
    "length = 115\n",
    "width = 2\n",
    "datums = np.zeros([length,width])\n",
    "with open('/Users/gridgway/Desktop/WebplotDigitizer/EDGES/EDGES_trough.csv') as csvfile:\n",
    "    reader = csv.reader(csvfile, delimiter= ',')\n",
    "    for k,row in enumerate(reader):\n",
    "        datums[k,:] = [float(r) for r in row]\n",
    "\n",
    "xe_interp = np.flipud(np.interp(np.flipud(datums[:,0]), np.flipud(redshift), np.flipud(xe)))\n",
    "Tm_interp = np.flipud(np.interp(np.flipud(datums[:,0]), np.flipud(rs_vec-1), np.flipud(soln[:,0]/phys.kB)))\n",
    "TCMB_interp = np.flipud(np.interp(np.flipud(datums[:,0]), np.flipud(redshift), np.flipud(T_CMB)))\n",
    "\n",
    "# Calculate T_S given T_m and T_R = T_CMB\n",
    "num = np.sqrt(.15/10/phys.omega_m)*(phys.omega_baryon*phys.h/.02)*23*.001\n",
    "one_minus_ratio = datums[:,1] / num / (1-xe_interp) / np.sqrt(1+datums[:,0])\n",
    "one_minus_ratio[one_minus_ratio > 0] = 0;\n",
    "temp_dat = 1-one_minus_ratio\n",
    "T_S = TCMB_interp/temp_dat"
   ]
  },
  {
   "cell_type": "markdown",
   "metadata": {},
   "source": [
    "### $J_\\alpha$"
   ]
  },
  {
   "cell_type": "code",
   "execution_count": null,
   "metadata": {},
   "outputs": [],
   "source": [
    "# x_alpha_with_DM = (T_S/TCMB_interp - 1)/(1-T_S/Tm_interp)\n",
    "# x_alpha_with_DM = np.flipud(np.interp(np.flipud(redshift), np.flipud(datums[:,0]), np.flipud(x_alpha_with_DM)))\n",
    "\n",
    "# for i in np.arange(len(x_alpha_with_DM)):\n",
    "#     if x_alpha_with_DM[i] < 0:\n",
    "#         x_alpha_with_DM[i] = 10\n",
    "\n",
    "# J_alpha_DM = J_alpha*(x_alpha_with_DM/x_alpha - 1)\n",
    "# # There should be no negative fluxes\n",
    "# for i,j in enumerate(J_alpha_DM):\n",
    "#     if j<0:\n",
    "#         J_alpha_DM[i] = 1e-12\n",
    "\n",
    "# #J_alpha_DM=np.zeros_like(J_alpha_DM)\n",
    "\n",
    "J_alpha_DM_raw = dm_injection_rate(rs_vec, inj_param*1e-3, 1) * halo_boost * (\n",
    "    phys.c/(4*np.pi*phys.lya_eng)/(phys.hubble(rs_vec)*phys.lya_freq)\n",
    ")\n",
    "J_alpha_DM = np.flipud(np.interp(np.flipud(redshift), np.flipud(rs_vec-1), np.flipud(J_alpha_DM_raw)))\n",
    "\n",
    "x_alpha_with_DM = x_alpha*(1 + J_alpha_DM/J_alpha)\n",
    "\n",
    "T_m_with_DM = np.flipud(np.interp(np.flipud(redshift), np.flipud(rs_vec-1), np.flipud(soln[:,0]/phys.kB)))\n",
    "\n",
    "x_c_arr_with_DM = np.zeros_like(redshift)#x_c(T_m_with_DM, T_CMB, xe, 1+redshift)\n",
    "T_S_from_x_alpha_with_DM = ((1/T_CMB + (x_alpha_with_DM + x_c_arr_with_DM)*(1/T_m_with_DM))/\n",
    "                            (1 + x_alpha_with_DM + x_c_arr_with_DM))**-1"
   ]
  },
  {
   "cell_type": "code",
   "execution_count": null,
   "metadata": {},
   "outputs": [],
   "source": [
    "#rs_vec[-1000:-1:10]\n",
    "J_alpha_DM_raw[rs_vec<23]"
   ]
  },
  {
   "cell_type": "code",
   "execution_count": null,
   "metadata": {},
   "outputs": [],
   "source": [
    "#J_alpha_DM_plot_ideal = J_alpha_DM_plot"
   ]
  },
  {
   "cell_type": "code",
   "execution_count": null,
   "metadata": {},
   "outputs": [],
   "source": [
    "plt.figure()\n",
    "\n",
    "ax = plt.gca()\n",
    "\n",
    "##Try tmp=19\n",
    "#tmp=20\n",
    "#J_alpha_DM[redshift>tmp] =  0\n",
    "#J_alpha_DM[redshift>tmp] =  (1e8 * J_alpha[redshift>tmp]/redshift[redshift>tmp])**3\n",
    "#J_alpha_DM[redshift>0] =  (1e8 * J_alpha[redshift>0]/redshift[redshift>0])**3\n",
    "#J_alpha_DM[redshift>19] =  J_alpha_DM[redshift<19][0] * np.exp(-(redshift[redshift>19]-19))\n",
    "\n",
    "J_alpha_plot, = plt.plot(redshift, J_alpha, label='Astrophysical')\n",
    "J_alpha_DM_plot, = plt.plot(redshift, J_alpha_DM, label='DM')\n",
    "#J_combined_plot, = plt.plot(redshift, J_alpha+J_alpha_DM, label='combined')\n",
    "\n",
    "leg = plt.legend(handles=[J_alpha_plot, J_alpha_DM_plot, J_alpha_DM_plot_ideal]#, J_combined_plot]#, J_extra_plot]\n",
    "                )\n",
    "\n",
    "plt.title(r'Lyman-$\\alpha$ Flux')\n",
    "plt.xlabel(r'Redshift $z$')\n",
    "plt.ylabel(r'$J_\\alpha$ [cm$^2$ s$^{-1}$ Hz$^{-1}$ sr$^{-1}$]')\n",
    "\n",
    "plt.axis([5.5, 33, 1e-16, 1e-7])\n",
    "\n",
    "ax.set_xscale('log')\n",
    "ax.set_yscale('log')\n",
    "\n"
   ]
  },
  {
   "cell_type": "code",
   "execution_count": null,
   "metadata": {
    "scrolled": false
   },
   "outputs": [],
   "source": [
    "plt.figure()\n",
    "\n",
    "ax = plt.gca()\n",
    "\n",
    "# T_S_from_x_alpha_with_DM = np.flipud(\n",
    "#     np.interp(np.flipud(redshift), np.flipud(rs_vec-1), np.flipud(soln[:,0]/phys.kB))\n",
    "# )\n",
    "\n",
    "T_21_from_x_alpha = get_T_21(xe, T_CMB, T_S_from_x_alpha, redshift)\n",
    "T_21_from_x_alpha_with_DM = get_T_21(xe, T_CMB, T_S_from_x_alpha_with_DM, redshift)\n",
    "#T_21_from_x_alpha_with_DM = get_T_21(xe_interp, TCMB_interp, T_S, datums[:,0])  #T_S set to T_m\n",
    "\n",
    "EDGES_plt, = plt.plot(datums[:,0], datums[:,1]*1000, label = r'EDGES', color = 'black')\n",
    "x_alpha_plt, = plt.plot(redshift, T_21_from_x_alpha*1000, label = r'Calculated, without DM')\n",
    "x_alpha_with_DM_plt, = plt.plot(redshift, T_21_from_x_alpha_with_DM*1000, label = r'Calculated, with DM')\n",
    "#x_alpha_with_DM_plt, = plt.plot(datums[:,0], T_21_from_x_alpha_with_DM*1000, label = r'Calculated, with DM') #T_S = T_m\n",
    "code_plt, = plt.plot(redshift, T_21*1000, '--', label = r'from \\texttt{21cmFAST}')\n",
    "\n",
    "plt.axhline(0, linestyle=':', color='k')\n",
    "\n",
    "plt.legend(\n",
    "    handles=[x_alpha_plt, x_alpha_with_DM_plt, code_plt, EDGES_plt]\n",
    "    )\n",
    "\n",
    "#plt.savefig('/Users/'+user+'/Dropbox (MIT)/21cm_pwave/plots/Cooling/T_21_standard.pdf')\n",
    "\n",
    "plt.title(r'$T_{21},$ reionization off')\n",
    "plt.xlabel(r'Redshift $1+z$')\n",
    "plt.ylabel('Temperature [mK]')\n",
    "plt.axis([13, 27, -1000, 30])"
   ]
  },
  {
   "cell_type": "code",
   "execution_count": null,
   "metadata": {},
   "outputs": [],
   "source": [
    "dm_injection_rate(rs_vec, inj_param, 1) * halo_boost"
   ]
  },
  {
   "cell_type": "markdown",
   "metadata": {},
   "source": [
    "# Scratch"
   ]
  },
  {
   "cell_type": "markdown",
   "metadata": {},
   "source": [
    "## TLA Full Solution - Example 1"
   ]
  },
  {
   "cell_type": "code",
   "execution_count": null,
   "metadata": {},
   "outputs": [],
   "source": [
    "mDM = 3e7\n",
    "fDM = .01\n",
    "n = -4\n",
    "\n",
    "# real scattering cross section is xsec*v**-n/mu**2\n",
    "xsec = 1e-36\n",
    "inj_type = 'swave'\n",
    "species = 'elec'\n",
    "inj_param = 1e-30\n",
    "\n",
    "# Set all of the fractions and DM injection functions.\n",
    "\n",
    "def f_H_ion(rs, xe):\n",
    "    if inj_type == 'decay':\n",
    "        mass_fac = 0.5\n",
    "        if species == 'elec':\n",
    "            interp_func = interp2d(log10eng_elec_decay, log10rs_elec_decay, log10f_elec_decay['H_ion'])\n",
    "            mass_sub = phys.me\n",
    "        elif species == 'phot':\n",
    "            interp_func = interp2d(log10eng_phot_decay, log10rs_phot_decay, log10f_phot_decay['H_ion'])\n",
    "            mass_sub = 0\n",
    "    elif inj_type == 'swave':\n",
    "        mass_fac = 1.\n",
    "        if species == 'elec':\n",
    "            interp_func = interp2d(log10eng_elec_swave, log10rs_elec_swave, log10f_elec_swave['H_ion'])\n",
    "            mass_sub = phys.me\n",
    "        elif species == 'phot':\n",
    "            interp_func = interp2d(log10eng_phot_swave, log10rs_phot_swave, log10f_phot_swave['H_ion'])\n",
    "            mass_sub = 0\n",
    "        \n",
    "    return 10**interp_func(np.log10(mDM*mass_fac - mass_sub), np.log10(rs))[0]\n",
    "\n",
    "\n",
    "def f_H_exc(rs, xe):\n",
    "    if inj_type == 'decay':\n",
    "        mass_fac = 0.5\n",
    "        if species == 'elec':\n",
    "            interp_func = interp2d(log10eng_elec_decay, log10rs_elec_decay, log10f_elec_decay['H_exc'])\n",
    "            mass_sub = phys.me\n",
    "        elif species == 'phot':\n",
    "            interp_func = interp2d(log10eng_phot_decay, log10rs_phot_decay, log10f_phot_decay['H_exc'])\n",
    "            mass_sub = 0\n",
    "    elif inj_type == 'swave':\n",
    "        mass_fac = 1.\n",
    "        if species == 'elec':\n",
    "            interp_func = interp2d(log10eng_elec_swave, log10rs_elec_swave, log10f_elec_swave['H_exc'])\n",
    "            mass_sub = phys.me\n",
    "        elif species == 'phot':\n",
    "            interp_func = interp2d(log10eng_phot_swave, log10rs_phot_swave, log10f_phot_swave['H_exc'])\n",
    "            mass_sub = 0\n",
    "    return 10**interp_func(np.log10(mDM*mass_fac - mass_sub), np.log10(rs))[0]\n",
    "\n",
    "def f_heating(rs, xe):\n",
    "    if inj_type == 'decay':\n",
    "        mass_fac = 0.5\n",
    "        if species == 'elec':\n",
    "            interp_func = interp2d(log10eng_elec_decay, log10rs_elec_decay, log10f_elec_decay['heating'])\n",
    "            mass_sub = phys.me\n",
    "        elif species == 'phot':\n",
    "            interp_func = interp2d(log10eng_phot_decay, log10rs_phot_decay, log10f_phot_decay['heating'])\n",
    "            mass_sub = 0\n",
    "    elif inj_type == 'swave':\n",
    "        mass_fac = 1.\n",
    "        if species == 'elec':\n",
    "            interp_func = interp2d(log10eng_elec_swave, log10rs_elec_swave, log10f_elec_swave['heating'])\n",
    "            mass_sub = phys.me\n",
    "        elif species == 'phot':\n",
    "            interp_func = interp2d(log10eng_phot_swave, log10rs_phot_swave, log10f_phot_swave['heating'])\n",
    "            mass_sub = 0\n",
    "    return 10**interp_func(np.log10(mDM*mass_fac - mass_sub), np.log10(rs))[0]\n",
    "\n",
    "def dm_injection_rate(rs, param):\n",
    "    if inj_type == 'decay':\n",
    "        return phys.rho_DM*rs**3/param\n",
    "    elif inj_type == 'swave':\n",
    "        return phys.rho_DM**2*rs**6*param/mDM\n",
    "\n",
    "\n",
    "rs_start = 2000\n",
    "rs_vec = 1 + np.arange(0,rs_start-0.5,0.5)\n",
    "rs_vec = np.flipud(rs_vec)\n",
    "\n",
    "V_pec_0 = 3e-5*0\n",
    "\n",
    "init_cond = [phys.TCMB(rs_start), phys.TCMB(rs_start)*0, V_pec_0,  .99999]\n",
    "soln = get_history(init_cond, f_H_ion, f_H_exc, f_heating, dm_injection_rate, inj_param, rs_vec, dm_baryon_switch=True, dm_params=[mDM, xsec, fDM, n])\n",
    "new_std_soln = get_history(init_cond, f_H_ion, f_H_exc, f_heating, dm_injection_rate, 0*inj_param, rs_vec, dm_baryon_switch=True, dm_params=[mDM, 0, fDM, n])\n",
    "soln_no_cooling = get_history(init_cond, f_H_ion, f_H_exc, f_heating, dm_injection_rate, inj_param, rs_vec, dm_baryon_switch=True, dm_params=[mDM, 0, fDM, n])\n"
   ]
  },
  {
   "cell_type": "code",
   "execution_count": null,
   "metadata": {
    "scrolled": false
   },
   "outputs": [],
   "source": [
    "plt.figure()\n",
    "\n",
    "ax = plt.gca()\n",
    "\n",
    "T_IGM_std, = plt.plot(rs_vec, new_std_soln[:,0]/phys.kB, label=r'$T_m$, Standard', linestyle=':')\n",
    "T_IGM_no_cooling, = plt.plot(rs_vec, soln_no_cooling[:,0]/phys.kB, label=r'$T_m$, $\\chi \\chi \\to e^+e^-$ Only')\n",
    "T_IGM, = plt.plot(rs_vec, soln[:,0]/phys.kB, label=r'$T_m$, $\\chi \\chi \\to e^+e^-$ + Cooling')\n",
    "T_DM, = plt.plot(rs_vec, soln[:,1]/phys.kB, label=r'$T_\\chi$, $\\chi \\chi \\to e^+e^-$ + Cooling')\n",
    "plt.errorbar([18.2], [5.2], fmt=\"_\", capsize=10, yerr=3, uplims=True)\n",
    "T_CMB, = plt.plot(rs_vec, phys.TCMB(rs_vec)/phys.kB, 'k--', label=r'$T_\\mathrm{CMB}$')\n",
    "\n",
    "ax.set_xscale('log')\n",
    "ax.set_yscale('log')\n",
    "\n",
    "leg_T = plt.legend(\n",
    "    handles=[T_IGM_std, T_IGM_no_cooling, T_IGM, T_DM, T_CMB], loc=2, \n",
    "    title=r'$m_\\chi$ = 30 MeV, $f_{\\chi,\\mathrm{int}} = 0.01$'\n",
    ")\n",
    "\n",
    "plt.setp(leg_T.get_title(),fontsize=28)\n",
    "\n",
    "plt.title(r'\\bf{Temperature History}')\n",
    "plt.xlabel(r'Redshift $(1+z)$')\n",
    "plt.ylabel('Temperature [K]')\n",
    "plt.axis([1, rs_start, 1e-1, 1e6])\n",
    "\n",
    "plt.savefig('/Users/hongwan/Dropbox (MIT)/21cm_DM/drafts/annihilation_decay/weak_coupling_Tm_history.pdf')\n",
    "\n",
    "plt.figure()\n",
    "ax = plt.gca()\n",
    "\n",
    "xHII_std, = plt.plot(std_soln_rs, std_soln_xe, '-', linewidth=2, label=r'Standard', linestyle=':')\n",
    "xHII_no_cooling, = plt.plot(rs_vec, soln_no_cooling[:,3], label=r'$\\chi \\chi \\to e^+e^-$ Only')\n",
    "xHII, = plt.plot(rs_vec, soln[:,3], label=r'$\\chi \\chi \\to e^+e^-$ + Cooling')\n",
    "\n",
    "\n",
    "# xHII, = plt.plot(rs_vec, soln[:,2], label=r'$x_\\mathrm{HII}$, Enhanced Recombination')\n",
    "\n",
    "\n",
    "ax.set_xscale('log')\n",
    "ax.set_yscale('log')\n",
    "\n",
    "leg_xe = plt.legend(handles=[xHII_std, xHII_no_cooling, xHII], title=r'$m_\\chi$ = 30 MeV, $f_{\\chi,\\mathrm{int}} = 0.01$')\n",
    "\n",
    "plt.setp(leg_xe.get_title(),fontsize=28)\n",
    "\n",
    "plt.title(r'\\bf{Ionization History}')\n",
    "plt.xlabel(r'Redshift $(1+z)$')\n",
    "plt.ylabel(r'Ionization Fraction $x_e$')\n",
    "plt.axis([1, 2e3, 1e-4, 2])\n",
    "\n",
    "plt.savefig('/Users/hongwan/Dropbox (MIT)/21cm_DM/drafts/annihilation_decay/weak_coupling_xe_history.pdf')"
   ]
  },
  {
   "cell_type": "markdown",
   "metadata": {},
   "source": [
    "# Import $f(z)$"
   ]
  },
  {
   "cell_type": "code",
   "execution_count": null,
   "metadata": {},
   "outputs": [],
   "source": [
    "user = 'gridgway'\n",
    "greg = ''\n",
    "\n",
    "#----------------------------------- decay -------------------------------------#\n",
    "\n",
    "fz_elec_decay = np.loadtxt('/Users/'+user+'/Dropbox (MIT)/21cm_pwave/TLA_code/fz_electron_decay.dat', delimiter=',')\n",
    "\n",
    "log10rs_elec_decay  = fz_elec_decay[0:70, 1]\n",
    "log10eng_elec_decay = fz_elec_decay[0:2800:70, 0] \n",
    "\n",
    "log10f_elec_decay = {\n",
    "    'H_ion':   np.transpose(np.reshape(fz_elec_decay[0:2800,2], (40,70))),\n",
    "    'He_ion':  np.transpose(np.reshape(fz_elec_decay[2800:5600,2], (40,70))),\n",
    "    'H_exc':   np.transpose(np.reshape(fz_elec_decay[5600:8400,2], (40,70))),\n",
    "    'heating': np.transpose(np.reshape(fz_elec_decay[8400:11200,2], (40,70))),\n",
    "    'cont':    np.transpose(np.reshape(fz_elec_decay[11200:14000,2], (40,70))) \n",
    "}\n",
    "\n",
    "fz_phot_decay = np.loadtxt('/Users/'+user+'/Dropbox (MIT)/21cm_pwave/TLA_code/fz_photon_decay.dat', delimiter=',')\n",
    "\n",
    "log10rs_phot_decay  = fz_phot_decay[0:70, 1]\n",
    "log10eng_phot_decay = fz_phot_decay[0:2800:70, 0] \n",
    "\n",
    "log10f_phot_decay = {\n",
    "    'H_ion':   np.transpose(np.reshape(fz_phot_decay[0:2800,2], (40,70))),\n",
    "    'He_ion':  np.transpose(np.reshape(fz_phot_decay[2800:5600,2], (40,70))),\n",
    "    'H_exc':   np.transpose(np.reshape(fz_phot_decay[5600:8400,2], (40,70))),\n",
    "    'heating': np.transpose(np.reshape(fz_phot_decay[8400:11200,2], (40,70))),\n",
    "    'cont':    np.transpose(np.reshape(fz_phot_decay[11200:14000,2], (40,70)))\n",
    "}\n",
    "\n",
    "# fz_elec_swave = np.loadtxt('/Users/hongwan/Dropbox (MIT)/DM_IGM_Scattering/TLA_code/fz_electron_swave_noboost.dat', delimiter=',')\n",
    "\n",
    "#----------------------------------- swave -------------------------------------#\n",
    "\n",
    "fz_elec_swave = np.loadtxt('/Users/'+user+'/Dropbox (MIT)/21cm_pwave/TLA_code/fz_electron_swave_NFW_no_subs.dat', delimiter=',')\n",
    "\n",
    "\n",
    "log10rs_elec_swave  = fz_elec_swave[0:70, 1]\n",
    "log10eng_elec_swave = fz_elec_swave[0:2800:70, 0] \n",
    "\n",
    "log10f_elec_swave = {\n",
    "    'H_ion':   np.transpose(np.reshape(fz_elec_swave[0:2800,2], (40,70))),\n",
    "    'He_ion':  np.transpose(np.reshape(fz_elec_swave[2800:5600,2], (40,70))),\n",
    "    'H_exc':   np.transpose(np.reshape(fz_elec_swave[5600:8400,2], (40,70))),\n",
    "    'heating': np.transpose(np.reshape(fz_elec_swave[8400:11200,2], (40,70))),\n",
    "    'cont':    np.transpose(np.reshape(fz_elec_swave[11200:14000,2], (40,70))) \n",
    "}\n",
    "\n",
    "fz_phot_swave = np.loadtxt('/Users/'+user+'/Dropbox (MIT)/21cm_pwave/TLA_code/fz_photon_swave_NFW_no_subs.dat', delimiter=',')\n",
    "\n",
    "log10rs_phot_swave  = fz_phot_swave[0:70, 1]\n",
    "log10eng_phot_swave = fz_phot_swave[0:2800:70, 0] \n",
    "\n",
    "log10f_phot_swave = {\n",
    "    'H_ion':   np.transpose(np.reshape(fz_phot_swave[0:2800,2], (40,70))),\n",
    "    'He_ion':  np.transpose(np.reshape(fz_phot_swave[2800:5600,2], (40,70))),\n",
    "    'H_exc':   np.transpose(np.reshape(fz_phot_swave[5600:8400,2], (40,70))),\n",
    "    'heating': np.transpose(np.reshape(fz_phot_swave[8400:11200,2], (40,70))),\n",
    "    'cont':    np.transpose(np.reshape(fz_phot_swave[11200:14000,2], (40,70)))\n",
    "}\n",
    "\n",
    "#----------------------------------- pwave -------------------------------------#\n",
    "\n",
    "fz_elec_pwave = np.loadtxt('/Users/'+user+'/Dropbox (MIT)/21cm_pwave/TLA_code/fz_electron_pwave_NFW_no_subs'+greg+'.dat', delimiter=',')\n",
    "\n",
    "\n",
    "log10rs_elec_pwave  = fz_elec_pwave[0:70, 1]\n",
    "log10eng_elec_pwave = fz_elec_pwave[0:2800:70, 0] \n",
    "\n",
    "log10f_elec_pwave = {\n",
    "    'H_ion':   np.transpose(np.reshape(fz_elec_pwave[0:2800,2], (40,70))),\n",
    "    'He_ion':  np.transpose(np.reshape(fz_elec_pwave[2800:5600,2], (40,70))),\n",
    "    'H_exc':   np.transpose(np.reshape(fz_elec_pwave[5600:8400,2], (40,70))),\n",
    "    'heating': np.transpose(np.reshape(fz_elec_pwave[8400:11200,2], (40,70))),\n",
    "    'cont':    np.transpose(np.reshape(fz_elec_pwave[11200:14000,2], (40,70))) \n",
    "}\n",
    "\n",
    "fz_phot_pwave = np.loadtxt('/Users/'+user+'/Dropbox (MIT)/21cm_pwave/TLA_code/fz_photon_pwave_NFW_no_subs'+greg+'.dat', delimiter=',')\n",
    "\n",
    "log10rs_phot_pwave  = fz_phot_pwave[0:70, 1]\n",
    "log10eng_phot_pwave = fz_phot_pwave[0:2800:70, 0] \n",
    "\n",
    "log10f_phot_pwave = {\n",
    "    'H_ion':   np.transpose(np.reshape(fz_phot_pwave[0:2800,2], (40,70))),\n",
    "    'He_ion':  np.transpose(np.reshape(fz_phot_pwave[2800:5600,2], (40,70))),\n",
    "    'H_exc':   np.transpose(np.reshape(fz_phot_pwave[5600:8400,2], (40,70))),\n",
    "    'heating': np.transpose(np.reshape(fz_phot_pwave[8400:11200,2], (40,70))),\n",
    "    'cont':    np.transpose(np.reshape(fz_phot_pwave[11200:14000,2], (40,70)))\n",
    "}\n",
    "\n"
   ]
  },
  {
   "cell_type": "markdown",
   "metadata": {},
   "source": [
    "### $f_c(z)$ linear interpolation"
   ]
  },
  {
   "cell_type": "code",
   "execution_count": null,
   "metadata": {},
   "outputs": [],
   "source": [
    "#!!! Remember to check for other type of extrapolation\n",
    "#!!! Check inds_In case if z_dep exactly aligns with an injection redshift.\n",
    "#!!! you're doing linear interpolation incorrectly\n",
    "\n",
    "#linear interpolation\n",
    "def f(chan, log10E, z_dep):\n",
    "    E_extrap = False\n",
    "    dTdE = 0\n",
    "    z_extrap = False\n",
    "    dTdz = 0\n",
    "    epsilon = 1e-12\n",
    "    \n",
    "    #Finding Indices\n",
    "    inds_In = log10rsIn >= -12 + np.log10(1+z_dep)\n",
    "    #inds_In[np.searchsorted(inds_In, True) - 1] = True\n",
    "    \n",
    "    \n",
    "    ind_dep = np.searchsorted(log10rsOut, np.log10(1+z_dep)+epsilon)-1\n",
    "    if ind_dep < 0:\n",
    "        z_extrap = True\n",
    "        ind_dep = 0\n",
    "    if ind_dep == len(log10rsOut) - 1:\n",
    "        z_extrap = True\n",
    "        \n",
    "    ind_E = np.searchsorted(log10eng, log10E+epsilon) - 1\n",
    "    if ind_E < 0:\n",
    "        E_extrap = True\n",
    "        ind_E = 0\n",
    "    if ind_E == len(log10eng) - 1:\n",
    "        E_extrap = True\n",
    "    \n",
    "    rs_In = 10**log10rsIn[inds_In]\n",
    "    rs_Out = 10**log10rsOut[inds_In]\n",
    "    \n",
    "    dlogz_in = np.diff(np.log(rs_In))\n",
    "    dlogz_in = np.insert(dlogz_in, 0, dlogz_in[0])\n",
    "    #dlogz_in = np.append(dlogz, dlogz[-1])\n",
    "    \n",
    "    dlogz_out = np.diff(np.log(rs_Out))\n",
    "    dlogz_out = np.insert(dlogz_out, 0, dlogz_out[0])\n",
    "    \n",
    "    # discrete derivatives for linear interpolation\n",
    "    if not E_extrap:\n",
    "        dTdE = (T_kji[chan][ind_E+1, ind_dep, inds_In]-T_kji[chan][ind_E, ind_dep, inds_In]\n",
    "               )/(log10eng[ind_E+1]-log10eng[ind_E])/dlogz_out[ind_dep]\n",
    "    \n",
    "    if not z_extrap:\n",
    "        dTdz = (T_kji[chan][ind_E, ind_dep+1, inds_In]/dlogz_out[ind_dep]-\n",
    "                T_kji[chan][ind_E, ind_dep, inds_In]/dlogz_out[ind_dep]\n",
    "               )/(log10rsOut[ind_dep+1]-log10rsOut[ind_dep])\n",
    "    \n",
    "    # discrete integral    \n",
    "    return phys.hubble(1+z_dep)/(1+z_dep)**5 * np.sum(\n",
    "         rs_In**5/phys.hubble(rs_In) * (\n",
    "             T_kji[chan][ind_E, ind_dep, inds_In]/dlogz_out[ind_dep] + \n",
    "             dTdz * (np.log10(1+z_dep)-log10rsOut[ind_dep]) +\n",
    "             dTdE * (log10E-log10eng[ind_E])\n",
    "         ) * Bps[inds_In] * dlogz_out\n",
    "     ) \n",
    "#To make this function match combEffectiveFWithHaloBoost from the Mathematica notebook,\n",
    "#change dlogz_in to dlogz_out, and change dlogz_out[ind_dep+1] to dlogz_out[ind_dep]"
   ]
  },
  {
   "cell_type": "code",
   "execution_count": null,
   "metadata": {},
   "outputs": [],
   "source": [
    "print((np.log10(f('H_ion',log10eng[4],10**log10rsOut[5]-1))+\n",
    " np.log10(f('H_ion',log10eng[5],10**log10rsOut[5]-1)))/2)\n",
    "\n",
    "print(np.log10(f('H_ion',(log10eng[4]+log10eng[5])/2,10**log10rsOut[5]-1)))"
   ]
  },
  {
   "cell_type": "code",
   "execution_count": null,
   "metadata": {
    "scrolled": false
   },
   "outputs": [],
   "source": [
    "plt.figure()\n",
    "\n",
    "ax = plt.gca()\n",
    "\n",
    "TCMB_plot, = plt.plot(rs_vec, phys.TCMB(rs_vec)/phys.kB, 'k--', label=r'$T_\\mathrm{CMB}$')\n",
    "T_IGM_std, = plt.plot(rs_vec, new_std_soln[:,0]/phys.kB, label=r'$T_m$, Standard')\n",
    "T_IGM_no_cooling, = plt.plot(\n",
    "    rs_vec, new_std_soln[:,0]/phys.kB - soln_no_cooling[:,0]/phys.kB + soln[:,0]/phys.kB, \n",
    "    label=r'$T_m$, Cooling'\n",
    ")\n",
    "T_DM, = plt.plot(rs_vec, soln[:,1]/phys.kB, label=r'$T_{\\chi,s}$', color = 'C2')\n",
    "T_IGM, = plt.plot(rs_vec, soln[:,0]/phys.kB, label=r'$T_m$, Cooling + Thermal Boost', color = 'C3')\n",
    "plt.errorbar([18.2], [5.2], fmt=\"_\", color='C4', capsize=10, yerr=3, uplims=True)\n",
    "\n",
    "ax.set_xscale('log')\n",
    "ax.set_yscale('log')\n",
    "\n",
    "leg_T = plt.legend(\n",
    "    handles=[TCMB_plot, T_IGM_std, T_IGM_no_cooling, T_DM, T_IGM],\n",
    "    loc=2\n",
    ")\n",
    "\n",
    "plt.setp(leg_T.get_title(),fontsize=28)\n",
    "\n",
    "plt.title(r'\\bf{Temperature History}')\n",
    "plt.xlabel(r'Redshift $(1+z)$')\n",
    "plt.ylabel('Temperature [K]')\n",
    "plt.axis([10, rs_start, 1e-2, 1e6])\n",
    "\n",
    "plt.savefig('/Users/'+user+'/Dropbox (MIT)/21cm_pwave/plots/Cooling/T_EDGES_cool_v_boost.pdf')"
   ]
  },
  {
   "cell_type": "code",
   "execution_count": null,
   "metadata": {},
   "outputs": [],
   "source": []
  }
 ],
 "metadata": {
  "anaconda-cloud": {},
  "kernelspec": {
   "display_name": "Python 3",
   "language": "python",
   "name": "python3"
  },
  "language_info": {
   "codemirror_mode": {
    "name": "ipython",
    "version": 3
   },
   "file_extension": ".py",
   "mimetype": "text/x-python",
   "name": "python",
   "nbconvert_exporter": "python",
   "pygments_lexer": "ipython3",
   "version": "3.7.5"
  },
  "widgets": {
   "state": {
    "2451f511cb2644c69c896ba102b024f0": {
     "views": [
      {
       "cell_index": 23
      }
     ]
    },
    "7eccc4b1714842c381283e46d0ba9bc7": {
     "views": [
      {
       "cell_index": 23
      }
     ]
    },
    "9e7cc866b7664698b3db5239ec40a0a7": {
     "views": [
      {
       "cell_index": 23
      }
     ]
    },
    "a4a71ab0055a434e9fd1f5c64a0be603": {
     "views": [
      {
       "cell_index": 23
      }
     ]
    },
    "a8e92a840495414da9c509671c5a309d": {
     "views": [
      {
       "cell_index": 23
      }
     ]
    },
    "b99fa9066076497ea875ec17e7004f10": {
     "views": [
      {
       "cell_index": 23
      }
     ]
    },
    "eff5222e8431426e9c2f7a4038bfc440": {
     "views": [
      {
       "cell_index": 23
      }
     ]
    },
    "f8c7057d078e40989fb409753f00108f": {
     "views": [
      {
       "cell_index": 23
      }
     ]
    },
    "fc573fb5e461460e89f4635157e26c67": {
     "views": [
      {
       "cell_index": 23
      }
     ]
    }
   },
   "version": "1.2.0"
  }
 },
 "nbformat": 4,
 "nbformat_minor": 2
}
